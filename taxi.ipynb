{
 "cells": [
  {
   "cell_type": "markdown",
   "metadata": {
    "toc": true
   },
   "source": [
    "<h1>Содержание<span class=\"tocSkip\"></span></h1>\n",
    "</font></a></span></li></ul></li><li><span><a href=\"#Подготовка\" data-toc-modified-id=\"Подготовка-1\"><span class=\"toc-item-num\">1&nbsp;&nbsp;</span>Подготовка</a></span></li><li><span><a href=\"#Анализ\" data-toc-modified-id=\"Анализ-2\"><span class=\"toc-item-num\">2&nbsp;&nbsp;</span>Анализ</a></span></li><li><span><a href=\"#Обучение\" data-toc-modified-id=\"Обучение-3\"><span class=\"toc-item-num\">3&nbsp;&nbsp;</span>Обучение</a></span><ul class=\"toc-item\"><li><span><a href=\"#LinearRegression\" data-toc-modified-id=\"LinearRegression-3.1\"><span class=\"toc-item-num\">3.1&nbsp;&nbsp;</span>LinearRegression</a></span></li><li><span><a href=\"#CatBoostRegressor\" data-toc-modified-id=\"CatBoostRegressor-3.2\"><span class=\"toc-item-num\">3.2&nbsp;&nbsp;</span>CatBoostRegressor</a></span></li><li><span><a href=\"#LGBMRegressor\" data-toc-modified-id=\"LGBMRegressor-3.3\"><span class=\"toc-item-num\">3.3&nbsp;&nbsp;</span>LGBMRegressor</a></span></li></ul></li><li><span><a href=\"#Тестирование\" data-toc-modified-id=\"Тестирование-4\"><span class=\"toc-item-num\">4&nbsp;&nbsp;</span>Тестирование</a></span><ul class=\"toc-item\"><li><span><a href=\"#LinearRegression\" data-toc-modified-id=\"LinearRegression-4.1\"><span class=\"toc-item-num\">4.1&nbsp;&nbsp;</span>LinearRegression</a></span></li><li><span><a href=\"#CatBoostRegressor\" data-toc-modified-id=\"CatBoostRegressor-4.2\"><span class=\"toc-item-num\">4.2&nbsp;&nbsp;</span>CatBoostRegressor</a></span></li><li><span><a href=\"#LGBMRegressor\" data-toc-modified-id=\"LGBMRegressor-4.3\"><span class=\"toc-item-num\">4.3&nbsp;&nbsp;</span>LGBMRegressor</a>"
   ]
  },
  {
   "cell_type": "markdown",
   "metadata": {},
   "source": [
    "#  Прогнозирование заказов такси"
   ]
  },
  {
   "cell_type": "markdown",
   "metadata": {},
   "source": [
    "Компания «Чётенькое такси» собрала исторические данные о заказах такси в аэропортах. Чтобы привлекать больше водителей в период пиковой нагрузки, нужно спрогнозировать количество заказов такси на следующий час. Постройте модель для такого предсказания.\n",
    "\n",
    "Значение метрики *RMSE* на тестовой выборке должно быть не больше 48.\n",
    "\n",
    "Вам нужно:\n",
    "\n",
    "1. Загрузить данные и выполнить их ресемплирование по одному часу.\n",
    "2. Проанализировать данные.\n",
    "3. Обучить разные модели с различными гиперпараметрами. Сделать тестовую выборку размером 10% от исходных данных.\n",
    "4. Проверить данные на тестовой выборке и сделать выводы.\n",
    "\n",
    "\n",
    "Данные лежат в файле `taxi.csv`. Количество заказов находится в столбце `num_orders` (от англ. *number of orders*, «число заказов»)."
   ]
  },
  {
   "cell_type": "markdown",
   "metadata": {},
   "source": [
    "## Подготовка"
   ]
  },
  {
   "cell_type": "code",
   "execution_count": 1,
   "metadata": {},
   "outputs": [],
   "source": [
    "#импортируем все необходимые библиотеки и инструменты\n",
    "import pandas as pd\n",
    "import numpy as np\n",
    "import matplotlib.pyplot as plt\n",
    "from sklearn.metrics import mean_squared_error, mean_absolute_error, make_scorer\n",
    "from sklearn.model_selection import cross_val_score, GridSearchCV , train_test_split, TimeSeriesSplit \n",
    "from sklearn.linear_model import LinearRegression\n",
    "from catboost import CatBoostRegressor\n",
    "from lightgbm import LGBMRegressor\n",
    "from statsmodels.tsa.seasonal import seasonal_decompose "
   ]
  },
  {
   "cell_type": "markdown",
   "metadata": {},
   "source": [
    "Чтобы преобразовать нужный столбец в датасете в тип данных datetime, передадим в функцию `read_csv` аргумент `parse_dates`. Индексировать данные будем по первому столбцу."
   ]
  },
  {
   "cell_type": "code",
   "execution_count": 2,
   "metadata": {
    "scrolled": true
   },
   "outputs": [
    {
     "name": "stdout",
     "output_type": "stream",
     "text": [
      "<class 'pandas.core.frame.DataFrame'>\n",
      "DatetimeIndex: 26496 entries, 2018-03-01 00:00:00 to 2018-08-31 23:50:00\n",
      "Data columns (total 1 columns):\n",
      " #   Column      Non-Null Count  Dtype\n",
      "---  ------      --------------  -----\n",
      " 0   num_orders  26496 non-null  int64\n",
      "dtypes: int64(1)\n",
      "memory usage: 414.0 KB\n"
     ]
    },
    {
     "data": {
      "text/plain": [
       "None"
      ]
     },
     "metadata": {},
     "output_type": "display_data"
    },
    {
     "data": {
      "text/html": [
       "<div>\n",
       "<style scoped>\n",
       "    .dataframe tbody tr th:only-of-type {\n",
       "        vertical-align: middle;\n",
       "    }\n",
       "\n",
       "    .dataframe tbody tr th {\n",
       "        vertical-align: top;\n",
       "    }\n",
       "\n",
       "    .dataframe thead th {\n",
       "        text-align: right;\n",
       "    }\n",
       "</style>\n",
       "<table border=\"1\" class=\"dataframe\">\n",
       "  <thead>\n",
       "    <tr style=\"text-align: right;\">\n",
       "      <th></th>\n",
       "      <th>num_orders</th>\n",
       "    </tr>\n",
       "    <tr>\n",
       "      <th>datetime</th>\n",
       "      <th></th>\n",
       "    </tr>\n",
       "  </thead>\n",
       "  <tbody>\n",
       "    <tr>\n",
       "      <th>2018-03-01 00:00:00</th>\n",
       "      <td>9</td>\n",
       "    </tr>\n",
       "    <tr>\n",
       "      <th>2018-03-01 00:10:00</th>\n",
       "      <td>14</td>\n",
       "    </tr>\n",
       "    <tr>\n",
       "      <th>2018-03-01 00:20:00</th>\n",
       "      <td>28</td>\n",
       "    </tr>\n",
       "    <tr>\n",
       "      <th>2018-03-01 00:30:00</th>\n",
       "      <td>20</td>\n",
       "    </tr>\n",
       "    <tr>\n",
       "      <th>2018-03-01 00:40:00</th>\n",
       "      <td>32</td>\n",
       "    </tr>\n",
       "  </tbody>\n",
       "</table>\n",
       "</div>"
      ],
      "text/plain": [
       "                     num_orders\n",
       "datetime                       \n",
       "2018-03-01 00:00:00           9\n",
       "2018-03-01 00:10:00          14\n",
       "2018-03-01 00:20:00          28\n",
       "2018-03-01 00:30:00          20\n",
       "2018-03-01 00:40:00          32"
      ]
     },
     "execution_count": 2,
     "metadata": {},
     "output_type": "execute_result"
    }
   ],
   "source": [
    "taxi = pd.read_csv('/datasets/taxi.csv', index_col=[0], parse_dates=[0])\n",
    "display(taxi.info())\n",
    "taxi.head()"
   ]
  },
  {
   "cell_type": "markdown",
   "metadata": {},
   "source": [
    "Наблюдения в датасете сделаны с разницей в 10 минут. Это слишком подробные данные. Выполним ресемплирование с интервалом в 1 час. Данные суммируем."
   ]
  },
  {
   "cell_type": "code",
   "execution_count": 3,
   "metadata": {},
   "outputs": [],
   "source": [
    "taxi.sort_index(inplace=True)\n",
    "taxi = taxi.resample('1H').sum()"
   ]
  },
  {
   "cell_type": "code",
   "execution_count": 4,
   "metadata": {
    "scrolled": true
   },
   "outputs": [
    {
     "name": "stdout",
     "output_type": "stream",
     "text": [
      "<class 'pandas.core.frame.DataFrame'>\n",
      "DatetimeIndex: 4416 entries, 2018-03-01 00:00:00 to 2018-08-31 23:00:00\n",
      "Freq: H\n",
      "Data columns (total 1 columns):\n",
      " #   Column      Non-Null Count  Dtype\n",
      "---  ------      --------------  -----\n",
      " 0   num_orders  4416 non-null   int64\n",
      "dtypes: int64(1)\n",
      "memory usage: 69.0 KB\n"
     ]
    },
    {
     "data": {
      "text/plain": [
       "None"
      ]
     },
     "metadata": {},
     "output_type": "display_data"
    },
    {
     "data": {
      "text/html": [
       "<div>\n",
       "<style scoped>\n",
       "    .dataframe tbody tr th:only-of-type {\n",
       "        vertical-align: middle;\n",
       "    }\n",
       "\n",
       "    .dataframe tbody tr th {\n",
       "        vertical-align: top;\n",
       "    }\n",
       "\n",
       "    .dataframe thead th {\n",
       "        text-align: right;\n",
       "    }\n",
       "</style>\n",
       "<table border=\"1\" class=\"dataframe\">\n",
       "  <thead>\n",
       "    <tr style=\"text-align: right;\">\n",
       "      <th></th>\n",
       "      <th>num_orders</th>\n",
       "    </tr>\n",
       "    <tr>\n",
       "      <th>datetime</th>\n",
       "      <th></th>\n",
       "    </tr>\n",
       "  </thead>\n",
       "  <tbody>\n",
       "    <tr>\n",
       "      <th>2018-03-01 00:00:00</th>\n",
       "      <td>124</td>\n",
       "    </tr>\n",
       "    <tr>\n",
       "      <th>2018-03-01 01:00:00</th>\n",
       "      <td>85</td>\n",
       "    </tr>\n",
       "    <tr>\n",
       "      <th>2018-03-01 02:00:00</th>\n",
       "      <td>71</td>\n",
       "    </tr>\n",
       "    <tr>\n",
       "      <th>2018-03-01 03:00:00</th>\n",
       "      <td>66</td>\n",
       "    </tr>\n",
       "    <tr>\n",
       "      <th>2018-03-01 04:00:00</th>\n",
       "      <td>43</td>\n",
       "    </tr>\n",
       "  </tbody>\n",
       "</table>\n",
       "</div>"
      ],
      "text/plain": [
       "                     num_orders\n",
       "datetime                       \n",
       "2018-03-01 00:00:00         124\n",
       "2018-03-01 01:00:00          85\n",
       "2018-03-01 02:00:00          71\n",
       "2018-03-01 03:00:00          66\n",
       "2018-03-01 04:00:00          43"
      ]
     },
     "execution_count": 4,
     "metadata": {},
     "output_type": "execute_result"
    }
   ],
   "source": [
    "display(taxi.info())\n",
    "taxi.head()"
   ]
  },
  {
   "cell_type": "markdown",
   "metadata": {},
   "source": [
    "Данные подготовлены. Проанализируем их."
   ]
  },
  {
   "cell_type": "markdown",
   "metadata": {},
   "source": [
    "## Анализ"
   ]
  },
  {
   "cell_type": "markdown",
   "metadata": {},
   "source": [
    "Изучим данные - в какой промежуток времени велось наблюдение?"
   ]
  },
  {
   "cell_type": "code",
   "execution_count": 5,
   "metadata": {
    "scrolled": true
   },
   "outputs": [
    {
     "name": "stdout",
     "output_type": "stream",
     "text": [
      "Начало наблюдения: 2018-03-01 00:00:00\n",
      "Конец наблюдения: 2018-08-31 23:00:00\n"
     ]
    }
   ],
   "source": [
    "print(\"Начало наблюдения:\", taxi.index.min())\n",
    "print(\"Конец наблюдения:\", taxi.index.max())"
   ]
  },
  {
   "cell_type": "markdown",
   "metadata": {},
   "source": [
    "Нам предоставлены данные с марта по август (включительно) 2018 года."
   ]
  },
  {
   "cell_type": "markdown",
   "metadata": {},
   "source": [
    "Оценим данные на графике."
   ]
  },
  {
   "cell_type": "code",
   "execution_count": 6,
   "metadata": {},
   "outputs": [
    {
     "data": {
      "text/plain": [
       "<AxesSubplot:xlabel='datetime'>"
      ]
     },
     "execution_count": 6,
     "metadata": {},
     "output_type": "execute_result"
    },
    {
     "data": {
      "image/png": "[encoded data removed]",
      "text/plain": [
       "<Figure size 432x288 with 1 Axes>"
      ]
     },
     "metadata": {
      "needs_background": "light"
     },
     "output_type": "display_data"
    }
   ],
   "source": [
    "taxi.plot()"
   ]
  },
  {
   "cell_type": "markdown",
   "metadata": {},
   "source": [
    "Мы не сможем изучить сезонность по предоставленным данным, так как информация есть только по срезу в полгода. Но можем оценить, как меняется объем заказов от первого наблюдения к последнему. Для наглядности ресемплируем данные по неделе и сохраним с новую переменную. Выведем на график."
   ]
  },
  {
   "cell_type": "code",
   "execution_count": 7,
   "metadata": {},
   "outputs": [
    {
     "data": {
      "text/plain": [
       "<AxesSubplot:xlabel='datetime'>"
      ]
     },
     "execution_count": 7,
     "metadata": {},
     "output_type": "execute_result"
    },
    {
     "data": {
      "image/png": "[encoded data removed]",
      "text/plain": [
       "<Figure size 432x288 with 1 Axes>"
      ]
     },
     "metadata": {
      "needs_background": "light"
     },
     "output_type": "display_data"
    }
   ],
   "source": [
    "taxi_week = taxi.resample('1W').sum()\n",
    "taxi_week.plot()"
   ]
  },
  {
   "cell_type": "markdown",
   "metadata": {},
   "source": [
    "По графику можно сказать, что дела у сервиса по заказу такси идут хорошо - заказы увеличиваются от месяца к месяцу. Однако, однозначного решения принять нельзя - возможно, это стандартная практика у сервисов, и если бы мы взглянули на данные за несколько лет, то проследили бы закономерность."
   ]
  },
  {
   "cell_type": "markdown",
   "metadata": {},
   "source": [
    "С помощью функции `seasonal_decompose()` разложим временной ряд на три составляющие: тренд, сезонность и остаток (residuals) - это шум, который не объясняется трендом и сезонностью."
   ]
  },
  {
   "cell_type": "code",
   "execution_count": 8,
   "metadata": {},
   "outputs": [
    {
     "data": {
      "image/png": "[encoded data removed]",
      "text/plain": [
       "<Figure size 432x576 with 3 Axes>"
      ]
     },
     "metadata": {
      "needs_background": "light"
     },
     "output_type": "display_data"
    }
   ],
   "source": [
    "decomposed = seasonal_decompose(taxi['num_orders'], model='additive')\n",
    "\n",
    "plt.figure(figsize=(6, 8))\n",
    "plt.subplot(311)\n",
    "decomposed.trend.plot(ax=plt.gca())\n",
    "plt.title('Trend')\n",
    "plt.subplot(312)\n",
    "decomposed.seasonal.plot(ax=plt.gca())\n",
    "plt.title('Seasonality')\n",
    "plt.subplot(313)\n",
    "decomposed.resid.plot(ax=plt.gca())\n",
    "plt.title('Residuals')\n",
    "plt.tight_layout()"
   ]
  },
  {
   "cell_type": "markdown",
   "metadata": {},
   "source": [
    "Здесь также видно, что тренд растет от месяца к месяцу, но чтобы вывести сезонность нагляднее и изучить ее, ресемплируем данные по одному часу."
   ]
  },
  {
   "cell_type": "markdown",
   "metadata": {},
   "source": [
    "Рассмотим сезонность заказов на отдельном примере. Возьмем первую неделю августа."
   ]
  },
  {
   "cell_type": "code",
   "execution_count": 9,
   "metadata": {},
   "outputs": [
    {
     "data": {
      "text/plain": [
       "Text(0.5, 1.0, 'Сезонность заказов в течение первых 7 дней августа')"
      ]
     },
     "execution_count": 9,
     "metadata": {},
     "output_type": "execute_result"
    },
    {
     "data": {
      "image/png": "[encoded data removed]",
      "text/plain": [
       "<Figure size 1152x576 with 1 Axes>"
      ]
     },
     "metadata": {
      "needs_background": "light"
     },
     "output_type": "display_data"
    }
   ],
   "source": [
    "taxi_day = taxi.resample('1H').sum()\n",
    "\n",
    "decomposed_day = seasonal_decompose(taxi_day)\n",
    "\n",
    "plt.figure(figsize=(16, 8))\n",
    "plt.subplot(311)\n",
    "decomposed_day.seasonal['2018-08-01':'2018-08-07'].plot(ax=plt.gca())\n",
    "plt.title(\"Сезонность заказов в течение первых 7 дней августа\")"
   ]
  },
  {
   "cell_type": "markdown",
   "metadata": {},
   "source": [
    "Наблюдаем каждодневную сезонность заказов. Рассмотрим на примере пары дней"
   ]
  },
  {
   "cell_type": "code",
   "execution_count": 10,
   "metadata": {},
   "outputs": [
    {
     "data": {
      "text/plain": [
       "<AxesSubplot:title={'center':'Сезонность заказов в течение первых 2 дней августа'}, xlabel='datetime'>"
      ]
     },
     "execution_count": 10,
     "metadata": {},
     "output_type": "execute_result"
    },
    {
     "data": {
      "image/png": "[encoded data removed]",
      "text/plain": [
       "<Figure size 1152x288 with 1 Axes>"
      ]
     },
     "metadata": {
      "needs_background": "light"
     },
     "output_type": "display_data"
    }
   ],
   "source": [
    "plt.figure(figsize=(16,4))\n",
    "plt.title(\"Сезонность заказов в течение первых 2 дней августа\")\n",
    "decomposed.seasonal['2018-08-01':'2018-08-02'].plot(ax=plt.gca())"
   ]
  },
  {
   "cell_type": "markdown",
   "metadata": {},
   "source": [
    "Наблюдаем пик заказов полночь и спад заказов в 6 утра\n",
    "\n",
    "На данном этапе мы выяснили, что наблюдается тренд в заказах на увеличение в течении года. Сезонность заказов в пике приходящееся на полночь и спада в 6 утра.\n",
    "\n",
    "По полученным данным явно наличие увеличения заказов в течении года и ближе к полуночи. Уже сейчас мы можем с уверенностью сказать, что заказов увеличивается в 10 утра, 17 вечера и растет с 18 вечера до полуночи."
   ]
  },
  {
   "cell_type": "markdown",
   "metadata": {},
   "source": [
    "Найдем разности временного ряда. Станет ли он более стационарным, если применить метод `.shift()`?"
   ]
  },
  {
   "cell_type": "code",
   "execution_count": 11,
   "metadata": {},
   "outputs": [
    {
     "data": {
      "text/plain": [
       "<AxesSubplot:xlabel='datetime'>"
      ]
     },
     "execution_count": 11,
     "metadata": {},
     "output_type": "execute_result"
    },
    {
     "data": {
      "image/png": "[encoded data removed]",
      "text/plain": [
       "<Figure size 432x288 with 1 Axes>"
      ]
     },
     "metadata": {
      "needs_background": "light"
     },
     "output_type": "display_data"
    }
   ],
   "source": [
    "taxi_shifted = taxi - taxi.shift(fill_value=0)\n",
    "taxi_shifted['mean'] = taxi_shifted['num_orders'].rolling(15).mean()\n",
    "taxi_shifted['std'] = taxi_shifted['num_orders'].rolling(15).std()\n",
    "taxi_shifted.plot()"
   ]
  },
  {
   "cell_type": "markdown",
   "metadata": {},
   "source": [
    "Ряд становится более стационарным, а значит данные можно прогнозировать."
   ]
  },
  {
   "cell_type": "markdown",
   "metadata": {},
   "source": [
    "## Обучение"
   ]
  },
  {
   "cell_type": "markdown",
   "metadata": {},
   "source": [
    "Для успешного обучения добавим признаки в датасет. Напишем функцию `make_features()`, которая:\n",
    "\n",
    "- добавит к датасету четыре новых календарных признака: год, месяц, день и день недели,\n",
    "- вычислит и добавит отстающие значения (предыдущие значения временного ряда, которые покажут, будет ли функция x(t) расти или уменьшаться),\n",
    "- вычислит скользящее среднее и добавит его как признак `rolling_mean` - этот признак задаст общий тренд временного ряда."
   ]
  },
  {
   "cell_type": "code",
   "execution_count": 12,
   "metadata": {},
   "outputs": [],
   "source": [
    "def make_features(taxi, max_lag, rolling_mean_size):\n",
    "    data = taxi.copy()\n",
    "    data['year'] = data.index.year\n",
    "    data['month'] = data.index.month\n",
    "    data['day'] = data.index.day\n",
    "    data['dayofweek'] = data.index.dayofweek\n",
    "    \n",
    "    for lag in range(1, max_lag + 1):\n",
    "        data['lag_{}'.format(lag)] = data['num_orders'].shift(lag)\n",
    "\n",
    "    data['rolling_mean'] = data['num_orders'].shift().rolling(rolling_mean_size).mean()\n",
    "    return data"
   ]
  },
  {
   "cell_type": "code",
   "execution_count": 13,
   "metadata": {
    "scrolled": true
   },
   "outputs": [
    {
     "data": {
      "text/html": [
       "<div>\n",
       "<style scoped>\n",
       "    .dataframe tbody tr th:only-of-type {\n",
       "        vertical-align: middle;\n",
       "    }\n",
       "\n",
       "    .dataframe tbody tr th {\n",
       "        vertical-align: top;\n",
       "    }\n",
       "\n",
       "    .dataframe thead th {\n",
       "        text-align: right;\n",
       "    }\n",
       "</style>\n",
       "<table border=\"1\" class=\"dataframe\">\n",
       "  <thead>\n",
       "    <tr style=\"text-align: right;\">\n",
       "      <th></th>\n",
       "      <th>num_orders</th>\n",
       "      <th>year</th>\n",
       "      <th>month</th>\n",
       "      <th>day</th>\n",
       "      <th>dayofweek</th>\n",
       "      <th>lag_1</th>\n",
       "      <th>lag_2</th>\n",
       "      <th>lag_3</th>\n",
       "      <th>lag_4</th>\n",
       "      <th>lag_5</th>\n",
       "      <th>...</th>\n",
       "      <th>lag_16</th>\n",
       "      <th>lag_17</th>\n",
       "      <th>lag_18</th>\n",
       "      <th>lag_19</th>\n",
       "      <th>lag_20</th>\n",
       "      <th>lag_21</th>\n",
       "      <th>lag_22</th>\n",
       "      <th>lag_23</th>\n",
       "      <th>lag_24</th>\n",
       "      <th>rolling_mean</th>\n",
       "    </tr>\n",
       "    <tr>\n",
       "      <th>datetime</th>\n",
       "      <th></th>\n",
       "      <th></th>\n",
       "      <th></th>\n",
       "      <th></th>\n",
       "      <th></th>\n",
       "      <th></th>\n",
       "      <th></th>\n",
       "      <th></th>\n",
       "      <th></th>\n",
       "      <th></th>\n",
       "      <th></th>\n",
       "      <th></th>\n",
       "      <th></th>\n",
       "      <th></th>\n",
       "      <th></th>\n",
       "      <th></th>\n",
       "      <th></th>\n",
       "      <th></th>\n",
       "      <th></th>\n",
       "      <th></th>\n",
       "      <th></th>\n",
       "    </tr>\n",
       "  </thead>\n",
       "  <tbody>\n",
       "    <tr>\n",
       "      <th>2018-03-01 00:00:00</th>\n",
       "      <td>124</td>\n",
       "      <td>2018</td>\n",
       "      <td>3</td>\n",
       "      <td>1</td>\n",
       "      <td>3</td>\n",
       "      <td>NaN</td>\n",
       "      <td>NaN</td>\n",
       "      <td>NaN</td>\n",
       "      <td>NaN</td>\n",
       "      <td>NaN</td>\n",
       "      <td>...</td>\n",
       "      <td>NaN</td>\n",
       "      <td>NaN</td>\n",
       "      <td>NaN</td>\n",
       "      <td>NaN</td>\n",
       "      <td>NaN</td>\n",
       "      <td>NaN</td>\n",
       "      <td>NaN</td>\n",
       "      <td>NaN</td>\n",
       "      <td>NaN</td>\n",
       "      <td>NaN</td>\n",
       "    </tr>\n",
       "    <tr>\n",
       "      <th>2018-03-01 01:00:00</th>\n",
       "      <td>85</td>\n",
       "      <td>2018</td>\n",
       "      <td>3</td>\n",
       "      <td>1</td>\n",
       "      <td>3</td>\n",
       "      <td>124.0</td>\n",
       "      <td>NaN</td>\n",
       "      <td>NaN</td>\n",
       "      <td>NaN</td>\n",
       "      <td>NaN</td>\n",
       "      <td>...</td>\n",
       "      <td>NaN</td>\n",
       "      <td>NaN</td>\n",
       "      <td>NaN</td>\n",
       "      <td>NaN</td>\n",
       "      <td>NaN</td>\n",
       "      <td>NaN</td>\n",
       "      <td>NaN</td>\n",
       "      <td>NaN</td>\n",
       "      <td>NaN</td>\n",
       "      <td>NaN</td>\n",
       "    </tr>\n",
       "    <tr>\n",
       "      <th>2018-03-01 02:00:00</th>\n",
       "      <td>71</td>\n",
       "      <td>2018</td>\n",
       "      <td>3</td>\n",
       "      <td>1</td>\n",
       "      <td>3</td>\n",
       "      <td>85.0</td>\n",
       "      <td>124.0</td>\n",
       "      <td>NaN</td>\n",
       "      <td>NaN</td>\n",
       "      <td>NaN</td>\n",
       "      <td>...</td>\n",
       "      <td>NaN</td>\n",
       "      <td>NaN</td>\n",
       "      <td>NaN</td>\n",
       "      <td>NaN</td>\n",
       "      <td>NaN</td>\n",
       "      <td>NaN</td>\n",
       "      <td>NaN</td>\n",
       "      <td>NaN</td>\n",
       "      <td>NaN</td>\n",
       "      <td>NaN</td>\n",
       "    </tr>\n",
       "    <tr>\n",
       "      <th>2018-03-01 03:00:00</th>\n",
       "      <td>66</td>\n",
       "      <td>2018</td>\n",
       "      <td>3</td>\n",
       "      <td>1</td>\n",
       "      <td>3</td>\n",
       "      <td>71.0</td>\n",
       "      <td>85.0</td>\n",
       "      <td>124.0</td>\n",
       "      <td>NaN</td>\n",
       "      <td>NaN</td>\n",
       "      <td>...</td>\n",
       "      <td>NaN</td>\n",
       "      <td>NaN</td>\n",
       "      <td>NaN</td>\n",
       "      <td>NaN</td>\n",
       "      <td>NaN</td>\n",
       "      <td>NaN</td>\n",
       "      <td>NaN</td>\n",
       "      <td>NaN</td>\n",
       "      <td>NaN</td>\n",
       "      <td>93.333333</td>\n",
       "    </tr>\n",
       "    <tr>\n",
       "      <th>2018-03-01 04:00:00</th>\n",
       "      <td>43</td>\n",
       "      <td>2018</td>\n",
       "      <td>3</td>\n",
       "      <td>1</td>\n",
       "      <td>3</td>\n",
       "      <td>66.0</td>\n",
       "      <td>71.0</td>\n",
       "      <td>85.0</td>\n",
       "      <td>124.0</td>\n",
       "      <td>NaN</td>\n",
       "      <td>...</td>\n",
       "      <td>NaN</td>\n",
       "      <td>NaN</td>\n",
       "      <td>NaN</td>\n",
       "      <td>NaN</td>\n",
       "      <td>NaN</td>\n",
       "      <td>NaN</td>\n",
       "      <td>NaN</td>\n",
       "      <td>NaN</td>\n",
       "      <td>NaN</td>\n",
       "      <td>74.000000</td>\n",
       "    </tr>\n",
       "  </tbody>\n",
       "</table>\n",
       "<p>5 rows × 30 columns</p>\n",
       "</div>"
      ],
      "text/plain": [
       "                     num_orders  year  month  day  dayofweek  lag_1  lag_2  \\\n",
       "datetime                                                                     \n",
       "2018-03-01 00:00:00         124  2018      3    1          3    NaN    NaN   \n",
       "2018-03-01 01:00:00          85  2018      3    1          3  124.0    NaN   \n",
       "2018-03-01 02:00:00          71  2018      3    1          3   85.0  124.0   \n",
       "2018-03-01 03:00:00          66  2018      3    1          3   71.0   85.0   \n",
       "2018-03-01 04:00:00          43  2018      3    1          3   66.0   71.0   \n",
       "\n",
       "                     lag_3  lag_4  lag_5  ...  lag_16  lag_17  lag_18  lag_19  \\\n",
       "datetime                                  ...                                   \n",
       "2018-03-01 00:00:00    NaN    NaN    NaN  ...     NaN     NaN     NaN     NaN   \n",
       "2018-03-01 01:00:00    NaN    NaN    NaN  ...     NaN     NaN     NaN     NaN   \n",
       "2018-03-01 02:00:00    NaN    NaN    NaN  ...     NaN     NaN     NaN     NaN   \n",
       "2018-03-01 03:00:00  124.0    NaN    NaN  ...     NaN     NaN     NaN     NaN   \n",
       "2018-03-01 04:00:00   85.0  124.0    NaN  ...     NaN     NaN     NaN     NaN   \n",
       "\n",
       "                     lag_20  lag_21  lag_22  lag_23  lag_24  rolling_mean  \n",
       "datetime                                                                   \n",
       "2018-03-01 00:00:00     NaN     NaN     NaN     NaN     NaN           NaN  \n",
       "2018-03-01 01:00:00     NaN     NaN     NaN     NaN     NaN           NaN  \n",
       "2018-03-01 02:00:00     NaN     NaN     NaN     NaN     NaN           NaN  \n",
       "2018-03-01 03:00:00     NaN     NaN     NaN     NaN     NaN     93.333333  \n",
       "2018-03-01 04:00:00     NaN     NaN     NaN     NaN     NaN     74.000000  \n",
       "\n",
       "[5 rows x 30 columns]"
      ]
     },
     "execution_count": 13,
     "metadata": {},
     "output_type": "execute_result"
    }
   ],
   "source": [
    "data = make_features(taxi, 24, 3)\n",
    "data.head()"
   ]
  },
  {
   "cell_type": "markdown",
   "metadata": {},
   "source": [
    "Разделим данные на обучающую и тестовую выборки, а затем поделим признаки.\n",
    "\n",
    "Функция `train_test_split` по умолчанию перемешивает данные (что нам в данном случае не нужно), поэтому добавим параметр `shuffle=False`.\n",
    "\n",
    "После применения функции `make_features` у нас появились NaN-значения за счет сдвига данных. Их никак не заполнить - просто избавимся от них."
   ]
  },
  {
   "cell_type": "code",
   "execution_count": 14,
   "metadata": {},
   "outputs": [],
   "source": [
    "train, test = train_test_split(data, shuffle=False, test_size=0.1)\n",
    "train = train.dropna()\n",
    "\n",
    "features_train = train.drop(['num_orders'], axis=1)\n",
    "target_train = train['num_orders']\n",
    "\n",
    "features_test = test.drop(['num_orders'], axis=1)\n",
    "target_test = test['num_orders']"
   ]
  },
  {
   "cell_type": "markdown",
   "metadata": {},
   "source": [
    "Проверим, что данные не перемешались - сравним последнее наблюдение признаков обучающей выборки и первое наблюдение признаков тестовой выборки."
   ]
  },
  {
   "cell_type": "code",
   "execution_count": 15,
   "metadata": {},
   "outputs": [
    {
     "name": "stdout",
     "output_type": "stream",
     "text": [
      "2018-08-13 13:00:00\n",
      "2018-08-13 14:00:00\n"
     ]
    }
   ],
   "source": [
    "print(features_train.index[features_train.shape[0]-1])\n",
    "print(features_test.index[0])"
   ]
  },
  {
   "cell_type": "markdown",
   "metadata": {},
   "source": [
    "Все верно, данные можно использовать для обучения."
   ]
  },
  {
   "cell_type": "markdown",
   "metadata": {},
   "source": [
    "Пропишу функцию для расчета метрики RMSE:"
   ]
  },
  {
   "cell_type": "code",
   "execution_count": 16,
   "metadata": {},
   "outputs": [],
   "source": [
    "def rmse_score (target, predictions):\n",
    "    rmse = mean_squared_error(target, predictions)**0.5\n",
    "    return rmse"
   ]
  },
  {
   "cell_type": "markdown",
   "metadata": {},
   "source": [
    "Создадим функцию обучения наших моделей, поиска оптимальных гиперпараметров и значения метрики RMSE"
   ]
  },
  {
   "cell_type": "markdown",
   "metadata": {},
   "source": [
    "В связи с тем, что мы работаем с временным рядом, нельзя применять кросс-валидацию в привычном виде для подбора гиперпараметров моделей с помощью GridSearchCV. Поэтому применим функцию TimeSeriesSplit()."
   ]
  },
  {
   "cell_type": "code",
   "execution_count": 17,
   "metadata": {},
   "outputs": [],
   "source": [
    "def model_look(model, parameters):\n",
    "\n",
    "    scorer = make_scorer(rmse_score, greater_is_better=False)\n",
    "    tscv = TimeSeriesSplit(n_splits=5)\n",
    "    model_grid = GridSearchCV(model, parameters, cv=tscv, scoring=scorer, verbose=5, n_jobs=-1)\n",
    "    model_grid.fit(features_train, target_train)\n",
    "    return model_grid.best_score_, model_grid.best_params_"
   ]
  },
  {
   "cell_type": "markdown",
   "metadata": {},
   "source": [
    "### LinearRegression"
   ]
  },
  {
   "cell_type": "code",
   "execution_count": 18,
   "metadata": {},
   "outputs": [
    {
     "name": "stdout",
     "output_type": "stream",
     "text": [
      "Fitting 5 folds for each of 4 candidates, totalling 20 fits\n",
      "[CV 1/5] END .............fit_intercept=True, normalize=True; total time=   0.0s\n",
      "[CV 2/5] END .............fit_intercept=True, normalize=True; total time=   0.2s\n",
      "[CV 3/5] END .............fit_intercept=True, normalize=True; total time=   0.2s\n",
      "[CV 4/5] END .............fit_intercept=True, normalize=True; total time=   0.2s\n",
      "[CV 5/5] END .............fit_intercept=True, normalize=True; total time=   0.2s\n",
      "[CV 1/5] END ............fit_intercept=True, normalize=False; total time=   0.4s\n",
      "[CV 2/5] END ............fit_intercept=True, normalize=False; total time=   0.1s\n",
      "[CV 3/5] END ............fit_intercept=True, normalize=False; total time=   0.1s\n",
      "[CV 4/5] END ............fit_intercept=True, normalize=False; total time=   0.2s\n",
      "[CV 5/5] END ............fit_intercept=True, normalize=False; total time=   0.2s\n",
      "[CV 1/5] END ............fit_intercept=False, normalize=True; total time=   0.1s\n",
      "[CV 2/5] END ............fit_intercept=False, normalize=True; total time=   0.2s\n",
      "[CV 3/5] END ............fit_intercept=False, normalize=True; total time=   0.1s\n",
      "[CV 4/5] END ............fit_intercept=False, normalize=True; total time=   0.2s\n",
      "[CV 5/5] END ............fit_intercept=False, normalize=True; total time=   0.4s\n",
      "[CV 1/5] END ...........fit_intercept=False, normalize=False; total time=   0.3s\n",
      "[CV 2/5] END ...........fit_intercept=False, normalize=False; total time=   0.1s\n",
      "[CV 3/5] END ...........fit_intercept=False, normalize=False; total time=   0.2s\n",
      "[CV 4/5] END ...........fit_intercept=False, normalize=False; total time=   0.1s\n",
      "[CV 5/5] END ...........fit_intercept=False, normalize=False; total time=   0.2s\n"
     ]
    },
    {
     "data": {
      "text/plain": [
       "'Лучшие параметры модели линейной регрессии:'"
      ]
     },
     "metadata": {},
     "output_type": "display_data"
    },
    {
     "data": {
      "text/plain": [
       "{'fit_intercept': False, 'normalize': True}"
      ]
     },
     "metadata": {},
     "output_type": "display_data"
    },
    {
     "data": {
      "text/plain": [
       "'Дали RMSE модели:'"
      ]
     },
     "metadata": {},
     "output_type": "display_data"
    },
    {
     "data": {
      "text/plain": [
       "-23170989728.142155"
      ]
     },
     "metadata": {},
     "output_type": "display_data"
    }
   ],
   "source": [
    "parameters = {'fit_intercept':[True,False], 'normalize':[True,False]}\n",
    "rmse, best_parameters = model_look (LinearRegression(), parameters)\n",
    "display('Лучшие параметры модели линейной регрессии:', best_parameters)\n",
    "display('Дали RMSE модели:', rmse)"
   ]
  },
  {
   "cell_type": "code",
   "execution_count": 19,
   "metadata": {},
   "outputs": [
    {
     "data": {
      "text/html": [
       "<div>\n",
       "<style scoped>\n",
       "    .dataframe tbody tr th:only-of-type {\n",
       "        vertical-align: middle;\n",
       "    }\n",
       "\n",
       "    .dataframe tbody tr th {\n",
       "        vertical-align: top;\n",
       "    }\n",
       "\n",
       "    .dataframe thead th {\n",
       "        text-align: right;\n",
       "    }\n",
       "</style>\n",
       "<table border=\"1\" class=\"dataframe\">\n",
       "  <thead>\n",
       "    <tr style=\"text-align: right;\">\n",
       "      <th></th>\n",
       "      <th>model</th>\n",
       "      <th>best_parameters_train</th>\n",
       "      <th>RMSE_train</th>\n",
       "    </tr>\n",
       "  </thead>\n",
       "  <tbody>\n",
       "    <tr>\n",
       "      <th>0</th>\n",
       "      <td>LinearRegression</td>\n",
       "      <td>{'fit_intercept': False, 'normalize': True}</td>\n",
       "      <td>-2.317099e+10</td>\n",
       "    </tr>\n",
       "  </tbody>\n",
       "</table>\n",
       "</div>"
      ],
      "text/plain": [
       "              model                        best_parameters_train    RMSE_train\n",
       "0  LinearRegression  {'fit_intercept': False, 'normalize': True} -2.317099e+10"
      ]
     },
     "execution_count": 19,
     "metadata": {},
     "output_type": "execute_result"
    }
   ],
   "source": [
    "results = pd.DataFrame ({'model':['LinearRegression'], 'best_parameters_train':[best_parameters], 'RMSE_train':[rmse]})\n",
    "results"
   ]
  },
  {
   "cell_type": "markdown",
   "metadata": {},
   "source": [
    "### CatBoostRegressor"
   ]
  },
  {
   "cell_type": "code",
   "execution_count": 20,
   "metadata": {},
   "outputs": [
    {
     "name": "stdout",
     "output_type": "stream",
     "text": [
      "Fitting 5 folds for each of 12 candidates, totalling 60 fits\n",
      "0:\tlearn: 25.3619346\ttotal: 47ms\tremaining: 799ms\n",
      "1:\tlearn: 22.8808702\ttotal: 47.8ms\tremaining: 382ms\n",
      "2:\tlearn: 21.9446526\ttotal: 48.4ms\tremaining: 242ms\n",
      "3:\tlearn: 21.0787411\ttotal: 49ms\tremaining: 171ms\n",
      "4:\tlearn: 20.4526965\ttotal: 49.6ms\tremaining: 129ms\n",
      "5:\tlearn: 20.0206922\ttotal: 50.1ms\tremaining: 100ms\n",
      "6:\tlearn: 19.5860006\ttotal: 50.7ms\tremaining: 79.6ms\n",
      "7:\tlearn: 19.3891077\ttotal: 51.3ms\tremaining: 64.1ms\n",
      "8:\tlearn: 19.1147138\ttotal: 51.8ms\tremaining: 51.8ms\n",
      "9:\tlearn: 18.7960476\ttotal: 52.4ms\tremaining: 41.9ms\n",
      "10:\tlearn: 18.5948544\ttotal: 52.9ms\tremaining: 33.7ms\n",
      "11:\tlearn: 18.5425383\ttotal: 53.5ms\tremaining: 26.7ms\n",
      "12:\tlearn: 18.3788503\ttotal: 54ms\tremaining: 20.8ms\n",
      "13:\tlearn: 18.1458158\ttotal: 54.6ms\tremaining: 15.6ms\n",
      "14:\tlearn: 17.9656165\ttotal: 55.2ms\tremaining: 11ms\n",
      "15:\tlearn: 17.7959053\ttotal: 55.8ms\tremaining: 6.97ms\n",
      "16:\tlearn: 17.7187536\ttotal: 56.4ms\tremaining: 3.32ms\n",
      "17:\tlearn: 17.6111860\ttotal: 57ms\tremaining: 0us\n",
      "[CV 1/5] END .........................depth=2, iterations=18; total time=   0.5s\n",
      "0:\tlearn: 25.6869734\ttotal: 1.16ms\tremaining: 19.7ms\n",
      "1:\tlearn: 24.0489239\ttotal: 1.91ms\tremaining: 15.2ms\n",
      "2:\tlearn: 22.7285189\ttotal: 2.59ms\tremaining: 13ms\n",
      "3:\tlearn: 21.5599449\ttotal: 3.27ms\tremaining: 11.4ms\n",
      "4:\tlearn: 21.0571612\ttotal: 3.99ms\tremaining: 10.4ms\n",
      "5:\tlearn: 20.7050640\ttotal: 4.65ms\tremaining: 9.31ms\n",
      "6:\tlearn: 20.6142807\ttotal: 5.36ms\tremaining: 8.42ms\n",
      "7:\tlearn: 20.3632201\ttotal: 6.21ms\tremaining: 7.76ms\n",
      "8:\tlearn: 20.0952385\ttotal: 6.88ms\tremaining: 6.88ms\n",
      "9:\tlearn: 19.9653673\ttotal: 7.53ms\tremaining: 6.03ms\n",
      "10:\tlearn: 19.8521680\ttotal: 8.23ms\tremaining: 5.24ms\n",
      "11:\tlearn: 19.7591922\ttotal: 9.18ms\tremaining: 4.59ms\n",
      "12:\tlearn: 19.6581763\ttotal: 9.98ms\tremaining: 3.84ms\n",
      "13:\tlearn: 19.5773653\ttotal: 10.7ms\tremaining: 3.06ms\n",
      "14:\tlearn: 19.5509267\ttotal: 11.8ms\tremaining: 2.36ms\n",
      "15:\tlearn: 19.4556868\ttotal: 12.6ms\tremaining: 1.58ms\n",
      "16:\tlearn: 19.3401594\ttotal: 13.6ms\tremaining: 800us\n",
      "17:\tlearn: 19.2587940\ttotal: 14.5ms\tremaining: 0us\n",
      "[CV 2/5] END .........................depth=2, iterations=18; total time=   0.4s\n",
      "0:\tlearn: 27.5249205\ttotal: 1.06ms\tremaining: 18ms\n",
      "1:\tlearn: 24.8661701\ttotal: 1.93ms\tremaining: 15.5ms\n",
      "2:\tlearn: 23.4334370\ttotal: 2.72ms\tremaining: 13.6ms\n",
      "3:\tlearn: 22.7663014\ttotal: 3.55ms\tremaining: 12.4ms\n",
      "4:\tlearn: 22.2181478\ttotal: 4.28ms\tremaining: 11.1ms\n",
      "5:\tlearn: 21.8546069\ttotal: 5.06ms\tremaining: 10.1ms\n",
      "6:\tlearn: 21.6760634\ttotal: 5.83ms\tremaining: 9.16ms\n",
      "7:\tlearn: 21.5058963\ttotal: 6.58ms\tremaining: 8.23ms\n",
      "8:\tlearn: 21.3587314\ttotal: 7.34ms\tremaining: 7.34ms\n",
      "9:\tlearn: 21.1504775\ttotal: 8.12ms\tremaining: 6.5ms\n",
      "10:\tlearn: 20.9823826\ttotal: 8.91ms\tremaining: 5.67ms\n",
      "11:\tlearn: 20.8895595\ttotal: 9.68ms\tremaining: 4.84ms\n",
      "12:\tlearn: 20.7487679\ttotal: 10.4ms\tremaining: 4.02ms\n",
      "13:\tlearn: 20.6375161\ttotal: 11.2ms\tremaining: 3.2ms\n",
      "14:\tlearn: 20.5220022\ttotal: 11.9ms\tremaining: 2.39ms\n",
      "15:\tlearn: 20.3954705\ttotal: 12.7ms\tremaining: 1.58ms\n",
      "16:\tlearn: 20.3189408\ttotal: 13.4ms\tremaining: 788us\n",
      "17:\tlearn: 20.3006934\ttotal: 14.1ms\tremaining: 0us\n",
      "[CV 3/5] END .........................depth=2, iterations=18; total time=   0.4s\n",
      "0:\tlearn: 28.5297270\ttotal: 1.14ms\tremaining: 19.5ms\n",
      "1:\tlearn: 25.9946239\ttotal: 2.21ms\tremaining: 17.7ms\n",
      "2:\tlearn: 24.5629786\ttotal: 3.1ms\tremaining: 15.5ms\n",
      "3:\tlearn: 23.9827216\ttotal: 3.96ms\tremaining: 13.9ms\n",
      "4:\tlearn: 23.4012395\ttotal: 4.82ms\tremaining: 12.5ms\n",
      "5:\tlearn: 23.2240992\ttotal: 5.62ms\tremaining: 11.2ms\n",
      "6:\tlearn: 22.9081287\ttotal: 6.52ms\tremaining: 10.3ms\n",
      "7:\tlearn: 22.6051198\ttotal: 7.37ms\tremaining: 9.21ms\n",
      "8:\tlearn: 22.4742133\ttotal: 8.26ms\tremaining: 8.26ms\n",
      "9:\tlearn: 22.2141059\ttotal: 9.07ms\tremaining: 7.26ms\n",
      "10:\tlearn: 22.0817315\ttotal: 9.96ms\tremaining: 6.34ms\n",
      "11:\tlearn: 21.9595781\ttotal: 10.8ms\tremaining: 5.39ms\n",
      "12:\tlearn: 21.8712975\ttotal: 11.6ms\tremaining: 4.47ms\n",
      "13:\tlearn: 21.7215602\ttotal: 12.5ms\tremaining: 3.58ms\n",
      "14:\tlearn: 21.6219196\ttotal: 13.4ms\tremaining: 2.67ms\n",
      "15:\tlearn: 21.4912200\ttotal: 14.2ms\tremaining: 1.78ms\n",
      "16:\tlearn: 21.3414853\ttotal: 15.1ms\tremaining: 888us\n",
      "17:\tlearn: 21.2571953\ttotal: 15.9ms\tremaining: 0us\n",
      "[CV 4/5] END .........................depth=2, iterations=18; total time=   0.5s\n",
      "0:\tlearn: 29.7230534\ttotal: 1.28ms\tremaining: 21.8ms\n",
      "1:\tlearn: 27.2429158\ttotal: 2.57ms\tremaining: 20.5ms\n",
      "2:\tlearn: 25.9507363\ttotal: 3.54ms\tremaining: 17.7ms\n",
      "3:\tlearn: 25.3307965\ttotal: 4.5ms\tremaining: 15.7ms\n",
      "4:\tlearn: 24.5660018\ttotal: 5.49ms\tremaining: 14.3ms\n",
      "5:\tlearn: 24.2771090\ttotal: 6.46ms\tremaining: 12.9ms\n",
      "6:\tlearn: 24.0111952\ttotal: 7.45ms\tremaining: 11.7ms\n",
      "7:\tlearn: 23.7870518\ttotal: 8.45ms\tremaining: 10.6ms\n",
      "8:\tlearn: 23.6088838\ttotal: 9.45ms\tremaining: 9.45ms\n",
      "9:\tlearn: 23.4447292\ttotal: 10.5ms\tremaining: 8.36ms\n",
      "10:\tlearn: 23.2973507\ttotal: 11.5ms\tremaining: 7.33ms\n",
      "11:\tlearn: 23.2111569\ttotal: 12.5ms\tremaining: 6.27ms\n",
      "12:\tlearn: 23.1381646\ttotal: 13.5ms\tremaining: 5.18ms\n",
      "13:\tlearn: 23.0735564\ttotal: 14.4ms\tremaining: 4.12ms\n",
      "14:\tlearn: 23.0216311\ttotal: 15.4ms\tremaining: 3.07ms\n",
      "15:\tlearn: 22.9513314\ttotal: 16.3ms\tremaining: 2.03ms\n",
      "16:\tlearn: 22.7620622\ttotal: 17.2ms\tremaining: 1.01ms\n",
      "17:\tlearn: 22.7177381\ttotal: 18.1ms\tremaining: 0us\n",
      "[CV 5/5] END .........................depth=2, iterations=18; total time=   0.5s\n",
      "0:\tlearn: 25.3619346\ttotal: 659us\tremaining: 11.9ms\n",
      "1:\tlearn: 22.8808702\ttotal: 1.42ms\tremaining: 12.1ms\n",
      "2:\tlearn: 21.9446526\ttotal: 2.01ms\tremaining: 10.7ms\n",
      "3:\tlearn: 21.0787411\ttotal: 2.57ms\tremaining: 9.63ms\n",
      "4:\tlearn: 20.4526965\ttotal: 3.09ms\tremaining: 8.66ms\n",
      "5:\tlearn: 20.0206922\ttotal: 3.62ms\tremaining: 7.84ms\n",
      "6:\tlearn: 19.5860006\ttotal: 4.17ms\tremaining: 7.14ms\n",
      "7:\tlearn: 19.3891077\ttotal: 4.76ms\tremaining: 6.55ms\n",
      "8:\tlearn: 19.1147138\ttotal: 5.31ms\tremaining: 5.9ms\n",
      "9:\tlearn: 18.7960476\ttotal: 5.88ms\tremaining: 5.29ms\n",
      "10:\tlearn: 18.5948544\ttotal: 6.41ms\tremaining: 4.66ms\n",
      "11:\tlearn: 18.5425383\ttotal: 6.98ms\tremaining: 4.07ms\n",
      "12:\tlearn: 18.3788503\ttotal: 7.51ms\tremaining: 3.46ms\n",
      "13:\tlearn: 18.1458158\ttotal: 8.03ms\tremaining: 2.87ms\n",
      "14:\tlearn: 17.9656165\ttotal: 8.58ms\tremaining: 2.29ms\n",
      "15:\tlearn: 17.7959053\ttotal: 9.1ms\tremaining: 1.71ms\n",
      "16:\tlearn: 17.7187536\ttotal: 9.63ms\tremaining: 1.13ms\n",
      "17:\tlearn: 17.6111860\ttotal: 10.1ms\tremaining: 562us\n",
      "18:\tlearn: 17.4996505\ttotal: 10.7ms\tremaining: 0us\n",
      "[CV 1/5] END .........................depth=2, iterations=19; total time=   0.7s\n",
      "0:\tlearn: 25.6869734\ttotal: 830us\tremaining: 15ms\n",
      "1:\tlearn: 24.0489239\ttotal: 1.72ms\tremaining: 14.6ms\n",
      "2:\tlearn: 22.7285189\ttotal: 2.37ms\tremaining: 12.6ms\n",
      "3:\tlearn: 21.5599449\ttotal: 3.04ms\tremaining: 11.4ms\n",
      "4:\tlearn: 21.0571612\ttotal: 3.68ms\tremaining: 10.3ms\n",
      "5:\tlearn: 20.7050640\ttotal: 4.35ms\tremaining: 9.43ms\n",
      "6:\tlearn: 20.6142807\ttotal: 5.03ms\tremaining: 8.62ms\n",
      "7:\tlearn: 20.3632201\ttotal: 5.64ms\tremaining: 7.75ms\n",
      "8:\tlearn: 20.0952385\ttotal: 6.28ms\tremaining: 6.98ms\n",
      "9:\tlearn: 19.9653673\ttotal: 6.91ms\tremaining: 6.21ms\n",
      "10:\tlearn: 19.8521680\ttotal: 7.53ms\tremaining: 5.48ms\n",
      "11:\tlearn: 19.7591922\ttotal: 8.13ms\tremaining: 4.74ms\n",
      "12:\tlearn: 19.6581763\ttotal: 8.74ms\tremaining: 4.04ms\n",
      "13:\tlearn: 19.5773653\ttotal: 9.41ms\tremaining: 3.36ms\n",
      "14:\tlearn: 19.5509267\ttotal: 10ms\tremaining: 2.67ms\n",
      "15:\tlearn: 19.4556868\ttotal: 10.7ms\tremaining: 2.01ms\n",
      "16:\tlearn: 19.3401594\ttotal: 11.4ms\tremaining: 1.34ms\n",
      "17:\tlearn: 19.2587940\ttotal: 12ms\tremaining: 665us\n",
      "18:\tlearn: 19.1434832\ttotal: 12.6ms\tremaining: 0us\n",
      "[CV 2/5] END .........................depth=2, iterations=19; total time=   0.4s\n",
      "0:\tlearn: 27.5249205\ttotal: 928us\tremaining: 16.7ms\n",
      "1:\tlearn: 24.8661701\ttotal: 1.97ms\tremaining: 16.7ms\n",
      "2:\tlearn: 23.4334370\ttotal: 2.77ms\tremaining: 14.7ms\n",
      "3:\tlearn: 22.7663014\ttotal: 3.61ms\tremaining: 13.5ms\n",
      "4:\tlearn: 22.2181478\ttotal: 4.41ms\tremaining: 12.3ms\n",
      "5:\tlearn: 21.8546069\ttotal: 5.16ms\tremaining: 11.2ms\n",
      "6:\tlearn: 21.6760634\ttotal: 5.93ms\tremaining: 10.2ms\n",
      "7:\tlearn: 21.5058963\ttotal: 6.69ms\tremaining: 9.2ms\n",
      "8:\tlearn: 21.3587314\ttotal: 7.53ms\tremaining: 8.36ms\n",
      "9:\tlearn: 21.1504775\ttotal: 8.3ms\tremaining: 7.47ms\n",
      "10:\tlearn: 20.9823826\ttotal: 9.02ms\tremaining: 6.56ms\n",
      "11:\tlearn: 20.8895595\ttotal: 9.79ms\tremaining: 5.71ms\n",
      "12:\tlearn: 20.7487679\ttotal: 10.6ms\tremaining: 4.89ms\n",
      "13:\tlearn: 20.6375161\ttotal: 11.3ms\tremaining: 4.05ms\n",
      "14:\tlearn: 20.5220022\ttotal: 12.1ms\tremaining: 3.22ms\n",
      "15:\tlearn: 20.3954705\ttotal: 12.9ms\tremaining: 2.41ms\n",
      "16:\tlearn: 20.3189408\ttotal: 13.6ms\tremaining: 1.6ms\n",
      "17:\tlearn: 20.3006934\ttotal: 14.3ms\tremaining: 796us\n",
      "18:\tlearn: 20.2175661\ttotal: 15.1ms\tremaining: 0us\n",
      "[CV 3/5] END .........................depth=2, iterations=19; total time=   0.4s\n",
      "0:\tlearn: 28.5297270\ttotal: 1.09ms\tremaining: 19.6ms\n",
      "1:\tlearn: 25.9946239\ttotal: 2.17ms\tremaining: 18.5ms\n",
      "2:\tlearn: 24.5629786\ttotal: 3.25ms\tremaining: 17.3ms\n",
      "3:\tlearn: 23.9827216\ttotal: 4.23ms\tremaining: 15.9ms\n",
      "4:\tlearn: 23.4012395\ttotal: 5.15ms\tremaining: 14.4ms\n",
      "5:\tlearn: 23.2240992\ttotal: 6.21ms\tremaining: 13.5ms\n",
      "6:\tlearn: 22.9081287\ttotal: 7.18ms\tremaining: 12.3ms\n",
      "7:\tlearn: 22.6051198\ttotal: 8.08ms\tremaining: 11.1ms\n",
      "8:\tlearn: 22.4742133\ttotal: 8.99ms\tremaining: 9.99ms\n",
      "9:\tlearn: 22.2141059\ttotal: 9.9ms\tremaining: 8.91ms\n",
      "10:\tlearn: 22.0817315\ttotal: 10.8ms\tremaining: 7.86ms\n",
      "11:\tlearn: 21.9595781\ttotal: 11.7ms\tremaining: 6.82ms\n",
      "12:\tlearn: 21.8712975\ttotal: 12.6ms\tremaining: 5.83ms\n",
      "13:\tlearn: 21.7215602\ttotal: 13.7ms\tremaining: 4.88ms\n",
      "14:\tlearn: 21.6219196\ttotal: 14.6ms\tremaining: 3.88ms\n",
      "15:\tlearn: 21.4912200\ttotal: 15.6ms\tremaining: 2.92ms\n",
      "16:\tlearn: 21.3414853\ttotal: 16.4ms\tremaining: 1.94ms\n",
      "17:\tlearn: 21.2571953\ttotal: 17.3ms\tremaining: 962us\n",
      "18:\tlearn: 21.1411385\ttotal: 18.2ms\tremaining: 0us\n",
      "[CV 4/5] END .........................depth=2, iterations=19; total time=   0.4s\n",
      "0:\tlearn: 29.7230534\ttotal: 1.17ms\tremaining: 21ms\n",
      "1:\tlearn: 27.2429158\ttotal: 2.35ms\tremaining: 20ms\n",
      "2:\tlearn: 25.9507363\ttotal: 3.36ms\tremaining: 17.9ms\n",
      "3:\tlearn: 25.3307965\ttotal: 4.32ms\tremaining: 16.2ms\n",
      "4:\tlearn: 24.5660018\ttotal: 5.27ms\tremaining: 14.8ms\n",
      "5:\tlearn: 24.2771090\ttotal: 6.24ms\tremaining: 13.5ms\n",
      "6:\tlearn: 24.0111952\ttotal: 7.18ms\tremaining: 12.3ms\n",
      "7:\tlearn: 23.7870518\ttotal: 8.17ms\tremaining: 11.2ms\n",
      "8:\tlearn: 23.6088838\ttotal: 9.18ms\tremaining: 10.2ms\n",
      "9:\tlearn: 23.4447292\ttotal: 10.2ms\tremaining: 9.15ms\n",
      "10:\tlearn: 23.2973507\ttotal: 11.1ms\tremaining: 8.07ms\n",
      "11:\tlearn: 23.2111569\ttotal: 12.1ms\tremaining: 7.08ms\n",
      "12:\tlearn: 23.1381646\ttotal: 13.2ms\tremaining: 6.08ms\n",
      "13:\tlearn: 23.0735564\ttotal: 14.2ms\tremaining: 5.08ms\n",
      "14:\tlearn: 23.0216311\ttotal: 15.2ms\tremaining: 4.05ms\n",
      "15:\tlearn: 22.9513314\ttotal: 16.2ms\tremaining: 3.04ms\n",
      "16:\tlearn: 22.7620622\ttotal: 17.3ms\tremaining: 2.03ms\n",
      "17:\tlearn: 22.7177381\ttotal: 18.2ms\tremaining: 1.01ms\n",
      "18:\tlearn: 22.6105067\ttotal: 19.6ms\tremaining: 0us\n",
      "[CV 5/5] END .........................depth=2, iterations=19; total time=   0.5s\n",
      "0:\tlearn: 25.3619346\ttotal: 704us\tremaining: 13.4ms\n",
      "1:\tlearn: 22.8808702\ttotal: 1.37ms\tremaining: 12.3ms\n",
      "2:\tlearn: 21.9446526\ttotal: 1.94ms\tremaining: 11ms\n",
      "3:\tlearn: 21.0787411\ttotal: 2.44ms\tremaining: 9.78ms\n",
      "4:\tlearn: 20.4526965\ttotal: 2.94ms\tremaining: 8.83ms\n",
      "5:\tlearn: 20.0206922\ttotal: 3.48ms\tremaining: 8.12ms\n",
      "6:\tlearn: 19.5860006\ttotal: 4ms\tremaining: 7.43ms\n",
      "7:\tlearn: 19.3891077\ttotal: 4.52ms\tremaining: 6.78ms\n",
      "8:\tlearn: 19.1147138\ttotal: 5.01ms\tremaining: 6.13ms\n",
      "9:\tlearn: 18.7960476\ttotal: 5.51ms\tremaining: 5.51ms\n",
      "10:\tlearn: 18.5948544\ttotal: 6.09ms\tremaining: 4.98ms\n",
      "11:\tlearn: 18.5425383\ttotal: 6.58ms\tremaining: 4.39ms\n",
      "12:\tlearn: 18.3788503\ttotal: 7.15ms\tremaining: 3.85ms\n",
      "13:\tlearn: 18.1458158\ttotal: 7.66ms\tremaining: 3.28ms\n",
      "14:\tlearn: 17.9656165\ttotal: 8.21ms\tremaining: 2.74ms\n",
      "15:\tlearn: 17.7959053\ttotal: 8.78ms\tremaining: 2.19ms\n",
      "16:\tlearn: 17.7187536\ttotal: 9.28ms\tremaining: 1.64ms\n",
      "17:\tlearn: 17.6111860\ttotal: 9.8ms\tremaining: 1.09ms\n",
      "18:\tlearn: 17.4996505\ttotal: 10.3ms\tremaining: 542us\n",
      "19:\tlearn: 17.4240752\ttotal: 10.8ms\tremaining: 0us\n",
      "[CV 1/5] END .........................depth=2, iterations=20; total time=   0.4s\n",
      "0:\tlearn: 25.6869734\ttotal: 801us\tremaining: 15.2ms\n",
      "1:\tlearn: 24.0489239\ttotal: 1.65ms\tremaining: 14.8ms\n",
      "2:\tlearn: 22.7285189\ttotal: 2.35ms\tremaining: 13.3ms\n",
      "3:\tlearn: 21.5599449\ttotal: 3ms\tremaining: 12ms\n",
      "4:\tlearn: 21.0571612\ttotal: 3.63ms\tremaining: 10.9ms\n",
      "5:\tlearn: 20.7050640\ttotal: 4.26ms\tremaining: 9.94ms\n",
      "6:\tlearn: 20.6142807\ttotal: 4.89ms\tremaining: 9.08ms\n",
      "7:\tlearn: 20.3632201\ttotal: 5.51ms\tremaining: 8.26ms\n",
      "8:\tlearn: 20.0952385\ttotal: 6.14ms\tremaining: 7.5ms\n",
      "9:\tlearn: 19.9653673\ttotal: 6.79ms\tremaining: 6.79ms\n",
      "10:\tlearn: 19.8521680\ttotal: 7.45ms\tremaining: 6.09ms\n",
      "11:\tlearn: 19.7591922\ttotal: 8.08ms\tremaining: 5.39ms\n",
      "12:\tlearn: 19.6581763\ttotal: 8.71ms\tremaining: 4.69ms\n",
      "13:\tlearn: 19.5773653\ttotal: 9.31ms\tremaining: 3.99ms\n",
      "14:\tlearn: 19.5509267\ttotal: 9.95ms\tremaining: 3.32ms\n",
      "15:\tlearn: 19.4556868\ttotal: 10.6ms\tremaining: 2.65ms\n",
      "16:\tlearn: 19.3401594\ttotal: 11.3ms\tremaining: 1.99ms\n",
      "17:\tlearn: 19.2587940\ttotal: 11.9ms\tremaining: 1.32ms\n",
      "18:\tlearn: 19.1434832\ttotal: 12.5ms\tremaining: 657us\n",
      "19:\tlearn: 19.1215297\ttotal: 13.2ms\tremaining: 0us\n",
      "[CV 2/5] END .........................depth=2, iterations=20; total time=   0.4s\n",
      "0:\tlearn: 27.5249205\ttotal: 990us\tremaining: 18.8ms\n",
      "1:\tlearn: 24.8661701\ttotal: 2.02ms\tremaining: 18.2ms\n",
      "2:\tlearn: 23.4334370\ttotal: 2.93ms\tremaining: 16.6ms\n",
      "3:\tlearn: 22.7663014\ttotal: 3.79ms\tremaining: 15.1ms\n",
      "4:\tlearn: 22.2181478\ttotal: 4.67ms\tremaining: 14ms\n",
      "5:\tlearn: 21.8546069\ttotal: 5.49ms\tremaining: 12.8ms\n",
      "6:\tlearn: 21.6760634\ttotal: 6.33ms\tremaining: 11.7ms\n",
      "7:\tlearn: 21.5058963\ttotal: 7.17ms\tremaining: 10.8ms\n",
      "8:\tlearn: 21.3587314\ttotal: 8ms\tremaining: 9.78ms\n",
      "9:\tlearn: 21.1504775\ttotal: 8.86ms\tremaining: 8.86ms\n",
      "10:\tlearn: 20.9823826\ttotal: 9.68ms\tremaining: 7.92ms\n",
      "11:\tlearn: 20.8895595\ttotal: 10.6ms\tremaining: 7.04ms\n",
      "12:\tlearn: 20.7487679\ttotal: 11.4ms\tremaining: 6.15ms\n",
      "13:\tlearn: 20.6375161\ttotal: 12.3ms\tremaining: 5.25ms\n",
      "14:\tlearn: 20.5220022\ttotal: 13.3ms\tremaining: 4.43ms\n",
      "15:\tlearn: 20.3954705\ttotal: 14.1ms\tremaining: 3.53ms\n",
      "16:\tlearn: 20.3189408\ttotal: 14.9ms\tremaining: 2.62ms\n",
      "17:\tlearn: 20.3006934\ttotal: 15.7ms\tremaining: 1.74ms\n",
      "18:\tlearn: 20.2175661\ttotal: 16.5ms\tremaining: 866us\n",
      "19:\tlearn: 20.1290356\ttotal: 17.2ms\tremaining: 0us\n",
      "[CV 3/5] END .........................depth=2, iterations=20; total time=   0.4s\n",
      "0:\tlearn: 28.5297270\ttotal: 1.18ms\tremaining: 22.4ms\n",
      "1:\tlearn: 25.9946239\ttotal: 2.31ms\tremaining: 20.8ms\n",
      "2:\tlearn: 24.5629786\ttotal: 3.18ms\tremaining: 18ms\n",
      "3:\tlearn: 23.9827216\ttotal: 4.13ms\tremaining: 16.5ms\n",
      "4:\tlearn: 23.4012395\ttotal: 5.41ms\tremaining: 16.2ms\n",
      "5:\tlearn: 23.2240992\ttotal: 6.25ms\tremaining: 14.6ms\n",
      "6:\tlearn: 22.9081287\ttotal: 7.1ms\tremaining: 13.2ms\n",
      "7:\tlearn: 22.6051198\ttotal: 7.96ms\tremaining: 11.9ms\n",
      "8:\tlearn: 22.4742133\ttotal: 8.82ms\tremaining: 10.8ms\n",
      "9:\tlearn: 22.2141059\ttotal: 9.67ms\tremaining: 9.67ms\n",
      "10:\tlearn: 22.0817315\ttotal: 10.5ms\tremaining: 8.62ms\n",
      "11:\tlearn: 21.9595781\ttotal: 11.4ms\tremaining: 7.63ms\n",
      "12:\tlearn: 21.8712975\ttotal: 12.5ms\tremaining: 6.72ms\n",
      "13:\tlearn: 21.7215602\ttotal: 13.9ms\tremaining: 5.95ms\n",
      "14:\tlearn: 21.6219196\ttotal: 15.2ms\tremaining: 5.07ms\n",
      "15:\tlearn: 21.4912200\ttotal: 16.6ms\tremaining: 4.14ms\n",
      "16:\tlearn: 21.3414853\ttotal: 18ms\tremaining: 3.17ms\n",
      "17:\tlearn: 21.2571953\ttotal: 19.4ms\tremaining: 2.15ms\n",
      "18:\tlearn: 21.1411385\ttotal: 20.6ms\tremaining: 1.08ms\n",
      "19:\tlearn: 21.0531748\ttotal: 21.7ms\tremaining: 0us\n",
      "[CV 4/5] END .........................depth=2, iterations=20; total time=   0.5s\n",
      "0:\tlearn: 29.7230534\ttotal: 1.19ms\tremaining: 22.7ms\n",
      "1:\tlearn: 27.2429158\ttotal: 2.48ms\tremaining: 22.3ms\n",
      "2:\tlearn: 25.9507363\ttotal: 3.44ms\tremaining: 19.5ms\n",
      "3:\tlearn: 25.3307965\ttotal: 4.39ms\tremaining: 17.6ms\n",
      "4:\tlearn: 24.5660018\ttotal: 5.34ms\tremaining: 16ms\n",
      "5:\tlearn: 24.2771090\ttotal: 6.23ms\tremaining: 14.5ms\n",
      "6:\tlearn: 24.0111952\ttotal: 7.17ms\tremaining: 13.3ms\n",
      "7:\tlearn: 23.7870518\ttotal: 8.14ms\tremaining: 12.2ms\n",
      "8:\tlearn: 23.6088838\ttotal: 9.15ms\tremaining: 11.2ms\n",
      "9:\tlearn: 23.4447292\ttotal: 10.1ms\tremaining: 10.1ms\n",
      "10:\tlearn: 23.2973507\ttotal: 11ms\tremaining: 9ms\n",
      "11:\tlearn: 23.2111569\ttotal: 12ms\tremaining: 8ms\n",
      "12:\tlearn: 23.1381646\ttotal: 12.9ms\tremaining: 6.96ms\n",
      "13:\tlearn: 23.0735564\ttotal: 13.9ms\tremaining: 5.95ms\n",
      "14:\tlearn: 23.0216311\ttotal: 14.8ms\tremaining: 4.93ms\n",
      "15:\tlearn: 22.9513314\ttotal: 15.8ms\tremaining: 3.95ms\n",
      "16:\tlearn: 22.7620622\ttotal: 16.8ms\tremaining: 2.96ms\n",
      "17:\tlearn: 22.7177381\ttotal: 17.8ms\tremaining: 1.97ms\n",
      "18:\tlearn: 22.6105067\ttotal: 18.7ms\tremaining: 985us\n",
      "19:\tlearn: 22.5370862\ttotal: 19.6ms\tremaining: 0us\n",
      "[CV 5/5] END .........................depth=2, iterations=20; total time=   0.5s\n",
      "0:\tlearn: 25.3619346\ttotal: 684us\tremaining: 13.7ms\n",
      "1:\tlearn: 22.8808702\ttotal: 1.4ms\tremaining: 13.3ms\n",
      "2:\tlearn: 21.9446526\ttotal: 1.98ms\tremaining: 11.9ms\n",
      "3:\tlearn: 21.0787411\ttotal: 2.92ms\tremaining: 12.4ms\n",
      "4:\tlearn: 20.4526965\ttotal: 3.51ms\tremaining: 11.2ms\n",
      "5:\tlearn: 20.0206922\ttotal: 4.04ms\tremaining: 10.1ms\n",
      "6:\tlearn: 19.5860006\ttotal: 4.56ms\tremaining: 9.12ms\n",
      "7:\tlearn: 19.3891077\ttotal: 5.14ms\tremaining: 8.36ms\n",
      "8:\tlearn: 19.1147138\ttotal: 5.7ms\tremaining: 7.61ms\n",
      "9:\tlearn: 18.7960476\ttotal: 6.21ms\tremaining: 6.83ms\n",
      "10:\tlearn: 18.5948544\ttotal: 6.68ms\tremaining: 6.08ms\n",
      "11:\tlearn: 18.5425383\ttotal: 7.16ms\tremaining: 5.37ms\n",
      "12:\tlearn: 18.3788503\ttotal: 7.66ms\tremaining: 4.71ms\n",
      "13:\tlearn: 18.1458158\ttotal: 8.14ms\tremaining: 4.07ms\n",
      "14:\tlearn: 17.9656165\ttotal: 8.68ms\tremaining: 3.47ms\n",
      "15:\tlearn: 17.7959053\ttotal: 9.19ms\tremaining: 2.87ms\n",
      "16:\tlearn: 17.7187536\ttotal: 9.66ms\tremaining: 2.27ms\n",
      "17:\tlearn: 17.6111860\ttotal: 10.2ms\tremaining: 1.69ms\n",
      "18:\tlearn: 17.4996505\ttotal: 10.6ms\tremaining: 1.12ms\n",
      "19:\tlearn: 17.4240752\ttotal: 11.1ms\tremaining: 556us\n",
      "20:\tlearn: 17.1134003\ttotal: 11.7ms\tremaining: 0us\n",
      "[CV 1/5] END .........................depth=2, iterations=21; total time=   0.5s\n",
      "0:\tlearn: 25.6869734\ttotal: 815us\tremaining: 16.3ms\n",
      "1:\tlearn: 24.0489239\ttotal: 1.72ms\tremaining: 16.4ms\n",
      "2:\tlearn: 22.7285189\ttotal: 2.38ms\tremaining: 14.3ms\n",
      "3:\tlearn: 21.5599449\ttotal: 3.04ms\tremaining: 12.9ms\n",
      "4:\tlearn: 21.0571612\ttotal: 3.71ms\tremaining: 11.9ms\n",
      "5:\tlearn: 20.7050640\ttotal: 4.39ms\tremaining: 11ms\n",
      "6:\tlearn: 20.6142807\ttotal: 5.04ms\tremaining: 10.1ms\n",
      "7:\tlearn: 20.3632201\ttotal: 5.7ms\tremaining: 9.26ms\n",
      "8:\tlearn: 20.0952385\ttotal: 6.3ms\tremaining: 8.4ms\n",
      "9:\tlearn: 19.9653673\ttotal: 6.92ms\tremaining: 7.62ms\n",
      "10:\tlearn: 19.8521680\ttotal: 7.57ms\tremaining: 6.88ms\n",
      "11:\tlearn: 19.7591922\ttotal: 8.22ms\tremaining: 6.17ms\n",
      "12:\tlearn: 19.6581763\ttotal: 8.85ms\tremaining: 5.45ms\n",
      "13:\tlearn: 19.5773653\ttotal: 9.47ms\tremaining: 4.74ms\n",
      "14:\tlearn: 19.5509267\ttotal: 10.1ms\tremaining: 4.05ms\n",
      "15:\tlearn: 19.4556868\ttotal: 10.8ms\tremaining: 3.38ms\n",
      "16:\tlearn: 19.3401594\ttotal: 11.5ms\tremaining: 2.7ms\n",
      "17:\tlearn: 19.2587940\ttotal: 12.1ms\tremaining: 2.02ms\n",
      "18:\tlearn: 19.1434832\ttotal: 12.7ms\tremaining: 1.34ms\n",
      "19:\tlearn: 19.1215297\ttotal: 13.3ms\tremaining: 667us\n",
      "20:\tlearn: 19.0165182\ttotal: 14.1ms\tremaining: 0us\n",
      "[CV 2/5] END .........................depth=2, iterations=21; total time=   0.5s\n",
      "0:\tlearn: 27.5249205\ttotal: 942us\tremaining: 18.9ms\n",
      "1:\tlearn: 24.8661701\ttotal: 1.9ms\tremaining: 18.1ms\n",
      "2:\tlearn: 23.4334370\ttotal: 2.68ms\tremaining: 16.1ms\n",
      "3:\tlearn: 22.7663014\ttotal: 3.42ms\tremaining: 14.5ms\n",
      "4:\tlearn: 22.2181478\ttotal: 4.19ms\tremaining: 13.4ms\n",
      "5:\tlearn: 21.8546069\ttotal: 4.91ms\tremaining: 12.3ms\n",
      "6:\tlearn: 21.6760634\ttotal: 5.7ms\tremaining: 11.4ms\n",
      "7:\tlearn: 21.5058963\ttotal: 6.44ms\tremaining: 10.5ms\n",
      "8:\tlearn: 21.3587314\ttotal: 7.17ms\tremaining: 9.56ms\n",
      "9:\tlearn: 21.1504775\ttotal: 7.9ms\tremaining: 8.69ms\n",
      "10:\tlearn: 20.9823826\ttotal: 8.65ms\tremaining: 7.87ms\n",
      "11:\tlearn: 20.8895595\ttotal: 9.41ms\tremaining: 7.06ms\n",
      "12:\tlearn: 20.7487679\ttotal: 10.1ms\tremaining: 6.24ms\n",
      "13:\tlearn: 20.6375161\ttotal: 10.9ms\tremaining: 5.44ms\n",
      "14:\tlearn: 20.5220022\ttotal: 11.6ms\tremaining: 4.65ms\n",
      "15:\tlearn: 20.3954705\ttotal: 12.4ms\tremaining: 3.86ms\n",
      "16:\tlearn: 20.3189408\ttotal: 13.1ms\tremaining: 3.08ms\n",
      "17:\tlearn: 20.3006934\ttotal: 13.9ms\tremaining: 2.31ms\n",
      "18:\tlearn: 20.2175661\ttotal: 14.6ms\tremaining: 1.54ms\n",
      "19:\tlearn: 20.1290356\ttotal: 15.4ms\tremaining: 769us\n",
      "20:\tlearn: 20.0493566\ttotal: 16.2ms\tremaining: 0us\n",
      "[CV 3/5] END .........................depth=2, iterations=21; total time=   0.5s\n",
      "0:\tlearn: 28.5297270\ttotal: 1.04ms\tremaining: 20.8ms\n",
      "1:\tlearn: 25.9946239\ttotal: 2.16ms\tremaining: 20.5ms\n",
      "2:\tlearn: 24.5629786\ttotal: 3.37ms\tremaining: 20.2ms\n",
      "3:\tlearn: 23.9827216\ttotal: 4.3ms\tremaining: 18.3ms\n",
      "4:\tlearn: 23.4012395\ttotal: 5.21ms\tremaining: 16.7ms\n",
      "5:\tlearn: 23.2240992\ttotal: 6.04ms\tremaining: 15.1ms\n",
      "6:\tlearn: 22.9081287\ttotal: 6.88ms\tremaining: 13.8ms\n",
      "7:\tlearn: 22.6051198\ttotal: 7.74ms\tremaining: 12.6ms\n",
      "8:\tlearn: 22.4742133\ttotal: 8.61ms\tremaining: 11.5ms\n",
      "9:\tlearn: 22.2141059\ttotal: 9.48ms\tremaining: 10.4ms\n",
      "10:\tlearn: 22.0817315\ttotal: 10.4ms\tremaining: 9.43ms\n",
      "11:\tlearn: 21.9595781\ttotal: 11.2ms\tremaining: 8.41ms\n",
      "12:\tlearn: 21.8712975\ttotal: 12.1ms\tremaining: 7.43ms\n",
      "13:\tlearn: 21.7215602\ttotal: 12.9ms\tremaining: 6.47ms\n",
      "14:\tlearn: 21.6219196\ttotal: 13.8ms\tremaining: 5.51ms\n",
      "15:\tlearn: 21.4912200\ttotal: 14.6ms\tremaining: 4.58ms\n",
      "16:\tlearn: 21.3414853\ttotal: 15.6ms\tremaining: 3.68ms\n",
      "17:\tlearn: 21.2571953\ttotal: 16.6ms\tremaining: 2.77ms\n",
      "18:\tlearn: 21.1411385\ttotal: 17.5ms\tremaining: 1.84ms\n",
      "19:\tlearn: 21.0531748\ttotal: 18.4ms\tremaining: 918us\n",
      "20:\tlearn: 20.8825148\ttotal: 19.3ms\tremaining: 0us\n",
      "[CV 4/5] END .........................depth=2, iterations=21; total time=   0.5s\n",
      "0:\tlearn: 29.7230534\ttotal: 1.23ms\tremaining: 24.6ms\n",
      "1:\tlearn: 27.2429158\ttotal: 2.35ms\tremaining: 22.4ms\n",
      "2:\tlearn: 25.9507363\ttotal: 3.48ms\tremaining: 20.9ms\n",
      "3:\tlearn: 25.3307965\ttotal: 4.45ms\tremaining: 18.9ms\n",
      "4:\tlearn: 24.5660018\ttotal: 5.46ms\tremaining: 17.5ms\n",
      "5:\tlearn: 24.2771090\ttotal: 6.37ms\tremaining: 15.9ms\n",
      "6:\tlearn: 24.0111952\ttotal: 7.33ms\tremaining: 14.7ms\n",
      "7:\tlearn: 23.7870518\ttotal: 8.31ms\tremaining: 13.5ms\n",
      "8:\tlearn: 23.6088838\ttotal: 9.29ms\tremaining: 12.4ms\n",
      "9:\tlearn: 23.4447292\ttotal: 10.2ms\tremaining: 11.2ms\n",
      "10:\tlearn: 23.2973507\ttotal: 11.1ms\tremaining: 10.1ms\n",
      "11:\tlearn: 23.2111569\ttotal: 12.1ms\tremaining: 9.06ms\n",
      "12:\tlearn: 23.1381646\ttotal: 13ms\tremaining: 7.98ms\n",
      "13:\tlearn: 23.0735564\ttotal: 13.9ms\tremaining: 6.93ms\n",
      "14:\tlearn: 23.0216311\ttotal: 14.8ms\tremaining: 5.91ms\n",
      "15:\tlearn: 22.9513314\ttotal: 15.7ms\tremaining: 4.9ms\n",
      "16:\tlearn: 22.7620622\ttotal: 16.6ms\tremaining: 3.91ms\n",
      "17:\tlearn: 22.7177381\ttotal: 17.5ms\tremaining: 2.92ms\n",
      "18:\tlearn: 22.6105067\ttotal: 18.4ms\tremaining: 1.94ms\n",
      "19:\tlearn: 22.5370862\ttotal: 19.3ms\tremaining: 966us\n",
      "20:\tlearn: 22.3675746\ttotal: 20.3ms\tremaining: 0us\n",
      "[CV 5/5] END .........................depth=2, iterations=21; total time=   0.5s\n",
      "0:\tlearn: 24.6759242\ttotal: 1.07ms\tremaining: 18.2ms\n",
      "1:\tlearn: 22.9468938\ttotal: 2.09ms\tremaining: 16.7ms\n",
      "2:\tlearn: 21.0554511\ttotal: 2.95ms\tremaining: 14.8ms\n",
      "3:\tlearn: 19.9948317\ttotal: 3.76ms\tremaining: 13.1ms\n",
      "4:\tlearn: 19.4174500\ttotal: 4.63ms\tremaining: 12ms\n",
      "5:\tlearn: 19.1024502\ttotal: 5.5ms\tremaining: 11ms\n",
      "6:\tlearn: 18.6486378\ttotal: 6.34ms\tremaining: 9.97ms\n",
      "7:\tlearn: 18.3590777\ttotal: 7.17ms\tremaining: 8.96ms\n",
      "8:\tlearn: 18.1103390\ttotal: 7.93ms\tremaining: 7.93ms\n",
      "9:\tlearn: 17.9270379\ttotal: 8.73ms\tremaining: 6.99ms\n",
      "10:\tlearn: 17.7814562\ttotal: 9.54ms\tremaining: 6.07ms\n",
      "11:\tlearn: 17.6715920\ttotal: 10.4ms\tremaining: 5.2ms\n",
      "12:\tlearn: 17.4749983\ttotal: 11.2ms\tremaining: 4.31ms\n",
      "13:\tlearn: 17.2557139\ttotal: 12ms\tremaining: 3.43ms\n",
      "14:\tlearn: 17.0043816\ttotal: 12.8ms\tremaining: 2.56ms\n",
      "15:\tlearn: 16.8012880\ttotal: 14ms\tremaining: 1.75ms\n",
      "16:\tlearn: 16.6158279\ttotal: 15.3ms\tremaining: 899us\n",
      "17:\tlearn: 16.3818261\ttotal: 16.1ms\tremaining: 0us\n",
      "[CV 1/5] END .........................depth=3, iterations=18; total time=   0.4s\n",
      "0:\tlearn: 25.3977606\ttotal: 1.23ms\tremaining: 21ms\n",
      "1:\tlearn: 23.2796697\ttotal: 2.52ms\tremaining: 20.1ms\n",
      "2:\tlearn: 21.9541932\ttotal: 3.55ms\tremaining: 17.8ms\n",
      "3:\tlearn: 21.2621369\ttotal: 4.51ms\tremaining: 15.8ms\n",
      "4:\tlearn: 20.8015026\ttotal: 5.47ms\tremaining: 14.2ms\n",
      "5:\tlearn: 20.3956241\ttotal: 6.46ms\tremaining: 12.9ms\n",
      "6:\tlearn: 20.1448402\ttotal: 7.48ms\tremaining: 11.8ms\n",
      "7:\tlearn: 19.6612761\ttotal: 8.79ms\tremaining: 11ms\n",
      "8:\tlearn: 19.4930495\ttotal: 9.94ms\tremaining: 9.94ms\n",
      "9:\tlearn: 19.3242524\ttotal: 10.9ms\tremaining: 8.74ms\n",
      "10:\tlearn: 19.1811622\ttotal: 12ms\tremaining: 7.61ms\n",
      "11:\tlearn: 18.9799047\ttotal: 12.9ms\tremaining: 6.46ms\n",
      "12:\tlearn: 18.8855322\ttotal: 13.9ms\tremaining: 5.35ms\n",
      "13:\tlearn: 18.8137191\ttotal: 14.9ms\tremaining: 4.26ms\n",
      "14:\tlearn: 18.6258600\ttotal: 15.9ms\tremaining: 3.18ms\n",
      "15:\tlearn: 18.4813574\ttotal: 16.9ms\tremaining: 2.12ms\n",
      "16:\tlearn: 18.3319835\ttotal: 17.9ms\tremaining: 1.05ms\n",
      "17:\tlearn: 18.1614400\ttotal: 18.9ms\tremaining: 0us\n",
      "[CV 2/5] END .........................depth=3, iterations=18; total time=   0.5s\n",
      "0:\tlearn: 26.5707176\ttotal: 1.47ms\tremaining: 25.1ms\n",
      "1:\tlearn: 24.0499932\ttotal: 2.77ms\tremaining: 22.2ms\n",
      "2:\tlearn: 22.4674569\ttotal: 4.01ms\tremaining: 20.1ms\n",
      "3:\tlearn: 21.6850985\ttotal: 5.21ms\tremaining: 18.2ms\n",
      "4:\tlearn: 21.2147525\ttotal: 6.45ms\tremaining: 16.8ms\n",
      "5:\tlearn: 20.9523399\ttotal: 7.65ms\tremaining: 15.3ms\n",
      "6:\tlearn: 20.6892054\ttotal: 8.79ms\tremaining: 13.8ms\n",
      "7:\tlearn: 20.5007049\ttotal: 9.97ms\tremaining: 12.5ms\n",
      "8:\tlearn: 20.3090833\ttotal: 11.1ms\tremaining: 11.1ms\n",
      "9:\tlearn: 20.0298555\ttotal: 12.4ms\tremaining: 9.92ms\n",
      "10:\tlearn: 19.8595926\ttotal: 14.1ms\tremaining: 8.95ms\n",
      "11:\tlearn: 19.7205946\ttotal: 15.7ms\tremaining: 7.85ms\n",
      "12:\tlearn: 19.6393735\ttotal: 17.3ms\tremaining: 6.64ms\n",
      "13:\tlearn: 19.5328159\ttotal: 18.4ms\tremaining: 5.27ms\n",
      "14:\tlearn: 19.4299498\ttotal: 19.7ms\tremaining: 3.93ms\n",
      "15:\tlearn: 19.2935498\ttotal: 20.8ms\tremaining: 2.6ms\n",
      "16:\tlearn: 19.2122173\ttotal: 22ms\tremaining: 1.3ms\n",
      "17:\tlearn: 19.0451001\ttotal: 23.2ms\tremaining: 0us\n",
      "[CV 3/5] END .........................depth=3, iterations=18; total time=   0.5s\n",
      "0:\tlearn: 27.5590009\ttotal: 1.69ms\tremaining: 28.7ms\n",
      "1:\tlearn: 25.2067113\ttotal: 3.36ms\tremaining: 26.9ms\n",
      "2:\tlearn: 23.6830102\ttotal: 5.45ms\tremaining: 27.3ms\n",
      "3:\tlearn: 23.0823527\ttotal: 6.83ms\tremaining: 23.9ms\n",
      "4:\tlearn: 22.4863043\ttotal: 8.2ms\tremaining: 21.3ms\n",
      "5:\tlearn: 22.1278693\ttotal: 9.59ms\tremaining: 19.2ms\n",
      "6:\tlearn: 21.8773645\ttotal: 11ms\tremaining: 17.2ms\n",
      "7:\tlearn: 21.7115192\ttotal: 12.4ms\tremaining: 15.5ms\n",
      "8:\tlearn: 21.5746629\ttotal: 13.8ms\tremaining: 13.8ms\n",
      "9:\tlearn: 21.4052070\ttotal: 15.2ms\tremaining: 12.1ms\n",
      "10:\tlearn: 21.2127170\ttotal: 16.5ms\tremaining: 10.5ms\n",
      "11:\tlearn: 21.0446031\ttotal: 17.9ms\tremaining: 8.93ms\n",
      "12:\tlearn: 20.9823507\ttotal: 19.2ms\tremaining: 7.37ms\n",
      "13:\tlearn: 20.8057591\ttotal: 20.4ms\tremaining: 5.84ms\n",
      "14:\tlearn: 20.7174525\ttotal: 21.8ms\tremaining: 4.37ms\n",
      "15:\tlearn: 20.5751884\ttotal: 23.2ms\tremaining: 2.9ms\n",
      "16:\tlearn: 20.4817123\ttotal: 24.5ms\tremaining: 1.44ms\n",
      "17:\tlearn: 20.3839292\ttotal: 25.8ms\tremaining: 0us\n",
      "[CV 4/5] END .........................depth=3, iterations=18; total time=   0.5s\n",
      "0:\tlearn: 29.0096936\ttotal: 1.96ms\tremaining: 33.3ms\n",
      "1:\tlearn: 26.4768008\ttotal: 4.07ms\tremaining: 32.6ms\n",
      "2:\tlearn: 25.0083336\ttotal: 5.82ms\tremaining: 29.1ms\n",
      "3:\tlearn: 24.3736384\ttotal: 7.26ms\tremaining: 25.4ms\n",
      "4:\tlearn: 23.9146080\ttotal: 8.64ms\tremaining: 22.5ms\n",
      "5:\tlearn: 23.7209041\ttotal: 10.1ms\tremaining: 20.2ms\n",
      "6:\tlearn: 23.3830273\ttotal: 11.6ms\tremaining: 18.2ms\n",
      "7:\tlearn: 23.2425567\ttotal: 13.1ms\tremaining: 16.3ms\n",
      "8:\tlearn: 23.0362700\ttotal: 14.5ms\tremaining: 14.5ms\n",
      "9:\tlearn: 22.8729975\ttotal: 15.9ms\tremaining: 12.7ms\n",
      "10:\tlearn: 22.6812754\ttotal: 17.3ms\tremaining: 11ms\n",
      "11:\tlearn: 22.5651923\ttotal: 18.7ms\tremaining: 9.36ms\n",
      "12:\tlearn: 22.4553214\ttotal: 20.2ms\tremaining: 7.76ms\n",
      "13:\tlearn: 22.3786883\ttotal: 21.5ms\tremaining: 6.15ms\n",
      "14:\tlearn: 22.2732529\ttotal: 22.9ms\tremaining: 4.57ms\n",
      "15:\tlearn: 22.1114089\ttotal: 24.3ms\tremaining: 3.04ms\n",
      "16:\tlearn: 21.9964089\ttotal: 25.8ms\tremaining: 1.51ms\n",
      "17:\tlearn: 21.8382608\ttotal: 27.2ms\tremaining: 0us\n",
      "[CV 5/5] END .........................depth=3, iterations=18; total time=   0.4s\n",
      "0:\tlearn: 24.6759242\ttotal: 1.05ms\tremaining: 18.9ms\n",
      "1:\tlearn: 22.9468938\ttotal: 2.12ms\tremaining: 18ms\n",
      "2:\tlearn: 21.0554511\ttotal: 3.04ms\tremaining: 16.2ms\n",
      "3:\tlearn: 19.9948317\ttotal: 3.9ms\tremaining: 14.6ms\n",
      "4:\tlearn: 19.4174500\ttotal: 4.72ms\tremaining: 13.2ms\n",
      "5:\tlearn: 19.1024502\ttotal: 5.51ms\tremaining: 11.9ms\n",
      "6:\tlearn: 18.6486378\ttotal: 6.34ms\tremaining: 10.9ms\n",
      "7:\tlearn: 18.3590777\ttotal: 7.22ms\tremaining: 9.93ms\n",
      "8:\tlearn: 18.1103390\ttotal: 8.21ms\tremaining: 9.12ms\n",
      "9:\tlearn: 17.9270379\ttotal: 9.21ms\tremaining: 8.29ms\n",
      "10:\tlearn: 17.7814562\ttotal: 10.1ms\tremaining: 7.33ms\n",
      "11:\tlearn: 17.6715920\ttotal: 10.9ms\tremaining: 6.36ms\n",
      "12:\tlearn: 17.4749983\ttotal: 11.8ms\tremaining: 5.42ms\n",
      "13:\tlearn: 17.2557139\ttotal: 12.6ms\tremaining: 4.5ms\n",
      "14:\tlearn: 17.0043816\ttotal: 13.5ms\tremaining: 3.6ms\n",
      "15:\tlearn: 16.8012880\ttotal: 14.3ms\tremaining: 2.68ms\n",
      "16:\tlearn: 16.6158279\ttotal: 15.3ms\tremaining: 1.8ms\n",
      "17:\tlearn: 16.3818261\ttotal: 16.1ms\tremaining: 892us\n",
      "18:\tlearn: 16.1500072\ttotal: 17ms\tremaining: 0us\n",
      "[CV 1/5] END .........................depth=3, iterations=19; total time=   0.4s\n",
      "0:\tlearn: 25.3977606\ttotal: 1.13ms\tremaining: 20.3ms\n",
      "1:\tlearn: 23.2796697\ttotal: 2.27ms\tremaining: 19.3ms\n",
      "2:\tlearn: 21.9541932\ttotal: 3.29ms\tremaining: 17.5ms\n",
      "3:\tlearn: 21.2621369\ttotal: 4.27ms\tremaining: 16ms\n",
      "4:\tlearn: 20.8015026\ttotal: 5.27ms\tremaining: 14.8ms\n",
      "5:\tlearn: 20.3956241\ttotal: 6.27ms\tremaining: 13.6ms\n",
      "6:\tlearn: 20.1448402\ttotal: 7.22ms\tremaining: 12.4ms\n",
      "7:\tlearn: 19.6612761\ttotal: 8.2ms\tremaining: 11.3ms\n",
      "8:\tlearn: 19.4930495\ttotal: 9.22ms\tremaining: 10.2ms\n",
      "9:\tlearn: 19.3242524\ttotal: 10.2ms\tremaining: 9.14ms\n",
      "10:\tlearn: 19.1811622\ttotal: 11.1ms\tremaining: 8.09ms\n",
      "11:\tlearn: 18.9799047\ttotal: 12.1ms\tremaining: 7.04ms\n",
      "12:\tlearn: 18.8855322\ttotal: 13.1ms\tremaining: 6.05ms\n",
      "13:\tlearn: 18.8137191\ttotal: 14.1ms\tremaining: 5.02ms\n",
      "14:\tlearn: 18.6258600\ttotal: 15ms\tremaining: 4ms\n",
      "15:\tlearn: 18.4813574\ttotal: 16ms\tremaining: 3ms\n",
      "16:\tlearn: 18.3319835\ttotal: 16.9ms\tremaining: 1.99ms\n",
      "17:\tlearn: 18.1614400\ttotal: 17.9ms\tremaining: 991us\n",
      "18:\tlearn: 18.1248068\ttotal: 18.8ms\tremaining: 0us\n",
      "[CV 2/5] END .........................depth=3, iterations=19; total time=   0.4s\n",
      "0:\tlearn: 26.5707176\ttotal: 1.31ms\tremaining: 23.6ms\n",
      "1:\tlearn: 24.0499932\ttotal: 2.64ms\tremaining: 22.4ms\n",
      "2:\tlearn: 22.4674569\ttotal: 3.81ms\tremaining: 20.3ms\n",
      "3:\tlearn: 21.6850985\ttotal: 4.96ms\tremaining: 18.6ms\n",
      "4:\tlearn: 21.2147525\ttotal: 6.12ms\tremaining: 17.1ms\n",
      "5:\tlearn: 20.9523399\ttotal: 7.25ms\tremaining: 15.7ms\n",
      "6:\tlearn: 20.6892054\ttotal: 8.34ms\tremaining: 14.3ms\n",
      "7:\tlearn: 20.5007049\ttotal: 9.49ms\tremaining: 13.1ms\n",
      "8:\tlearn: 20.3090833\ttotal: 10.6ms\tremaining: 11.7ms\n",
      "9:\tlearn: 20.0298555\ttotal: 11.7ms\tremaining: 10.5ms\n",
      "10:\tlearn: 19.8595926\ttotal: 12.8ms\tremaining: 9.3ms\n",
      "11:\tlearn: 19.7205946\ttotal: 13.9ms\tremaining: 8.09ms\n",
      "12:\tlearn: 19.6393735\ttotal: 15ms\tremaining: 6.92ms\n",
      "13:\tlearn: 19.5328159\ttotal: 16.2ms\tremaining: 5.79ms\n",
      "14:\tlearn: 19.4299498\ttotal: 17.4ms\tremaining: 4.64ms\n",
      "15:\tlearn: 19.2935498\ttotal: 18.6ms\tremaining: 3.48ms\n",
      "16:\tlearn: 19.2122173\ttotal: 19.8ms\tremaining: 2.33ms\n",
      "17:\tlearn: 19.0451001\ttotal: 20.9ms\tremaining: 1.16ms\n",
      "18:\tlearn: 18.8886744\ttotal: 22.2ms\tremaining: 0us\n",
      "[CV 3/5] END .........................depth=3, iterations=19; total time=   0.4s\n",
      "0:\tlearn: 27.5590009\ttotal: 1.54ms\tremaining: 27.7ms\n",
      "1:\tlearn: 25.2067113\ttotal: 3.04ms\tremaining: 25.9ms\n",
      "2:\tlearn: 23.6830102\ttotal: 4.56ms\tremaining: 24.3ms\n",
      "3:\tlearn: 23.0823527\ttotal: 6.06ms\tremaining: 22.7ms\n",
      "4:\tlearn: 22.4863043\ttotal: 7.48ms\tremaining: 21ms\n",
      "5:\tlearn: 22.1278693\ttotal: 8.94ms\tremaining: 19.4ms\n",
      "6:\tlearn: 21.8773645\ttotal: 10.3ms\tremaining: 17.6ms\n",
      "7:\tlearn: 21.7115192\ttotal: 11.7ms\tremaining: 16.1ms\n",
      "8:\tlearn: 21.5746629\ttotal: 13ms\tremaining: 14.5ms\n",
      "9:\tlearn: 21.4052070\ttotal: 14.3ms\tremaining: 12.9ms\n",
      "10:\tlearn: 21.2127170\ttotal: 15.7ms\tremaining: 11.4ms\n",
      "11:\tlearn: 21.0446031\ttotal: 17.4ms\tremaining: 10.1ms\n",
      "12:\tlearn: 20.9823507\ttotal: 18.6ms\tremaining: 8.58ms\n",
      "13:\tlearn: 20.8057591\ttotal: 19.8ms\tremaining: 7.08ms\n",
      "14:\tlearn: 20.7174525\ttotal: 21.2ms\tremaining: 5.65ms\n",
      "15:\tlearn: 20.5751884\ttotal: 22.9ms\tremaining: 4.3ms\n",
      "16:\tlearn: 20.4817123\ttotal: 25ms\tremaining: 2.94ms\n",
      "17:\tlearn: 20.3839292\ttotal: 26.6ms\tremaining: 1.48ms\n",
      "18:\tlearn: 20.2016516\ttotal: 27.9ms\tremaining: 0us\n",
      "[CV 4/5] END .........................depth=3, iterations=19; total time=   0.5s\n",
      "0:\tlearn: 29.0096936\ttotal: 1.74ms\tremaining: 31.2ms\n",
      "1:\tlearn: 26.4768008\ttotal: 3.34ms\tremaining: 28.4ms\n",
      "2:\tlearn: 25.0083336\ttotal: 4.89ms\tremaining: 26.1ms\n",
      "3:\tlearn: 24.3736384\ttotal: 6.3ms\tremaining: 23.6ms\n",
      "4:\tlearn: 23.9146080\ttotal: 7.67ms\tremaining: 21.5ms\n",
      "5:\tlearn: 23.7209041\ttotal: 9.05ms\tremaining: 19.6ms\n",
      "6:\tlearn: 23.3830273\ttotal: 10.6ms\tremaining: 18.1ms\n",
      "7:\tlearn: 23.2425567\ttotal: 12ms\tremaining: 16.5ms\n",
      "8:\tlearn: 23.0362700\ttotal: 13.5ms\tremaining: 15ms\n",
      "9:\tlearn: 22.8729975\ttotal: 14.9ms\tremaining: 13.4ms\n",
      "10:\tlearn: 22.6812754\ttotal: 16.4ms\tremaining: 11.9ms\n",
      "11:\tlearn: 22.5651923\ttotal: 17.8ms\tremaining: 10.4ms\n",
      "12:\tlearn: 22.4553214\ttotal: 19.4ms\tremaining: 8.94ms\n",
      "13:\tlearn: 22.3786883\ttotal: 20.7ms\tremaining: 7.41ms\n",
      "14:\tlearn: 22.2732529\ttotal: 22.1ms\tremaining: 5.9ms\n",
      "15:\tlearn: 22.1114089\ttotal: 23.6ms\tremaining: 4.42ms\n",
      "16:\tlearn: 21.9964089\ttotal: 25.1ms\tremaining: 2.95ms\n",
      "17:\tlearn: 21.8382608\ttotal: 26.6ms\tremaining: 1.48ms\n",
      "18:\tlearn: 21.8194662\ttotal: 28ms\tremaining: 0us\n",
      "[CV 5/5] END .........................depth=3, iterations=19; total time=   0.6s\n",
      "0:\tlearn: 24.6759242\ttotal: 1.01ms\tremaining: 19.1ms\n",
      "1:\tlearn: 22.9468938\ttotal: 2.42ms\tremaining: 21.8ms\n",
      "2:\tlearn: 21.0554511\ttotal: 3.36ms\tremaining: 19ms\n",
      "3:\tlearn: 19.9948317\ttotal: 4.16ms\tremaining: 16.6ms\n",
      "4:\tlearn: 19.4174500\ttotal: 4.97ms\tremaining: 14.9ms\n",
      "5:\tlearn: 19.1024502\ttotal: 5.76ms\tremaining: 13.4ms\n",
      "6:\tlearn: 18.6486378\ttotal: 6.56ms\tremaining: 12.2ms\n",
      "7:\tlearn: 18.3590777\ttotal: 7.37ms\tremaining: 11.1ms\n",
      "8:\tlearn: 18.1103390\ttotal: 8.18ms\tremaining: 10ms\n",
      "9:\tlearn: 17.9270379\ttotal: 8.96ms\tremaining: 8.96ms\n",
      "10:\tlearn: 17.7814562\ttotal: 9.78ms\tremaining: 8ms\n",
      "11:\tlearn: 17.6715920\ttotal: 10.5ms\tremaining: 7.02ms\n",
      "12:\tlearn: 17.4749983\ttotal: 11.6ms\tremaining: 6.22ms\n",
      "13:\tlearn: 17.2557139\ttotal: 12.4ms\tremaining: 5.32ms\n",
      "14:\tlearn: 17.0043816\ttotal: 13.2ms\tremaining: 4.41ms\n",
      "15:\tlearn: 16.8012880\ttotal: 14ms\tremaining: 3.5ms\n",
      "16:\tlearn: 16.6158279\ttotal: 14.8ms\tremaining: 2.62ms\n",
      "17:\tlearn: 16.3818261\ttotal: 15.8ms\tremaining: 1.76ms\n",
      "18:\tlearn: 16.1500072\ttotal: 17ms\tremaining: 896us\n",
      "19:\tlearn: 15.9104559\ttotal: 17.9ms\tremaining: 0us\n",
      "[CV 1/5] END .........................depth=3, iterations=20; total time=   1.0s\n",
      "0:\tlearn: 25.3977606\ttotal: 1.19ms\tremaining: 22.7ms\n",
      "1:\tlearn: 23.2796697\ttotal: 2.41ms\tremaining: 21.7ms\n",
      "2:\tlearn: 21.9541932\ttotal: 3.47ms\tremaining: 19.7ms\n",
      "3:\tlearn: 21.2621369\ttotal: 4.55ms\tremaining: 18.2ms\n",
      "4:\tlearn: 20.8015026\ttotal: 5.58ms\tremaining: 16.7ms\n",
      "5:\tlearn: 20.3956241\ttotal: 6.57ms\tremaining: 15.3ms\n",
      "6:\tlearn: 20.1448402\ttotal: 7.57ms\tremaining: 14.1ms\n",
      "7:\tlearn: 19.6612761\ttotal: 8.57ms\tremaining: 12.9ms\n",
      "8:\tlearn: 19.4930495\ttotal: 9.55ms\tremaining: 11.7ms\n",
      "9:\tlearn: 19.3242524\ttotal: 10.5ms\tremaining: 10.5ms\n",
      "10:\tlearn: 19.1811622\ttotal: 11.5ms\tremaining: 9.43ms\n",
      "11:\tlearn: 18.9799047\ttotal: 12.5ms\tremaining: 8.34ms\n",
      "12:\tlearn: 18.8855322\ttotal: 13.5ms\tremaining: 7.25ms\n",
      "13:\tlearn: 18.8137191\ttotal: 14.4ms\tremaining: 6.16ms\n",
      "14:\tlearn: 18.6258600\ttotal: 15.4ms\tremaining: 5.12ms\n",
      "15:\tlearn: 18.4813574\ttotal: 16.3ms\tremaining: 4.08ms\n",
      "16:\tlearn: 18.3319835\ttotal: 17.6ms\tremaining: 3.1ms\n",
      "17:\tlearn: 18.1614400\ttotal: 19.1ms\tremaining: 2.12ms\n",
      "18:\tlearn: 18.1248068\ttotal: 20.2ms\tremaining: 1.06ms\n",
      "19:\tlearn: 18.0967815\ttotal: 21.1ms\tremaining: 0us\n",
      "[CV 2/5] END .........................depth=3, iterations=20; total time=   0.5s\n",
      "0:\tlearn: 26.5707176\ttotal: 1.42ms\tremaining: 27.1ms\n",
      "1:\tlearn: 24.0499932\ttotal: 2.86ms\tremaining: 25.7ms\n",
      "2:\tlearn: 22.4674569\ttotal: 4.1ms\tremaining: 23.2ms\n",
      "3:\tlearn: 21.6850985\ttotal: 5.21ms\tremaining: 20.8ms\n",
      "4:\tlearn: 21.2147525\ttotal: 6.33ms\tremaining: 19ms\n",
      "5:\tlearn: 20.9523399\ttotal: 7.48ms\tremaining: 17.5ms\n",
      "6:\tlearn: 20.6892054\ttotal: 8.56ms\tremaining: 15.9ms\n",
      "7:\tlearn: 20.5007049\ttotal: 9.69ms\tremaining: 14.5ms\n",
      "8:\tlearn: 20.3090833\ttotal: 10.9ms\tremaining: 13.3ms\n",
      "9:\tlearn: 20.0298555\ttotal: 12ms\tremaining: 12ms\n",
      "10:\tlearn: 19.8595926\ttotal: 13.1ms\tremaining: 10.7ms\n",
      "11:\tlearn: 19.7205946\ttotal: 14.2ms\tremaining: 9.48ms\n",
      "12:\tlearn: 19.6393735\ttotal: 15.3ms\tremaining: 8.23ms\n",
      "13:\tlearn: 19.5328159\ttotal: 16.3ms\tremaining: 7ms\n",
      "14:\tlearn: 19.4299498\ttotal: 17.5ms\tremaining: 5.82ms\n",
      "15:\tlearn: 19.2935498\ttotal: 19.1ms\tremaining: 4.78ms\n",
      "16:\tlearn: 19.2122173\ttotal: 20.4ms\tremaining: 3.6ms\n",
      "17:\tlearn: 19.0451001\ttotal: 21.6ms\tremaining: 2.4ms\n",
      "18:\tlearn: 18.8886744\ttotal: 22.7ms\tremaining: 1.2ms\n",
      "19:\tlearn: 18.7827009\ttotal: 23.8ms\tremaining: 0us\n",
      "[CV 3/5] END .........................depth=3, iterations=20; total time=   0.7s\n",
      "0:\tlearn: 27.5590009\ttotal: 1.45ms\tremaining: 27.6ms\n",
      "1:\tlearn: 25.2067113\ttotal: 2.99ms\tremaining: 26.9ms\n",
      "2:\tlearn: 23.6830102\ttotal: 4.9ms\tremaining: 27.7ms\n",
      "3:\tlearn: 23.0823527\ttotal: 6.29ms\tremaining: 25.2ms\n",
      "4:\tlearn: 22.4863043\ttotal: 7.66ms\tremaining: 23ms\n",
      "5:\tlearn: 22.1278693\ttotal: 9.01ms\tremaining: 21ms\n",
      "6:\tlearn: 21.8773645\ttotal: 10.4ms\tremaining: 19.3ms\n",
      "7:\tlearn: 21.7115192\ttotal: 11.7ms\tremaining: 17.6ms\n",
      "8:\tlearn: 21.5746629\ttotal: 13ms\tremaining: 15.9ms\n",
      "9:\tlearn: 21.4052070\ttotal: 14.2ms\tremaining: 14.2ms\n",
      "10:\tlearn: 21.2127170\ttotal: 15.5ms\tremaining: 12.7ms\n",
      "11:\tlearn: 21.0446031\ttotal: 16.7ms\tremaining: 11.1ms\n",
      "12:\tlearn: 20.9823507\ttotal: 17.9ms\tremaining: 9.65ms\n",
      "13:\tlearn: 20.8057591\ttotal: 19.2ms\tremaining: 8.21ms\n",
      "14:\tlearn: 20.7174525\ttotal: 20.5ms\tremaining: 6.83ms\n",
      "15:\tlearn: 20.5751884\ttotal: 21.8ms\tremaining: 5.45ms\n",
      "16:\tlearn: 20.4817123\ttotal: 23.1ms\tremaining: 4.07ms\n",
      "17:\tlearn: 20.3839292\ttotal: 24.4ms\tremaining: 2.71ms\n",
      "18:\tlearn: 20.2016516\ttotal: 25.6ms\tremaining: 1.35ms\n",
      "19:\tlearn: 20.1307758\ttotal: 26.8ms\tremaining: 0us\n",
      "[CV 4/5] END .........................depth=3, iterations=20; total time=   0.5s\n",
      "0:\tlearn: 29.0096936\ttotal: 1.72ms\tremaining: 32.6ms\n",
      "1:\tlearn: 26.4768008\ttotal: 3.71ms\tremaining: 33.4ms\n",
      "2:\tlearn: 25.0083336\ttotal: 6.19ms\tremaining: 35.1ms\n",
      "3:\tlearn: 24.3736384\ttotal: 8.26ms\tremaining: 33ms\n",
      "4:\tlearn: 23.9146080\ttotal: 10.5ms\tremaining: 31.4ms\n",
      "5:\tlearn: 23.7209041\ttotal: 12.6ms\tremaining: 29.3ms\n",
      "6:\tlearn: 23.3830273\ttotal: 14ms\tremaining: 26.1ms\n",
      "7:\tlearn: 23.2425567\ttotal: 15.5ms\tremaining: 23.3ms\n",
      "8:\tlearn: 23.0362700\ttotal: 17ms\tremaining: 20.8ms\n",
      "9:\tlearn: 22.8729975\ttotal: 19.1ms\tremaining: 19.1ms\n",
      "10:\tlearn: 22.6812754\ttotal: 21.3ms\tremaining: 17.4ms\n",
      "11:\tlearn: 22.5651923\ttotal: 23ms\tremaining: 15.3ms\n",
      "12:\tlearn: 22.4553214\ttotal: 24.6ms\tremaining: 13.2ms\n",
      "13:\tlearn: 22.3786883\ttotal: 26.1ms\tremaining: 11.2ms\n",
      "14:\tlearn: 22.2732529\ttotal: 27.8ms\tremaining: 9.28ms\n",
      "15:\tlearn: 22.1114089\ttotal: 29.5ms\tremaining: 7.38ms\n",
      "16:\tlearn: 21.9964089\ttotal: 31.3ms\tremaining: 5.52ms\n",
      "17:\tlearn: 21.8382608\ttotal: 32.8ms\tremaining: 3.65ms\n",
      "18:\tlearn: 21.8194662\ttotal: 34.4ms\tremaining: 1.81ms\n",
      "19:\tlearn: 21.7104008\ttotal: 36.5ms\tremaining: 0us\n",
      "[CV 5/5] END .........................depth=3, iterations=20; total time=   0.5s\n",
      "0:\tlearn: 24.6759242\ttotal: 987us\tremaining: 19.8ms\n",
      "1:\tlearn: 22.9468938\ttotal: 1.99ms\tremaining: 18.9ms\n",
      "2:\tlearn: 21.0554511\ttotal: 2.87ms\tremaining: 17.2ms\n",
      "3:\tlearn: 19.9948317\ttotal: 3.67ms\tremaining: 15.6ms\n",
      "4:\tlearn: 19.4174500\ttotal: 4.5ms\tremaining: 14.4ms\n",
      "5:\tlearn: 19.1024502\ttotal: 5.51ms\tremaining: 13.8ms\n",
      "6:\tlearn: 18.6486378\ttotal: 6.41ms\tremaining: 12.8ms\n",
      "7:\tlearn: 18.3590777\ttotal: 7.27ms\tremaining: 11.8ms\n",
      "8:\tlearn: 18.1103390\ttotal: 8.07ms\tremaining: 10.8ms\n",
      "9:\tlearn: 17.9270379\ttotal: 8.89ms\tremaining: 9.78ms\n",
      "10:\tlearn: 17.7814562\ttotal: 9.74ms\tremaining: 8.85ms\n",
      "11:\tlearn: 17.6715920\ttotal: 10.6ms\tremaining: 7.92ms\n",
      "12:\tlearn: 17.4749983\ttotal: 11.5ms\tremaining: 7.06ms\n",
      "13:\tlearn: 17.2557139\ttotal: 12.3ms\tremaining: 6.14ms\n",
      "14:\tlearn: 17.0043816\ttotal: 13.1ms\tremaining: 5.24ms\n",
      "15:\tlearn: 16.8012880\ttotal: 13.9ms\tremaining: 4.34ms\n",
      "16:\tlearn: 16.6158279\ttotal: 14.7ms\tremaining: 3.46ms\n",
      "17:\tlearn: 16.3818261\ttotal: 15.5ms\tremaining: 2.58ms\n",
      "18:\tlearn: 16.1500072\ttotal: 16.3ms\tremaining: 1.71ms\n",
      "19:\tlearn: 15.9104559\ttotal: 17.1ms\tremaining: 852us\n",
      "20:\tlearn: 15.7243723\ttotal: 18.2ms\tremaining: 0us\n",
      "[CV 1/5] END .........................depth=3, iterations=21; total time=   0.4s\n",
      "0:\tlearn: 25.3977606\ttotal: 1.18ms\tremaining: 23.6ms\n",
      "1:\tlearn: 23.2796697\ttotal: 2.47ms\tremaining: 23.5ms\n",
      "2:\tlearn: 21.9541932\ttotal: 3.81ms\tremaining: 22.8ms\n",
      "3:\tlearn: 21.2621369\ttotal: 4.89ms\tremaining: 20.8ms\n",
      "4:\tlearn: 20.8015026\ttotal: 5.97ms\tremaining: 19.1ms\n",
      "5:\tlearn: 20.3956241\ttotal: 7ms\tremaining: 17.5ms\n",
      "6:\tlearn: 20.1448402\ttotal: 8.03ms\tremaining: 16.1ms\n",
      "7:\tlearn: 19.6612761\ttotal: 9.08ms\tremaining: 14.8ms\n",
      "8:\tlearn: 19.4930495\ttotal: 10.1ms\tremaining: 13.4ms\n",
      "9:\tlearn: 19.3242524\ttotal: 11.1ms\tremaining: 12.2ms\n",
      "10:\tlearn: 19.1811622\ttotal: 12.1ms\tremaining: 11ms\n",
      "11:\tlearn: 18.9799047\ttotal: 13.2ms\tremaining: 9.86ms\n",
      "12:\tlearn: 18.8855322\ttotal: 14.2ms\tremaining: 8.72ms\n",
      "13:\tlearn: 18.8137191\ttotal: 15.2ms\tremaining: 7.58ms\n",
      "14:\tlearn: 18.6258600\ttotal: 16.1ms\tremaining: 6.44ms\n",
      "15:\tlearn: 18.4813574\ttotal: 17.1ms\tremaining: 5.34ms\n",
      "16:\tlearn: 18.3319835\ttotal: 18ms\tremaining: 4.24ms\n",
      "17:\tlearn: 18.1614400\ttotal: 19ms\tremaining: 3.17ms\n",
      "18:\tlearn: 18.1248068\ttotal: 19.9ms\tremaining: 2.1ms\n",
      "19:\tlearn: 18.0967815\ttotal: 20.9ms\tremaining: 1.04ms\n",
      "20:\tlearn: 18.0005510\ttotal: 21.8ms\tremaining: 0us\n",
      "[CV 2/5] END .........................depth=3, iterations=21; total time=   0.6s\n",
      "0:\tlearn: 26.5707176\ttotal: 1.36ms\tremaining: 27.2ms\n",
      "1:\tlearn: 24.0499932\ttotal: 2.78ms\tremaining: 26.4ms\n",
      "2:\tlearn: 22.4674569\ttotal: 3.97ms\tremaining: 23.8ms\n",
      "3:\tlearn: 21.6850985\ttotal: 5.15ms\tremaining: 21.9ms\n",
      "4:\tlearn: 21.2147525\ttotal: 6.32ms\tremaining: 20.2ms\n",
      "5:\tlearn: 20.9523399\ttotal: 7.44ms\tremaining: 18.6ms\n",
      "6:\tlearn: 20.6892054\ttotal: 8.52ms\tremaining: 17ms\n",
      "7:\tlearn: 20.5007049\ttotal: 9.68ms\tremaining: 15.7ms\n",
      "8:\tlearn: 20.3090833\ttotal: 10.8ms\tremaining: 14.4ms\n",
      "9:\tlearn: 20.0298555\ttotal: 12.1ms\tremaining: 13.3ms\n",
      "10:\tlearn: 19.8595926\ttotal: 13.2ms\tremaining: 12ms\n",
      "11:\tlearn: 19.7205946\ttotal: 14.4ms\tremaining: 10.8ms\n",
      "12:\tlearn: 19.6393735\ttotal: 15.5ms\tremaining: 9.55ms\n",
      "13:\tlearn: 19.5328159\ttotal: 16.7ms\tremaining: 8.34ms\n",
      "14:\tlearn: 19.4299498\ttotal: 18ms\tremaining: 7.19ms\n",
      "15:\tlearn: 19.2935498\ttotal: 19.2ms\tremaining: 6.01ms\n",
      "16:\tlearn: 19.2122173\ttotal: 20.4ms\tremaining: 4.81ms\n",
      "17:\tlearn: 19.0451001\ttotal: 21.6ms\tremaining: 3.6ms\n",
      "18:\tlearn: 18.8886744\ttotal: 22.8ms\tremaining: 2.4ms\n",
      "19:\tlearn: 18.7827009\ttotal: 23.9ms\tremaining: 1.19ms\n",
      "20:\tlearn: 18.6814324\ttotal: 25ms\tremaining: 0us\n",
      "[CV 3/5] END .........................depth=3, iterations=21; total time=   0.5s\n",
      "0:\tlearn: 27.5590009\ttotal: 1.48ms\tremaining: 29.7ms\n",
      "1:\tlearn: 25.2067113\ttotal: 2.97ms\tremaining: 28.2ms\n",
      "2:\tlearn: 23.6830102\ttotal: 4.46ms\tremaining: 26.8ms\n",
      "3:\tlearn: 23.0823527\ttotal: 5.88ms\tremaining: 25ms\n",
      "4:\tlearn: 22.4863043\ttotal: 7.21ms\tremaining: 23.1ms\n",
      "5:\tlearn: 22.1278693\ttotal: 8.51ms\tremaining: 21.3ms\n",
      "6:\tlearn: 21.8773645\ttotal: 9.84ms\tremaining: 19.7ms\n",
      "7:\tlearn: 21.7115192\ttotal: 11.2ms\tremaining: 18.3ms\n",
      "8:\tlearn: 21.5746629\ttotal: 12.6ms\tremaining: 16.8ms\n",
      "9:\tlearn: 21.4052070\ttotal: 13.9ms\tremaining: 15.3ms\n",
      "10:\tlearn: 21.2127170\ttotal: 15.2ms\tremaining: 13.8ms\n",
      "11:\tlearn: 21.0446031\ttotal: 16.5ms\tremaining: 12.4ms\n",
      "12:\tlearn: 20.9823507\ttotal: 17.8ms\tremaining: 10.9ms\n",
      "13:\tlearn: 20.8057591\ttotal: 19.1ms\tremaining: 9.55ms\n",
      "14:\tlearn: 20.7174525\ttotal: 20.4ms\tremaining: 8.18ms\n",
      "15:\tlearn: 20.5751884\ttotal: 22.2ms\tremaining: 6.95ms\n",
      "16:\tlearn: 20.4817123\ttotal: 24.4ms\tremaining: 5.73ms\n",
      "17:\tlearn: 20.3839292\ttotal: 26.3ms\tremaining: 4.38ms\n",
      "18:\tlearn: 20.2016516\ttotal: 28.3ms\tremaining: 2.98ms\n",
      "19:\tlearn: 20.1307758\ttotal: 30.5ms\tremaining: 1.53ms\n",
      "20:\tlearn: 20.0004568\ttotal: 32.8ms\tremaining: 0us\n",
      "[CV 4/5] END .........................depth=3, iterations=21; total time=   0.5s\n",
      "0:\tlearn: 29.0096936\ttotal: 1.75ms\tremaining: 35ms\n",
      "1:\tlearn: 26.4768008\ttotal: 3.35ms\tremaining: 31.8ms\n",
      "2:\tlearn: 25.0083336\ttotal: 4.81ms\tremaining: 28.8ms\n",
      "3:\tlearn: 24.3736384\ttotal: 6.16ms\tremaining: 26.2ms\n",
      "4:\tlearn: 23.9146080\ttotal: 7.52ms\tremaining: 24.1ms\n",
      "5:\tlearn: 23.7209041\ttotal: 9.06ms\tremaining: 22.7ms\n",
      "6:\tlearn: 23.3830273\ttotal: 10.6ms\tremaining: 21.2ms\n",
      "7:\tlearn: 23.2425567\ttotal: 12.1ms\tremaining: 19.7ms\n",
      "8:\tlearn: 23.0362700\ttotal: 13.6ms\tremaining: 18.2ms\n",
      "9:\tlearn: 22.8729975\ttotal: 15.4ms\tremaining: 17ms\n",
      "10:\tlearn: 22.6812754\ttotal: 17ms\tremaining: 15.4ms\n",
      "11:\tlearn: 22.5651923\ttotal: 18.4ms\tremaining: 13.8ms\n",
      "12:\tlearn: 22.4553214\ttotal: 20ms\tremaining: 12.3ms\n",
      "13:\tlearn: 22.3786883\ttotal: 21.5ms\tremaining: 10.8ms\n",
      "14:\tlearn: 22.2732529\ttotal: 23ms\tremaining: 9.22ms\n",
      "15:\tlearn: 22.1114089\ttotal: 24.5ms\tremaining: 7.66ms\n",
      "16:\tlearn: 21.9964089\ttotal: 26ms\tremaining: 6.13ms\n",
      "17:\tlearn: 21.8382608\ttotal: 27.7ms\tremaining: 4.62ms\n",
      "18:\tlearn: 21.8194662\ttotal: 29.3ms\tremaining: 3.08ms\n",
      "19:\tlearn: 21.7104008\ttotal: 30.8ms\tremaining: 1.54ms\n",
      "20:\tlearn: 21.6019741\ttotal: 32.2ms\tremaining: 0us\n",
      "[CV 5/5] END .........................depth=3, iterations=21; total time=   0.5s\n",
      "0:\tlearn: 24.5036567\ttotal: 1.58ms\tremaining: 26.8ms\n",
      "1:\tlearn: 21.8415584\ttotal: 3.16ms\tremaining: 25.3ms\n",
      "2:\tlearn: 20.2532617\ttotal: 4.46ms\tremaining: 22.3ms\n",
      "3:\tlearn: 19.2642386\ttotal: 5.68ms\tremaining: 19.9ms\n",
      "4:\tlearn: 18.7507522\ttotal: 6.95ms\tremaining: 18.1ms\n",
      "5:\tlearn: 18.3762110\ttotal: 8.24ms\tremaining: 16.5ms\n",
      "6:\tlearn: 17.8399690\ttotal: 9.52ms\tremaining: 15ms\n",
      "7:\tlearn: 17.5108990\ttotal: 10.8ms\tremaining: 13.4ms\n",
      "8:\tlearn: 16.8992334\ttotal: 11.9ms\tremaining: 11.9ms\n",
      "9:\tlearn: 16.5843567\ttotal: 13.1ms\tremaining: 10.5ms\n",
      "10:\tlearn: 16.3546586\ttotal: 14.3ms\tremaining: 9.11ms\n",
      "11:\tlearn: 16.0240998\ttotal: 15.5ms\tremaining: 7.75ms\n",
      "12:\tlearn: 15.8042287\ttotal: 16.7ms\tremaining: 6.44ms\n",
      "13:\tlearn: 15.6328014\ttotal: 18ms\tremaining: 5.13ms\n",
      "14:\tlearn: 15.3746002\ttotal: 19.1ms\tremaining: 3.83ms\n",
      "15:\tlearn: 15.2407491\ttotal: 20.3ms\tremaining: 2.54ms\n",
      "16:\tlearn: 15.0412848\ttotal: 21.5ms\tremaining: 1.26ms\n",
      "17:\tlearn: 14.8073441\ttotal: 22.7ms\tremaining: 0us\n",
      "[CV 1/5] END .........................depth=4, iterations=18; total time=   0.5s\n",
      "0:\tlearn: 24.9656739\ttotal: 1.9ms\tremaining: 32.2ms\n",
      "1:\tlearn: 22.5716396\ttotal: 3.61ms\tremaining: 28.9ms\n",
      "2:\tlearn: 21.0646536\ttotal: 5.16ms\tremaining: 25.8ms\n",
      "3:\tlearn: 20.4306415\ttotal: 6.63ms\tremaining: 23.2ms\n",
      "4:\tlearn: 19.8930735\ttotal: 8.07ms\tremaining: 21ms\n",
      "5:\tlearn: 19.6022055\ttotal: 9.44ms\tremaining: 18.9ms\n",
      "6:\tlearn: 19.1851685\ttotal: 10.9ms\tremaining: 17.1ms\n",
      "7:\tlearn: 18.8245942\ttotal: 12.3ms\tremaining: 15.4ms\n",
      "8:\tlearn: 18.5961630\ttotal: 13.7ms\tremaining: 13.7ms\n",
      "9:\tlearn: 18.4393366\ttotal: 15.2ms\tremaining: 12.1ms\n",
      "10:\tlearn: 18.3140750\ttotal: 16.5ms\tremaining: 10.5ms\n",
      "11:\tlearn: 18.0727217\ttotal: 17.9ms\tremaining: 8.97ms\n",
      "12:\tlearn: 17.8951906\ttotal: 19.3ms\tremaining: 7.42ms\n",
      "13:\tlearn: 17.6445472\ttotal: 20.6ms\tremaining: 5.9ms\n",
      "14:\tlearn: 17.5080722\ttotal: 22ms\tremaining: 4.4ms\n",
      "15:\tlearn: 17.3828959\ttotal: 23.5ms\tremaining: 2.94ms\n",
      "16:\tlearn: 17.2011685\ttotal: 24.9ms\tremaining: 1.47ms\n",
      "17:\tlearn: 17.1491011\ttotal: 26.4ms\tremaining: 0us\n",
      "[CV 2/5] END .........................depth=4, iterations=18; total time=   0.5s\n",
      "0:\tlearn: 26.4322369\ttotal: 2.56ms\tremaining: 43.5ms\n",
      "1:\tlearn: 23.5756207\ttotal: 5.43ms\tremaining: 43.4ms\n",
      "2:\tlearn: 22.1433622\ttotal: 7.26ms\tremaining: 36.3ms\n",
      "3:\tlearn: 21.5137444\ttotal: 8.96ms\tremaining: 31.4ms\n",
      "4:\tlearn: 20.9553825\ttotal: 11.3ms\tremaining: 29.3ms\n",
      "5:\tlearn: 20.6496275\ttotal: 13ms\tremaining: 26ms\n",
      "6:\tlearn: 20.3325588\ttotal: 14.8ms\tremaining: 23.2ms\n",
      "7:\tlearn: 20.1479062\ttotal: 16.6ms\tremaining: 20.7ms\n",
      "8:\tlearn: 19.8491928\ttotal: 18.3ms\tremaining: 18.3ms\n",
      "9:\tlearn: 19.5895742\ttotal: 20.1ms\tremaining: 16.1ms\n",
      "10:\tlearn: 19.3792988\ttotal: 21.7ms\tremaining: 13.8ms\n",
      "11:\tlearn: 19.1569065\ttotal: 23.4ms\tremaining: 11.7ms\n",
      "12:\tlearn: 19.0017615\ttotal: 25.1ms\tremaining: 9.65ms\n",
      "13:\tlearn: 18.7463837\ttotal: 26.8ms\tremaining: 7.65ms\n",
      "14:\tlearn: 18.5979990\ttotal: 28.4ms\tremaining: 5.68ms\n",
      "15:\tlearn: 18.2835850\ttotal: 30.1ms\tremaining: 3.77ms\n",
      "16:\tlearn: 18.1987169\ttotal: 31.8ms\tremaining: 1.87ms\n",
      "17:\tlearn: 17.9976339\ttotal: 33.6ms\tremaining: 0us\n",
      "[CV 3/5] END .........................depth=4, iterations=18; total time=   0.6s\n",
      "0:\tlearn: 27.3437979\ttotal: 2.41ms\tremaining: 40.9ms\n",
      "1:\tlearn: 24.8197234\ttotal: 4.35ms\tremaining: 34.8ms\n",
      "2:\tlearn: 23.6161750\ttotal: 6.4ms\tremaining: 32ms\n",
      "3:\tlearn: 22.8027957\ttotal: 8.86ms\tremaining: 31ms\n",
      "4:\tlearn: 22.2306223\ttotal: 10.8ms\tremaining: 28.1ms\n",
      "5:\tlearn: 21.9059630\ttotal: 12.8ms\tremaining: 25.5ms\n",
      "6:\tlearn: 21.6935467\ttotal: 14.6ms\tremaining: 22.9ms\n",
      "7:\tlearn: 21.4793997\ttotal: 16.5ms\tremaining: 20.7ms\n",
      "8:\tlearn: 21.1761368\ttotal: 18.4ms\tremaining: 18.4ms\n",
      "9:\tlearn: 21.0579330\ttotal: 20.3ms\tremaining: 16.2ms\n",
      "10:\tlearn: 20.7338972\ttotal: 22.8ms\tremaining: 14.5ms\n",
      "11:\tlearn: 20.6441156\ttotal: 24.7ms\tremaining: 12.4ms\n",
      "12:\tlearn: 20.4875885\ttotal: 27.3ms\tremaining: 10.5ms\n",
      "13:\tlearn: 20.4233248\ttotal: 29.1ms\tremaining: 8.33ms\n",
      "14:\tlearn: 20.2169426\ttotal: 31.6ms\tremaining: 6.32ms\n",
      "15:\tlearn: 20.0476551\ttotal: 33.4ms\tremaining: 4.18ms\n",
      "16:\tlearn: 19.9625039\ttotal: 35.3ms\tremaining: 2.08ms\n",
      "17:\tlearn: 19.7728884\ttotal: 37.2ms\tremaining: 0us\n",
      "[CV 4/5] END .........................depth=4, iterations=18; total time=   0.4s\n",
      "0:\tlearn: 28.3764799\ttotal: 2.6ms\tremaining: 44.3ms\n",
      "1:\tlearn: 25.9479939\ttotal: 5.13ms\tremaining: 41.1ms\n",
      "2:\tlearn: 24.5761112\ttotal: 7.39ms\tremaining: 36.9ms\n",
      "3:\tlearn: 23.8519213\ttotal: 9.61ms\tremaining: 33.6ms\n",
      "4:\tlearn: 23.3506190\ttotal: 12.5ms\tremaining: 32.5ms\n",
      "5:\tlearn: 23.0361912\ttotal: 14.8ms\tremaining: 29.6ms\n",
      "6:\tlearn: 22.7862291\ttotal: 17ms\tremaining: 26.7ms\n",
      "7:\tlearn: 22.5444230\ttotal: 19.3ms\tremaining: 24.1ms\n",
      "8:\tlearn: 22.2808670\ttotal: 21.4ms\tremaining: 21.4ms\n",
      "9:\tlearn: 22.2109191\ttotal: 23.5ms\tremaining: 18.8ms\n",
      "10:\tlearn: 21.9651610\ttotal: 25.6ms\tremaining: 16.3ms\n",
      "11:\tlearn: 21.8433786\ttotal: 27.7ms\tremaining: 13.9ms\n",
      "12:\tlearn: 21.7997757\ttotal: 29.8ms\tremaining: 11.5ms\n",
      "13:\tlearn: 21.5448161\ttotal: 32ms\tremaining: 9.14ms\n",
      "14:\tlearn: 21.3976385\ttotal: 34.2ms\tremaining: 6.84ms\n",
      "15:\tlearn: 21.2796605\ttotal: 36.2ms\tremaining: 4.53ms\n",
      "16:\tlearn: 21.1336020\ttotal: 38.5ms\tremaining: 2.26ms\n",
      "17:\tlearn: 20.9848647\ttotal: 40.6ms\tremaining: 0us\n",
      "[CV 5/5] END .........................depth=4, iterations=18; total time=   0.4s\n",
      "0:\tlearn: 24.5036567\ttotal: 1.51ms\tremaining: 27.2ms\n",
      "1:\tlearn: 21.8415584\ttotal: 3.11ms\tremaining: 26.5ms\n",
      "2:\tlearn: 20.2532617\ttotal: 4.56ms\tremaining: 24.3ms\n",
      "3:\tlearn: 19.2642386\ttotal: 5.98ms\tremaining: 22.4ms\n",
      "4:\tlearn: 18.7507522\ttotal: 7.29ms\tremaining: 20.4ms\n",
      "5:\tlearn: 18.3762110\ttotal: 8.62ms\tremaining: 18.7ms\n",
      "6:\tlearn: 17.8399690\ttotal: 9.92ms\tremaining: 17ms\n",
      "7:\tlearn: 17.5108990\ttotal: 11.2ms\tremaining: 15.4ms\n",
      "8:\tlearn: 16.8992334\ttotal: 12.5ms\tremaining: 13.9ms\n",
      "9:\tlearn: 16.5843567\ttotal: 13.8ms\tremaining: 12.4ms\n",
      "10:\tlearn: 16.3546586\ttotal: 15.1ms\tremaining: 11ms\n",
      "11:\tlearn: 16.0240998\ttotal: 16.3ms\tremaining: 9.53ms\n",
      "12:\tlearn: 15.8042287\ttotal: 17.6ms\tremaining: 8.14ms\n",
      "13:\tlearn: 15.6328014\ttotal: 18.9ms\tremaining: 6.76ms\n",
      "14:\tlearn: 15.3746002\ttotal: 20.2ms\tremaining: 5.39ms\n",
      "15:\tlearn: 15.2407491\ttotal: 21.4ms\tremaining: 4.02ms\n",
      "16:\tlearn: 15.0412848\ttotal: 22.7ms\tremaining: 2.67ms\n",
      "17:\tlearn: 14.8073441\ttotal: 24ms\tremaining: 1.33ms\n",
      "18:\tlearn: 14.5332106\ttotal: 25.2ms\tremaining: 0us\n",
      "[CV 1/5] END .........................depth=4, iterations=19; total time=   0.4s\n",
      "0:\tlearn: 24.9656739\ttotal: 1.67ms\tremaining: 30.1ms\n",
      "1:\tlearn: 22.5716396\ttotal: 3.33ms\tremaining: 28.3ms\n",
      "2:\tlearn: 21.0646536\ttotal: 4.83ms\tremaining: 25.8ms\n",
      "3:\tlearn: 20.4306415\ttotal: 6.31ms\tremaining: 23.7ms\n",
      "4:\tlearn: 19.8930735\ttotal: 7.72ms\tremaining: 21.6ms\n",
      "5:\tlearn: 19.6022055\ttotal: 9.19ms\tremaining: 19.9ms\n",
      "6:\tlearn: 19.1851685\ttotal: 10.7ms\tremaining: 18.3ms\n",
      "7:\tlearn: 18.8245942\ttotal: 12.2ms\tremaining: 16.8ms\n",
      "8:\tlearn: 18.5961630\ttotal: 13.8ms\tremaining: 15.3ms\n",
      "9:\tlearn: 18.4393366\ttotal: 15.3ms\tremaining: 13.8ms\n",
      "10:\tlearn: 18.3140750\ttotal: 16.9ms\tremaining: 12.3ms\n",
      "11:\tlearn: 18.0727217\ttotal: 18.4ms\tremaining: 10.8ms\n",
      "12:\tlearn: 17.8951906\ttotal: 19.8ms\tremaining: 9.15ms\n",
      "13:\tlearn: 17.6445472\ttotal: 21.2ms\tremaining: 7.57ms\n",
      "14:\tlearn: 17.5080722\ttotal: 22.7ms\tremaining: 6.05ms\n",
      "15:\tlearn: 17.3828959\ttotal: 24.1ms\tremaining: 4.52ms\n",
      "16:\tlearn: 17.2011685\ttotal: 25.5ms\tremaining: 3ms\n",
      "17:\tlearn: 17.1491011\ttotal: 26.9ms\tremaining: 1.5ms\n",
      "18:\tlearn: 16.9177440\ttotal: 28.3ms\tremaining: 0us\n",
      "[CV 2/5] END .........................depth=4, iterations=19; total time=   0.4s\n",
      "0:\tlearn: 26.4322369\ttotal: 1.89ms\tremaining: 34ms\n",
      "1:\tlearn: 23.5756207\ttotal: 3.8ms\tremaining: 32.3ms\n",
      "2:\tlearn: 22.1433622\ttotal: 5.9ms\tremaining: 31.5ms\n",
      "3:\tlearn: 21.5137444\ttotal: 7.63ms\tremaining: 28.6ms\n",
      "4:\tlearn: 20.9553825\ttotal: 9.37ms\tremaining: 26.2ms\n",
      "5:\tlearn: 20.6496275\ttotal: 11ms\tremaining: 23.8ms\n",
      "6:\tlearn: 20.3325588\ttotal: 12.7ms\tremaining: 21.8ms\n",
      "7:\tlearn: 20.1479062\ttotal: 14.4ms\tremaining: 19.8ms\n",
      "8:\tlearn: 19.8491928\ttotal: 16.1ms\tremaining: 17.9ms\n",
      "9:\tlearn: 19.5895742\ttotal: 17.7ms\tremaining: 16ms\n",
      "10:\tlearn: 19.3792988\ttotal: 19.4ms\tremaining: 14.1ms\n",
      "11:\tlearn: 19.1569065\ttotal: 21ms\tremaining: 12.3ms\n",
      "12:\tlearn: 19.0017615\ttotal: 22.7ms\tremaining: 10.5ms\n",
      "13:\tlearn: 18.7463837\ttotal: 24.4ms\tremaining: 8.71ms\n",
      "14:\tlearn: 18.5979990\ttotal: 26ms\tremaining: 6.93ms\n",
      "15:\tlearn: 18.2835850\ttotal: 27.6ms\tremaining: 5.17ms\n",
      "16:\tlearn: 18.1987169\ttotal: 29.1ms\tremaining: 3.43ms\n",
      "17:\tlearn: 17.9976339\ttotal: 31.6ms\tremaining: 1.76ms\n",
      "18:\tlearn: 17.8763162\ttotal: 34ms\tremaining: 0us\n",
      "[CV 3/5] END .........................depth=4, iterations=19; total time=   0.4s\n",
      "0:\tlearn: 27.3437979\ttotal: 2.16ms\tremaining: 38.9ms\n",
      "1:\tlearn: 24.8197234\ttotal: 4.45ms\tremaining: 37.8ms\n",
      "2:\tlearn: 23.6161750\ttotal: 6.41ms\tremaining: 34.2ms\n",
      "3:\tlearn: 22.8027957\ttotal: 8.32ms\tremaining: 31.2ms\n",
      "4:\tlearn: 22.2306223\ttotal: 10.3ms\tremaining: 28.8ms\n",
      "5:\tlearn: 21.9059630\ttotal: 12.6ms\tremaining: 27.2ms\n",
      "6:\tlearn: 21.6935467\ttotal: 15.1ms\tremaining: 26ms\n",
      "7:\tlearn: 21.4793997\ttotal: 18.2ms\tremaining: 25.1ms\n",
      "8:\tlearn: 21.1761368\ttotal: 20.2ms\tremaining: 22.4ms\n",
      "9:\tlearn: 21.0579330\ttotal: 22.1ms\tremaining: 19.9ms\n",
      "10:\tlearn: 20.7338972\ttotal: 24ms\tremaining: 17.5ms\n",
      "11:\tlearn: 20.6441156\ttotal: 26ms\tremaining: 15.2ms\n",
      "12:\tlearn: 20.4875885\ttotal: 27.9ms\tremaining: 12.9ms\n",
      "13:\tlearn: 20.4233248\ttotal: 29.6ms\tremaining: 10.6ms\n",
      "14:\tlearn: 20.2169426\ttotal: 31.6ms\tremaining: 8.42ms\n",
      "15:\tlearn: 20.0476551\ttotal: 33.4ms\tremaining: 6.26ms\n",
      "16:\tlearn: 19.9625039\ttotal: 35.2ms\tremaining: 4.15ms\n",
      "17:\tlearn: 19.7728884\ttotal: 37.1ms\tremaining: 2.06ms\n",
      "18:\tlearn: 19.5572992\ttotal: 39ms\tremaining: 0us\n",
      "[CV 4/5] END .........................depth=4, iterations=19; total time=   0.5s\n",
      "0:\tlearn: 28.3764799\ttotal: 2.42ms\tremaining: 43.5ms\n",
      "1:\tlearn: 25.9479939\ttotal: 4.83ms\tremaining: 41.1ms\n",
      "2:\tlearn: 24.5761112\ttotal: 7.03ms\tremaining: 37.5ms\n",
      "3:\tlearn: 23.8519213\ttotal: 9.09ms\tremaining: 34.1ms\n",
      "4:\tlearn: 23.3506190\ttotal: 11.1ms\tremaining: 31.1ms\n",
      "5:\tlearn: 23.0361912\ttotal: 13.1ms\tremaining: 28.4ms\n",
      "6:\tlearn: 22.7862291\ttotal: 15ms\tremaining: 25.8ms\n",
      "7:\tlearn: 22.5444230\ttotal: 17.1ms\tremaining: 23.5ms\n",
      "8:\tlearn: 22.2808670\ttotal: 19ms\tremaining: 21.1ms\n",
      "9:\tlearn: 22.2109191\ttotal: 20.9ms\tremaining: 18.8ms\n",
      "10:\tlearn: 21.9651610\ttotal: 22.9ms\tremaining: 16.6ms\n",
      "11:\tlearn: 21.8433786\ttotal: 25.1ms\tremaining: 14.6ms\n",
      "12:\tlearn: 21.7997757\ttotal: 27.1ms\tremaining: 12.5ms\n",
      "13:\tlearn: 21.5448161\ttotal: 29.3ms\tremaining: 10.5ms\n",
      "14:\tlearn: 21.3976385\ttotal: 31.4ms\tremaining: 8.39ms\n",
      "15:\tlearn: 21.2796605\ttotal: 33.6ms\tremaining: 6.29ms\n",
      "16:\tlearn: 21.1336020\ttotal: 35.8ms\tremaining: 4.21ms\n",
      "17:\tlearn: 20.9848647\ttotal: 37.8ms\tremaining: 2.1ms\n",
      "18:\tlearn: 20.8207659\ttotal: 39.9ms\tremaining: 0us\n",
      "[CV 5/5] END .........................depth=4, iterations=19; total time=   0.7s\n",
      "0:\tlearn: 24.5036567\ttotal: 1.51ms\tremaining: 28.6ms\n",
      "1:\tlearn: 21.8415584\ttotal: 2.96ms\tremaining: 26.6ms\n",
      "2:\tlearn: 20.2532617\ttotal: 4.27ms\tremaining: 24.2ms\n",
      "3:\tlearn: 19.2642386\ttotal: 5.47ms\tremaining: 21.9ms\n",
      "4:\tlearn: 18.7507522\ttotal: 6.71ms\tremaining: 20.1ms\n",
      "5:\tlearn: 18.3762110\ttotal: 7.92ms\tremaining: 18.5ms\n",
      "6:\tlearn: 17.8399690\ttotal: 9.1ms\tremaining: 16.9ms\n",
      "7:\tlearn: 17.5108990\ttotal: 10.3ms\tremaining: 15.5ms\n",
      "8:\tlearn: 16.8992334\ttotal: 11.6ms\tremaining: 14.1ms\n",
      "9:\tlearn: 16.5843567\ttotal: 13ms\tremaining: 13ms\n",
      "10:\tlearn: 16.3546586\ttotal: 14.2ms\tremaining: 11.6ms\n",
      "11:\tlearn: 16.0240998\ttotal: 15.5ms\tremaining: 10.3ms\n",
      "12:\tlearn: 15.8042287\ttotal: 16.8ms\tremaining: 9.06ms\n",
      "13:\tlearn: 15.6328014\ttotal: 18.1ms\tremaining: 7.75ms\n",
      "14:\tlearn: 15.3746002\ttotal: 19.3ms\tremaining: 6.45ms\n",
      "15:\tlearn: 15.2407491\ttotal: 20.6ms\tremaining: 5.14ms\n",
      "16:\tlearn: 15.0412848\ttotal: 21.8ms\tremaining: 3.85ms\n",
      "17:\tlearn: 14.8073441\ttotal: 23ms\tremaining: 2.56ms\n",
      "18:\tlearn: 14.5332106\ttotal: 24.2ms\tremaining: 1.27ms\n",
      "19:\tlearn: 14.2756635\ttotal: 25.5ms\tremaining: 0us\n",
      "[CV 1/5] END .........................depth=4, iterations=20; total time=   0.5s\n",
      "0:\tlearn: 24.9656739\ttotal: 1.75ms\tremaining: 33.2ms\n",
      "1:\tlearn: 22.5716396\ttotal: 3.48ms\tremaining: 31.3ms\n",
      "2:\tlearn: 21.0646536\ttotal: 4.97ms\tremaining: 28.1ms\n",
      "3:\tlearn: 20.4306415\ttotal: 6.41ms\tremaining: 25.6ms\n",
      "4:\tlearn: 19.8930735\ttotal: 7.98ms\tremaining: 23.9ms\n",
      "5:\tlearn: 19.6022055\ttotal: 9.6ms\tremaining: 22.4ms\n",
      "6:\tlearn: 19.1851685\ttotal: 11.3ms\tremaining: 21ms\n",
      "7:\tlearn: 18.8245942\ttotal: 12.8ms\tremaining: 19.2ms\n",
      "8:\tlearn: 18.5961630\ttotal: 14.3ms\tremaining: 17.5ms\n",
      "9:\tlearn: 18.4393366\ttotal: 15.8ms\tremaining: 15.8ms\n",
      "10:\tlearn: 18.3140750\ttotal: 17.3ms\tremaining: 14.2ms\n",
      "11:\tlearn: 18.0727217\ttotal: 18.8ms\tremaining: 12.5ms\n",
      "12:\tlearn: 17.8951906\ttotal: 20.2ms\tremaining: 10.9ms\n",
      "13:\tlearn: 17.6445472\ttotal: 21.6ms\tremaining: 9.28ms\n",
      "14:\tlearn: 17.5080722\ttotal: 23.1ms\tremaining: 7.69ms\n",
      "15:\tlearn: 17.3828959\ttotal: 24.6ms\tremaining: 6.14ms\n",
      "16:\tlearn: 17.2011685\ttotal: 25.9ms\tremaining: 4.58ms\n",
      "17:\tlearn: 17.1491011\ttotal: 27.4ms\tremaining: 3.05ms\n",
      "18:\tlearn: 16.9177440\ttotal: 28.8ms\tremaining: 1.51ms\n",
      "19:\tlearn: 16.7770907\ttotal: 30.1ms\tremaining: 0us\n",
      "[CV 2/5] END .........................depth=4, iterations=20; total time=   0.6s\n",
      "0:\tlearn: 26.4322369\ttotal: 1.89ms\tremaining: 35.8ms\n",
      "1:\tlearn: 23.5756207\ttotal: 4.19ms\tremaining: 37.8ms\n",
      "2:\tlearn: 22.1433622\ttotal: 6.75ms\tremaining: 38.2ms\n",
      "3:\tlearn: 21.5137444\ttotal: 9.3ms\tremaining: 37.2ms\n",
      "4:\tlearn: 20.9553825\ttotal: 11.3ms\tremaining: 33.8ms\n",
      "5:\tlearn: 20.6496275\ttotal: 14ms\tremaining: 32.7ms\n",
      "6:\tlearn: 20.3325588\ttotal: 16.7ms\tremaining: 31ms\n",
      "7:\tlearn: 20.1479062\ttotal: 18.9ms\tremaining: 28.4ms\n",
      "8:\tlearn: 19.8491928\ttotal: 21ms\tremaining: 25.7ms\n",
      "9:\tlearn: 19.5895742\ttotal: 22.8ms\tremaining: 22.8ms\n",
      "10:\tlearn: 19.3792988\ttotal: 24.6ms\tremaining: 20.1ms\n",
      "11:\tlearn: 19.1569065\ttotal: 26.2ms\tremaining: 17.5ms\n",
      "12:\tlearn: 19.0017615\ttotal: 27.8ms\tremaining: 15ms\n",
      "13:\tlearn: 18.7463837\ttotal: 29.4ms\tremaining: 12.6ms\n",
      "14:\tlearn: 18.5979990\ttotal: 31ms\tremaining: 10.3ms\n",
      "15:\tlearn: 18.2835850\ttotal: 32.7ms\tremaining: 8.17ms\n",
      "16:\tlearn: 18.1987169\ttotal: 34.4ms\tremaining: 6.07ms\n",
      "17:\tlearn: 17.9976339\ttotal: 36ms\tremaining: 4ms\n",
      "18:\tlearn: 17.8763162\ttotal: 37.8ms\tremaining: 1.99ms\n",
      "19:\tlearn: 17.6372040\ttotal: 39.5ms\tremaining: 0us\n",
      "[CV 3/5] END .........................depth=4, iterations=20; total time=   1.4s\n",
      "0:\tlearn: 27.3437979\ttotal: 2.26ms\tremaining: 43ms\n",
      "1:\tlearn: 24.8197234\ttotal: 4.38ms\tremaining: 39.4ms\n",
      "2:\tlearn: 23.6161750\ttotal: 6.34ms\tremaining: 35.9ms\n",
      "3:\tlearn: 22.8027957\ttotal: 8.17ms\tremaining: 32.7ms\n",
      "4:\tlearn: 22.2306223\ttotal: 10ms\tremaining: 30ms\n",
      "5:\tlearn: 21.9059630\ttotal: 11.8ms\tremaining: 27.6ms\n",
      "6:\tlearn: 21.6935467\ttotal: 13.7ms\tremaining: 25.4ms\n",
      "7:\tlearn: 21.4793997\ttotal: 15.4ms\tremaining: 23ms\n",
      "8:\tlearn: 21.1761368\ttotal: 17.3ms\tremaining: 21.1ms\n",
      "9:\tlearn: 21.0579330\ttotal: 19.1ms\tremaining: 19.1ms\n",
      "10:\tlearn: 20.7338972\ttotal: 20.9ms\tremaining: 17.1ms\n",
      "11:\tlearn: 20.6441156\ttotal: 22.8ms\tremaining: 15.2ms\n",
      "12:\tlearn: 20.4875885\ttotal: 24.8ms\tremaining: 13.4ms\n",
      "13:\tlearn: 20.4233248\ttotal: 26.6ms\tremaining: 11.4ms\n",
      "14:\tlearn: 20.2169426\ttotal: 28.5ms\tremaining: 9.51ms\n",
      "15:\tlearn: 20.0476551\ttotal: 30.3ms\tremaining: 7.58ms\n",
      "16:\tlearn: 19.9625039\ttotal: 32.1ms\tremaining: 5.67ms\n",
      "17:\tlearn: 19.7728884\ttotal: 33.9ms\tremaining: 3.77ms\n",
      "18:\tlearn: 19.5572992\ttotal: 35.9ms\tremaining: 1.89ms\n",
      "19:\tlearn: 19.4337891\ttotal: 37.7ms\tremaining: 0us\n",
      "[CV 4/5] END .........................depth=4, iterations=20; total time=   0.5s\n",
      "0:\tlearn: 28.3764799\ttotal: 2.33ms\tremaining: 44.2ms\n",
      "1:\tlearn: 25.9479939\ttotal: 4.63ms\tremaining: 41.6ms\n",
      "2:\tlearn: 24.5761112\ttotal: 6.72ms\tremaining: 38.1ms\n",
      "3:\tlearn: 23.8519213\ttotal: 8.83ms\tremaining: 35.3ms\n",
      "4:\tlearn: 23.3506190\ttotal: 10.8ms\tremaining: 32.5ms\n",
      "5:\tlearn: 23.0361912\ttotal: 12.8ms\tremaining: 30ms\n",
      "6:\tlearn: 22.7862291\ttotal: 14.8ms\tremaining: 27.5ms\n",
      "7:\tlearn: 22.5444230\ttotal: 17ms\tremaining: 25.4ms\n",
      "8:\tlearn: 22.2808670\ttotal: 19ms\tremaining: 23.2ms\n",
      "9:\tlearn: 22.2109191\ttotal: 21.1ms\tremaining: 21.1ms\n",
      "10:\tlearn: 21.9651610\ttotal: 23.2ms\tremaining: 19ms\n",
      "11:\tlearn: 21.8433786\ttotal: 25.6ms\tremaining: 17.1ms\n",
      "12:\tlearn: 21.7997757\ttotal: 28.2ms\tremaining: 15.2ms\n",
      "13:\tlearn: 21.5448161\ttotal: 30.6ms\tremaining: 13.1ms\n",
      "14:\tlearn: 21.3976385\ttotal: 32.6ms\tremaining: 10.9ms\n",
      "15:\tlearn: 21.2796605\ttotal: 34.6ms\tremaining: 8.65ms\n",
      "16:\tlearn: 21.1336020\ttotal: 36.7ms\tremaining: 6.47ms\n",
      "17:\tlearn: 20.9848647\ttotal: 38.8ms\tremaining: 4.31ms\n",
      "18:\tlearn: 20.8207659\ttotal: 41.3ms\tremaining: 2.17ms\n",
      "19:\tlearn: 20.6281164\ttotal: 43.3ms\tremaining: 0us\n",
      "[CV 5/5] END .........................depth=4, iterations=20; total time=   0.5s\n",
      "0:\tlearn: 24.5036567\ttotal: 1.45ms\tremaining: 28.9ms\n",
      "1:\tlearn: 21.8415584\ttotal: 2.98ms\tremaining: 28.3ms\n",
      "2:\tlearn: 20.2532617\ttotal: 4.31ms\tremaining: 25.9ms\n",
      "3:\tlearn: 19.2642386\ttotal: 5.55ms\tremaining: 23.6ms\n",
      "4:\tlearn: 18.7507522\ttotal: 6.84ms\tremaining: 21.9ms\n",
      "5:\tlearn: 18.3762110\ttotal: 8.06ms\tremaining: 20.2ms\n",
      "6:\tlearn: 17.8399690\ttotal: 9.31ms\tremaining: 18.6ms\n",
      "7:\tlearn: 17.5108990\ttotal: 10.5ms\tremaining: 17.1ms\n",
      "8:\tlearn: 16.8992334\ttotal: 11.7ms\tremaining: 15.6ms\n",
      "9:\tlearn: 16.5843567\ttotal: 12.9ms\tremaining: 14.2ms\n",
      "10:\tlearn: 16.3546586\ttotal: 14ms\tremaining: 12.8ms\n",
      "11:\tlearn: 16.0240998\ttotal: 15.2ms\tremaining: 11.4ms\n",
      "12:\tlearn: 15.8042287\ttotal: 16.5ms\tremaining: 10.2ms\n",
      "13:\tlearn: 15.6328014\ttotal: 17.7ms\tremaining: 8.86ms\n",
      "14:\tlearn: 15.3746002\ttotal: 18.9ms\tremaining: 7.57ms\n",
      "15:\tlearn: 15.2407491\ttotal: 20.1ms\tremaining: 6.29ms\n",
      "16:\tlearn: 15.0412848\ttotal: 21.3ms\tremaining: 5.02ms\n",
      "17:\tlearn: 14.8073441\ttotal: 22.5ms\tremaining: 3.76ms\n",
      "18:\tlearn: 14.5332106\ttotal: 23.7ms\tremaining: 2.5ms\n",
      "19:\tlearn: 14.2756635\ttotal: 25ms\tremaining: 1.25ms\n",
      "20:\tlearn: 13.9703125\ttotal: 26.2ms\tremaining: 0us\n",
      "[CV 1/5] END .........................depth=4, iterations=21; total time=   0.5s\n",
      "0:\tlearn: 24.9656739\ttotal: 1.65ms\tremaining: 32.9ms\n",
      "1:\tlearn: 22.5716396\ttotal: 3.32ms\tremaining: 31.5ms\n",
      "2:\tlearn: 21.0646536\ttotal: 4.83ms\tremaining: 29ms\n",
      "3:\tlearn: 20.4306415\ttotal: 6.3ms\tremaining: 26.8ms\n",
      "4:\tlearn: 19.8930735\ttotal: 7.71ms\tremaining: 24.7ms\n",
      "5:\tlearn: 19.6022055\ttotal: 9.1ms\tremaining: 22.7ms\n",
      "6:\tlearn: 19.1851685\ttotal: 10.5ms\tremaining: 21.1ms\n",
      "7:\tlearn: 18.8245942\ttotal: 11.9ms\tremaining: 19.4ms\n",
      "8:\tlearn: 18.5961630\ttotal: 13.4ms\tremaining: 17.8ms\n",
      "9:\tlearn: 18.4393366\ttotal: 14.8ms\tremaining: 16.3ms\n",
      "10:\tlearn: 18.3140750\ttotal: 16.3ms\tremaining: 14.8ms\n",
      "11:\tlearn: 18.0727217\ttotal: 17.7ms\tremaining: 13.3ms\n",
      "12:\tlearn: 17.8951906\ttotal: 19ms\tremaining: 11.7ms\n",
      "13:\tlearn: 17.6445472\ttotal: 20.5ms\tremaining: 10.3ms\n",
      "14:\tlearn: 17.5080722\ttotal: 21.9ms\tremaining: 8.76ms\n",
      "15:\tlearn: 17.3828959\ttotal: 23.3ms\tremaining: 7.28ms\n",
      "16:\tlearn: 17.2011685\ttotal: 24.7ms\tremaining: 5.8ms\n",
      "17:\tlearn: 17.1491011\ttotal: 26ms\tremaining: 4.33ms\n",
      "18:\tlearn: 16.9177440\ttotal: 27.4ms\tremaining: 2.88ms\n",
      "19:\tlearn: 16.7770907\ttotal: 28.7ms\tremaining: 1.44ms\n",
      "20:\tlearn: 16.4453257\ttotal: 30.2ms\tremaining: 0us\n",
      "[CV 2/5] END .........................depth=4, iterations=21; total time=   0.4s\n",
      "0:\tlearn: 26.4322369\ttotal: 1.92ms\tremaining: 38.5ms\n",
      "1:\tlearn: 23.5756207\ttotal: 3.89ms\tremaining: 36.9ms\n",
      "2:\tlearn: 22.1433622\ttotal: 5.69ms\tremaining: 34.1ms\n",
      "3:\tlearn: 21.5137444\ttotal: 7.36ms\tremaining: 31.3ms\n",
      "4:\tlearn: 20.9553825\ttotal: 9.07ms\tremaining: 29ms\n",
      "5:\tlearn: 20.6496275\ttotal: 10.7ms\tremaining: 26.8ms\n",
      "6:\tlearn: 20.3325588\ttotal: 12.4ms\tremaining: 24.7ms\n",
      "7:\tlearn: 20.1479062\ttotal: 14ms\tremaining: 22.8ms\n",
      "8:\tlearn: 19.8491928\ttotal: 15.7ms\tremaining: 20.9ms\n",
      "9:\tlearn: 19.5895742\ttotal: 17.4ms\tremaining: 19.1ms\n",
      "10:\tlearn: 19.3792988\ttotal: 19.1ms\tremaining: 17.3ms\n",
      "11:\tlearn: 19.1569065\ttotal: 20.7ms\tremaining: 15.5ms\n",
      "12:\tlearn: 19.0017615\ttotal: 22.4ms\tremaining: 13.8ms\n",
      "13:\tlearn: 18.7463837\ttotal: 24.1ms\tremaining: 12ms\n",
      "14:\tlearn: 18.5979990\ttotal: 25.7ms\tremaining: 10.3ms\n",
      "15:\tlearn: 18.2835850\ttotal: 27.4ms\tremaining: 8.55ms\n",
      "16:\tlearn: 18.1987169\ttotal: 28.9ms\tremaining: 6.81ms\n",
      "17:\tlearn: 17.9976339\ttotal: 30.6ms\tremaining: 5.11ms\n",
      "18:\tlearn: 17.8763162\ttotal: 32.4ms\tremaining: 3.41ms\n",
      "19:\tlearn: 17.6372040\ttotal: 34ms\tremaining: 1.7ms\n",
      "20:\tlearn: 17.5171676\ttotal: 35.6ms\tremaining: 0us\n",
      "[CV 3/5] END .........................depth=4, iterations=21; total time=   0.6s\n",
      "0:\tlearn: 27.3437979\ttotal: 2.09ms\tremaining: 41.8ms\n",
      "1:\tlearn: 24.8197234\ttotal: 4.24ms\tremaining: 40.3ms\n",
      "2:\tlearn: 23.6161750\ttotal: 6.27ms\tremaining: 37.6ms\n",
      "3:\tlearn: 22.8027957\ttotal: 8.12ms\tremaining: 34.5ms\n",
      "4:\tlearn: 22.2306223\ttotal: 10ms\tremaining: 32.1ms\n",
      "5:\tlearn: 21.9059630\ttotal: 11.9ms\tremaining: 29.7ms\n",
      "6:\tlearn: 21.6935467\ttotal: 13.6ms\tremaining: 27.2ms\n",
      "7:\tlearn: 21.4793997\ttotal: 15.3ms\tremaining: 24.9ms\n",
      "8:\tlearn: 21.1761368\ttotal: 17.1ms\tremaining: 22.8ms\n",
      "9:\tlearn: 21.0579330\ttotal: 18.8ms\tremaining: 20.7ms\n",
      "10:\tlearn: 20.7338972\ttotal: 20.8ms\tremaining: 18.9ms\n",
      "11:\tlearn: 20.6441156\ttotal: 22.8ms\tremaining: 17.1ms\n",
      "12:\tlearn: 20.4875885\ttotal: 24.7ms\tremaining: 15.2ms\n",
      "13:\tlearn: 20.4233248\ttotal: 26.5ms\tremaining: 13.2ms\n",
      "14:\tlearn: 20.2169426\ttotal: 28.3ms\tremaining: 11.3ms\n",
      "15:\tlearn: 20.0476551\ttotal: 30.1ms\tremaining: 9.41ms\n",
      "16:\tlearn: 19.9625039\ttotal: 31.9ms\tremaining: 7.5ms\n",
      "17:\tlearn: 19.7728884\ttotal: 33.7ms\tremaining: 5.62ms\n",
      "18:\tlearn: 19.5572992\ttotal: 35.5ms\tremaining: 3.74ms\n",
      "19:\tlearn: 19.4337891\ttotal: 37.3ms\tremaining: 1.86ms\n",
      "20:\tlearn: 19.2550725\ttotal: 39.1ms\tremaining: 0us\n",
      "[CV 4/5] END .........................depth=4, iterations=21; total time=   0.6s\n",
      "0:\tlearn: 28.3764799\ttotal: 2.38ms\tremaining: 47.6ms\n",
      "1:\tlearn: 25.9479939\ttotal: 4.73ms\tremaining: 44.9ms\n",
      "2:\tlearn: 24.5761112\ttotal: 6.87ms\tremaining: 41.2ms\n",
      "3:\tlearn: 23.8519213\ttotal: 9.03ms\tremaining: 38.4ms\n",
      "4:\tlearn: 23.3506190\ttotal: 11.1ms\tremaining: 35.7ms\n",
      "5:\tlearn: 23.0361912\ttotal: 13.2ms\tremaining: 32.9ms\n",
      "6:\tlearn: 22.7862291\ttotal: 15.1ms\tremaining: 30.2ms\n",
      "7:\tlearn: 22.5444230\ttotal: 17.1ms\tremaining: 27.9ms\n",
      "8:\tlearn: 22.2808670\ttotal: 19.2ms\tremaining: 25.6ms\n",
      "9:\tlearn: 22.2109191\ttotal: 21.1ms\tremaining: 23.2ms\n",
      "10:\tlearn: 21.9651610\ttotal: 23.1ms\tremaining: 21ms\n",
      "11:\tlearn: 21.8433786\ttotal: 25.5ms\tremaining: 19.1ms\n",
      "12:\tlearn: 21.7997757\ttotal: 27.6ms\tremaining: 17ms\n",
      "13:\tlearn: 21.5448161\ttotal: 29.8ms\tremaining: 14.9ms\n",
      "14:\tlearn: 21.3976385\ttotal: 31.9ms\tremaining: 12.7ms\n",
      "15:\tlearn: 21.2796605\ttotal: 33.9ms\tremaining: 10.6ms\n",
      "16:\tlearn: 21.1336020\ttotal: 36.2ms\tremaining: 8.51ms\n",
      "17:\tlearn: 20.9848647\ttotal: 39.2ms\tremaining: 6.54ms\n",
      "18:\tlearn: 20.8207659\ttotal: 42.3ms\tremaining: 4.46ms\n",
      "19:\tlearn: 20.6281164\ttotal: 45.6ms\tremaining: 2.28ms\n",
      "20:\tlearn: 20.5154327\ttotal: 48.8ms\tremaining: 0us\n",
      "[CV 5/5] END .........................depth=4, iterations=21; total time=   0.6s\n",
      "0:\tlearn: 31.5607624\ttotal: 3.01ms\tremaining: 60.1ms\n",
      "1:\tlearn: 28.6334431\ttotal: 5.8ms\tremaining: 55.1ms\n",
      "2:\tlearn: 27.1957190\ttotal: 8.25ms\tremaining: 49.5ms\n",
      "3:\tlearn: 26.2693930\ttotal: 10.7ms\tremaining: 45.4ms\n",
      "4:\tlearn: 25.6829323\ttotal: 13.3ms\tremaining: 42.5ms\n",
      "5:\tlearn: 25.3545687\ttotal: 16.3ms\tremaining: 40.6ms\n",
      "6:\tlearn: 25.2772558\ttotal: 19.8ms\tremaining: 39.7ms\n",
      "7:\tlearn: 24.8975363\ttotal: 22.8ms\tremaining: 37ms\n",
      "8:\tlearn: 24.6829293\ttotal: 25.2ms\tremaining: 33.6ms\n",
      "9:\tlearn: 24.6100207\ttotal: 28.8ms\tremaining: 31.7ms\n",
      "10:\tlearn: 24.3835204\ttotal: 32.5ms\tremaining: 29.6ms\n",
      "11:\tlearn: 24.3376453\ttotal: 35.8ms\tremaining: 26.8ms\n",
      "12:\tlearn: 24.1797893\ttotal: 39.2ms\tremaining: 24.1ms\n",
      "13:\tlearn: 23.8956868\ttotal: 42.9ms\tremaining: 21.5ms\n",
      "14:\tlearn: 23.7404136\ttotal: 46.8ms\tremaining: 18.7ms\n",
      "15:\tlearn: 23.5424917\ttotal: 49.7ms\tremaining: 15.5ms\n",
      "16:\tlearn: 23.4218473\ttotal: 52.1ms\tremaining: 12.2ms\n",
      "17:\tlearn: 23.1888179\ttotal: 54.4ms\tremaining: 9.06ms\n",
      "18:\tlearn: 22.9615482\ttotal: 56.7ms\tremaining: 5.97ms\n",
      "19:\tlearn: 22.7415981\ttotal: 59ms\tremaining: 2.95ms\n",
      "20:\tlearn: 22.5785888\ttotal: 62.5ms\tremaining: 0us\n"
     ]
    },
    {
     "data": {
      "text/plain": [
       "'Лучшие параметры модели CatBoostRegressor:'"
      ]
     },
     "metadata": {},
     "output_type": "display_data"
    },
    {
     "data": {
      "text/plain": [
       "{'depth': 4, 'iterations': 21}"
      ]
     },
     "metadata": {},
     "output_type": "display_data"
    },
    {
     "data": {
      "text/plain": [
       "'Дали RMSE модели:'"
      ]
     },
     "metadata": {},
     "output_type": "display_data"
    },
    {
     "data": {
      "text/plain": [
       "-26.185236930536394"
      ]
     },
     "metadata": {},
     "output_type": "display_data"
    }
   ],
   "source": [
    "parameters = {'depth': range(2, 5, 1), 'iterations': range(18, 22, 1)}\n",
    "rmse, best_parameters = model_look (CatBoostRegressor(loss_function=\"RMSE\", \\\n",
    "                                                      learning_rate = 0.5), parameters)\n",
    "display('Лучшие параметры модели CatBoostRegressor:', best_parameters)\n",
    "display('Дали RMSE модели:', rmse)"
   ]
  },
  {
   "cell_type": "code",
   "execution_count": 21,
   "metadata": {},
   "outputs": [
    {
     "data": {
      "text/html": [
       "<div>\n",
       "<style scoped>\n",
       "    .dataframe tbody tr th:only-of-type {\n",
       "        vertical-align: middle;\n",
       "    }\n",
       "\n",
       "    .dataframe tbody tr th {\n",
       "        vertical-align: top;\n",
       "    }\n",
       "\n",
       "    .dataframe thead th {\n",
       "        text-align: right;\n",
       "    }\n",
       "</style>\n",
       "<table border=\"1\" class=\"dataframe\">\n",
       "  <thead>\n",
       "    <tr style=\"text-align: right;\">\n",
       "      <th></th>\n",
       "      <th>model</th>\n",
       "      <th>best_parameters_train</th>\n",
       "      <th>RMSE_train</th>\n",
       "    </tr>\n",
       "  </thead>\n",
       "  <tbody>\n",
       "    <tr>\n",
       "      <th>0</th>\n",
       "      <td>LinearRegression</td>\n",
       "      <td>{'fit_intercept': False, 'normalize': True}</td>\n",
       "      <td>-2.317099e+10</td>\n",
       "    </tr>\n",
       "    <tr>\n",
       "      <th>1</th>\n",
       "      <td>CatBoostRegressor</td>\n",
       "      <td>{'depth': 4, 'iterations': 21}</td>\n",
       "      <td>-2.618524e+01</td>\n",
       "    </tr>\n",
       "  </tbody>\n",
       "</table>\n",
       "</div>"
      ],
      "text/plain": [
       "               model                        best_parameters_train  \\\n",
       "0   LinearRegression  {'fit_intercept': False, 'normalize': True}   \n",
       "1  CatBoostRegressor               {'depth': 4, 'iterations': 21}   \n",
       "\n",
       "     RMSE_train  \n",
       "0 -2.317099e+10  \n",
       "1 -2.618524e+01  "
      ]
     },
     "execution_count": 21,
     "metadata": {},
     "output_type": "execute_result"
    }
   ],
   "source": [
    "results = results.append({'model':'CatBoostRegressor', 'best_parameters_train':best_parameters, 'RMSE_train':rmse}, ignore_index=True)\n",
    "results"
   ]
  },
  {
   "cell_type": "markdown",
   "metadata": {},
   "source": [
    "### LGBMRegressor"
   ]
  },
  {
   "cell_type": "code",
   "execution_count": 23,
   "metadata": {
    "scrolled": true
   },
   "outputs": [
    {
     "name": "stdout",
     "output_type": "stream",
     "text": [
      "Fitting 5 folds for each of 4 candidates, totalling 20 fits\n",
      "[CV 1/5] END ................................n_estimators=38; total time=  18.8s\n",
      "[CV 2/5] END ................................n_estimators=38; total time= 1.4min\n",
      "[CV 3/5] END ................................n_estimators=38; total time= 1.3min\n",
      "[CV 4/5] END ................................n_estimators=38; total time= 1.9min\n",
      "[CV 5/5] END ................................n_estimators=38; total time= 1.5min\n",
      "[CV 1/5] END ................................n_estimators=39; total time=  59.7s\n",
      "[CV 2/5] END ................................n_estimators=39; total time= 1.5min\n",
      "[CV 3/5] END ................................n_estimators=39; total time=  39.7s\n",
      "[CV 4/5] END ................................n_estimators=39; total time=  14.9s\n",
      "[CV 5/5] END ................................n_estimators=39; total time= 1.1min\n",
      "[CV 1/5] END ................................n_estimators=40; total time=  30.1s\n",
      "[CV 2/5] END ................................n_estimators=40; total time=   4.7s\n",
      "[CV 3/5] END ................................n_estimators=40; total time=  12.6s\n",
      "[CV 4/5] END ................................n_estimators=40; total time=  17.7s\n",
      "[CV 5/5] END ................................n_estimators=40; total time=  16.8s\n",
      "[CV 1/5] END ................................n_estimators=41; total time=   8.4s\n",
      "[CV 2/5] END ................................n_estimators=41; total time=  19.4s\n",
      "[CV 3/5] END ................................n_estimators=41; total time=  15.8s\n",
      "[CV 4/5] END ................................n_estimators=41; total time=  10.7s\n",
      "[CV 5/5] END ................................n_estimators=41; total time=  14.5s\n"
     ]
    },
    {
     "data": {
      "text/plain": [
       "'Лучшие параметры модели LGBMRegressor:'"
      ]
     },
     "metadata": {},
     "output_type": "display_data"
    },
    {
     "data": {
      "text/plain": [
       "{'n_estimators': 41}"
      ]
     },
     "metadata": {},
     "output_type": "display_data"
    },
    {
     "data": {
      "text/plain": [
       "'Дали RMSE модели:'"
      ]
     },
     "metadata": {},
     "output_type": "display_data"
    },
    {
     "data": {
      "text/plain": [
       "-25.753923496989575"
      ]
     },
     "metadata": {},
     "output_type": "display_data"
    }
   ],
   "source": [
    "parameters = {'n_estimators':range(38, 42, 1)}\n",
    "rmse, best_parameters = model_look (LGBMRegressor(random_state=12345), parameters)\n",
    "display('Лучшие параметры модели LGBMRegressor:', best_parameters)\n",
    "display('Дали RMSE модели:', rmse)"
   ]
  },
  {
   "cell_type": "code",
   "execution_count": 24,
   "metadata": {},
   "outputs": [
    {
     "data": {
      "text/html": [
       "<div>\n",
       "<style scoped>\n",
       "    .dataframe tbody tr th:only-of-type {\n",
       "        vertical-align: middle;\n",
       "    }\n",
       "\n",
       "    .dataframe tbody tr th {\n",
       "        vertical-align: top;\n",
       "    }\n",
       "\n",
       "    .dataframe thead th {\n",
       "        text-align: right;\n",
       "    }\n",
       "</style>\n",
       "<table border=\"1\" class=\"dataframe\">\n",
       "  <thead>\n",
       "    <tr style=\"text-align: right;\">\n",
       "      <th></th>\n",
       "      <th>model</th>\n",
       "      <th>best_parameters_train</th>\n",
       "      <th>RMSE_train</th>\n",
       "    </tr>\n",
       "  </thead>\n",
       "  <tbody>\n",
       "    <tr>\n",
       "      <th>0</th>\n",
       "      <td>LinearRegression</td>\n",
       "      <td>{'fit_intercept': False, 'normalize': True}</td>\n",
       "      <td>-2.317099e+10</td>\n",
       "    </tr>\n",
       "    <tr>\n",
       "      <th>1</th>\n",
       "      <td>CatBoostRegressor</td>\n",
       "      <td>{'depth': 4, 'iterations': 21}</td>\n",
       "      <td>-2.618524e+01</td>\n",
       "    </tr>\n",
       "    <tr>\n",
       "      <th>2</th>\n",
       "      <td>LGBMRegressor</td>\n",
       "      <td>{'n_estimators': 41}</td>\n",
       "      <td>-2.575392e+01</td>\n",
       "    </tr>\n",
       "  </tbody>\n",
       "</table>\n",
       "</div>"
      ],
      "text/plain": [
       "               model                        best_parameters_train  \\\n",
       "0   LinearRegression  {'fit_intercept': False, 'normalize': True}   \n",
       "1  CatBoostRegressor               {'depth': 4, 'iterations': 21}   \n",
       "2      LGBMRegressor                         {'n_estimators': 41}   \n",
       "\n",
       "     RMSE_train  \n",
       "0 -2.317099e+10  \n",
       "1 -2.618524e+01  \n",
       "2 -2.575392e+01  "
      ]
     },
     "execution_count": 24,
     "metadata": {},
     "output_type": "execute_result"
    }
   ],
   "source": [
    "results = results.append({'model':'LGBMRegressor', 'best_parameters_train':best_parameters, 'RMSE_train':rmse}, ignore_index=True)\n",
    "results"
   ]
  },
  {
   "cell_type": "markdown",
   "metadata": {},
   "source": [
    "В процессе обучения моделей на обучающей выборке лучше всего себя показала модель линейной регрессии. Проверим качество предсказаний наших моделей на тестовой выборке"
   ]
  },
  {
   "cell_type": "markdown",
   "metadata": {},
   "source": [
    "## Тестирование"
   ]
  },
  {
   "cell_type": "markdown",
   "metadata": {},
   "source": [
    "Создадим функцию обучения моделей с выводом значения метрики RMSE и графическим представлением соотношений предсказаний с реальными значениями"
   ]
  },
  {
   "cell_type": "code",
   "execution_count": 25,
   "metadata": {},
   "outputs": [],
   "source": [
    "def ml_result(model):\n",
    "    \n",
    "    model.fit(features_train, target_train)\n",
    "    predictions = model.predict(features_test)\n",
    "    \n",
    "    rmse = mean_squared_error(target_test, predictions)**0.5\n",
    "\n",
    "    plt.figure(figsize=(15,5))\n",
    "    plt.title('Сравнение реальных значений и предсказанных')\n",
    "\n",
    "    plt.plot(target_test.index, predictions, 'r', label='Предсказания')\n",
    "    plt.plot(target_test.index, target_test.values, 'g', label='Реальные значения')\n",
    "    plt.legend(loc=\"upper left\")\n",
    "    plt.grid(True)\n",
    "    \n",
    "    return rmse"
   ]
  },
  {
   "cell_type": "markdown",
   "metadata": {},
   "source": [
    "### LinearRegression"
   ]
  },
  {
   "cell_type": "code",
   "execution_count": 31,
   "metadata": {},
   "outputs": [
    {
     "data": {
      "text/html": [
       "<div>\n",
       "<style scoped>\n",
       "    .dataframe tbody tr th:only-of-type {\n",
       "        vertical-align: middle;\n",
       "    }\n",
       "\n",
       "    .dataframe tbody tr th {\n",
       "        vertical-align: top;\n",
       "    }\n",
       "\n",
       "    .dataframe thead th {\n",
       "        text-align: right;\n",
       "    }\n",
       "</style>\n",
       "<table border=\"1\" class=\"dataframe\">\n",
       "  <thead>\n",
       "    <tr style=\"text-align: right;\">\n",
       "      <th></th>\n",
       "      <th>model</th>\n",
       "      <th>best_parameters_train</th>\n",
       "      <th>RMSE_train</th>\n",
       "      <th>rmse_test</th>\n",
       "    </tr>\n",
       "  </thead>\n",
       "  <tbody>\n",
       "    <tr>\n",
       "      <th>0</th>\n",
       "      <td>LinearRegression</td>\n",
       "      <td>{'fit_intercept': False, 'normalize': True}</td>\n",
       "      <td>-2.317099e+10</td>\n",
       "      <td>45.291905</td>\n",
       "    </tr>\n",
       "    <tr>\n",
       "      <th>1</th>\n",
       "      <td>CatBoostRegressor</td>\n",
       "      <td>{'depth': 4, 'iterations': 21}</td>\n",
       "      <td>-2.618524e+01</td>\n",
       "      <td>45.049955</td>\n",
       "    </tr>\n",
       "    <tr>\n",
       "      <th>2</th>\n",
       "      <td>LGBMRegressor</td>\n",
       "      <td>{'n_estimators': 41}</td>\n",
       "      <td>-2.575392e+01</td>\n",
       "      <td>43.988476</td>\n",
       "    </tr>\n",
       "    <tr>\n",
       "      <th>3</th>\n",
       "      <td>NaN</td>\n",
       "      <td>NaN</td>\n",
       "      <td>NaN</td>\n",
       "      <td>45.049955</td>\n",
       "    </tr>\n",
       "    <tr>\n",
       "      <th>4</th>\n",
       "      <td>NaN</td>\n",
       "      <td>NaN</td>\n",
       "      <td>NaN</td>\n",
       "      <td>43.988476</td>\n",
       "    </tr>\n",
       "  </tbody>\n",
       "</table>\n",
       "</div>"
      ],
      "text/plain": [
       "               model                        best_parameters_train  \\\n",
       "0   LinearRegression  {'fit_intercept': False, 'normalize': True}   \n",
       "1  CatBoostRegressor               {'depth': 4, 'iterations': 21}   \n",
       "2      LGBMRegressor                         {'n_estimators': 41}   \n",
       "3                NaN                                          NaN   \n",
       "4                NaN                                          NaN   \n",
       "\n",
       "     RMSE_train  rmse_test  \n",
       "0 -2.317099e+10  45.291905  \n",
       "1 -2.618524e+01  45.049955  \n",
       "2 -2.575392e+01  43.988476  \n",
       "3           NaN  45.049955  \n",
       "4           NaN  43.988476  "
      ]
     },
     "execution_count": 31,
     "metadata": {},
     "output_type": "execute_result"
    },
    {
     "data": {
      "image/png": "[encoded data removed]",
      "text/plain": [
       "<Figure size 1080x360 with 1 Axes>"
      ]
     },
     "metadata": {
      "needs_background": "light"
     },
     "output_type": "display_data"
    }
   ],
   "source": [
    "rmse = ml_result(LinearRegression(fit_intercept=True, normalize=False))\n",
    "results.loc[0, 'rmse_test'] = rmse\n",
    "results"
   ]
  },
  {
   "cell_type": "markdown",
   "metadata": {},
   "source": [
    "### CatBoostRegressor"
   ]
  },
  {
   "cell_type": "code",
   "execution_count": 29,
   "metadata": {},
   "outputs": [
    {
     "name": "stdout",
     "output_type": "stream",
     "text": [
      "0:\tlearn: 31.5607624\ttotal: 2.58ms\tremaining: 51.7ms\n",
      "1:\tlearn: 28.6334431\ttotal: 5.25ms\tremaining: 49.9ms\n",
      "2:\tlearn: 27.1957190\ttotal: 7.65ms\tremaining: 45.9ms\n",
      "3:\tlearn: 26.2693930\ttotal: 9.94ms\tremaining: 42.2ms\n",
      "4:\tlearn: 25.6829323\ttotal: 12.3ms\tremaining: 39.5ms\n",
      "5:\tlearn: 25.3545687\ttotal: 14.6ms\tremaining: 36.5ms\n",
      "6:\tlearn: 25.2772558\ttotal: 16.9ms\tremaining: 33.7ms\n",
      "7:\tlearn: 24.8975363\ttotal: 19.2ms\tremaining: 31.2ms\n",
      "8:\tlearn: 24.6829293\ttotal: 21.8ms\tremaining: 29ms\n",
      "9:\tlearn: 24.6100207\ttotal: 24ms\tremaining: 26.4ms\n",
      "10:\tlearn: 24.3835204\ttotal: 26.3ms\tremaining: 23.9ms\n",
      "11:\tlearn: 24.3376453\ttotal: 28.5ms\tremaining: 21.4ms\n",
      "12:\tlearn: 24.1797893\ttotal: 30.8ms\tremaining: 18.9ms\n",
      "13:\tlearn: 23.8956868\ttotal: 33ms\tremaining: 16.5ms\n",
      "14:\tlearn: 23.7404136\ttotal: 35.3ms\tremaining: 14.1ms\n",
      "15:\tlearn: 23.5424917\ttotal: 37.6ms\tremaining: 11.7ms\n",
      "16:\tlearn: 23.4218473\ttotal: 39.9ms\tremaining: 9.38ms\n",
      "17:\tlearn: 23.1888179\ttotal: 42.5ms\tremaining: 7.08ms\n",
      "18:\tlearn: 22.9615482\ttotal: 44.8ms\tremaining: 4.72ms\n",
      "19:\tlearn: 22.7415981\ttotal: 47.2ms\tremaining: 2.36ms\n",
      "20:\tlearn: 22.5785888\ttotal: 49.5ms\tremaining: 0us\n"
     ]
    },
    {
     "data": {
      "text/html": [
       "<div>\n",
       "<style scoped>\n",
       "    .dataframe tbody tr th:only-of-type {\n",
       "        vertical-align: middle;\n",
       "    }\n",
       "\n",
       "    .dataframe tbody tr th {\n",
       "        vertical-align: top;\n",
       "    }\n",
       "\n",
       "    .dataframe thead th {\n",
       "        text-align: right;\n",
       "    }\n",
       "</style>\n",
       "<table border=\"1\" class=\"dataframe\">\n",
       "  <thead>\n",
       "    <tr style=\"text-align: right;\">\n",
       "      <th></th>\n",
       "      <th>model</th>\n",
       "      <th>best_parameters_train</th>\n",
       "      <th>RMSE_train</th>\n",
       "      <th>rmse_test</th>\n",
       "    </tr>\n",
       "  </thead>\n",
       "  <tbody>\n",
       "    <tr>\n",
       "      <th>0</th>\n",
       "      <td>LinearRegression</td>\n",
       "      <td>{'fit_intercept': False, 'normalize': True}</td>\n",
       "      <td>-2.317099e+10</td>\n",
       "      <td>45.291905</td>\n",
       "    </tr>\n",
       "    <tr>\n",
       "      <th>1</th>\n",
       "      <td>CatBoostRegressor</td>\n",
       "      <td>{'depth': 4, 'iterations': 21}</td>\n",
       "      <td>-2.618524e+01</td>\n",
       "      <td>45.049955</td>\n",
       "    </tr>\n",
       "    <tr>\n",
       "      <th>2</th>\n",
       "      <td>LGBMRegressor</td>\n",
       "      <td>{'n_estimators': 41}</td>\n",
       "      <td>-2.575392e+01</td>\n",
       "      <td>NaN</td>\n",
       "    </tr>\n",
       "    <tr>\n",
       "      <th>3</th>\n",
       "      <td>NaN</td>\n",
       "      <td>NaN</td>\n",
       "      <td>NaN</td>\n",
       "      <td>45.049955</td>\n",
       "    </tr>\n",
       "    <tr>\n",
       "      <th>4</th>\n",
       "      <td>NaN</td>\n",
       "      <td>NaN</td>\n",
       "      <td>NaN</td>\n",
       "      <td>43.988476</td>\n",
       "    </tr>\n",
       "  </tbody>\n",
       "</table>\n",
       "</div>"
      ],
      "text/plain": [
       "               model                        best_parameters_train  \\\n",
       "0   LinearRegression  {'fit_intercept': False, 'normalize': True}   \n",
       "1  CatBoostRegressor               {'depth': 4, 'iterations': 21}   \n",
       "2      LGBMRegressor                         {'n_estimators': 41}   \n",
       "3                NaN                                          NaN   \n",
       "4                NaN                                          NaN   \n",
       "\n",
       "     RMSE_train  rmse_test  \n",
       "0 -2.317099e+10  45.291905  \n",
       "1 -2.618524e+01  45.049955  \n",
       "2 -2.575392e+01        NaN  \n",
       "3           NaN  45.049955  \n",
       "4           NaN  43.988476  "
      ]
     },
     "execution_count": 29,
     "metadata": {},
     "output_type": "execute_result"
    },
    {
     "data": {
      "image/png": "[encoded data removed]",
      "text/plain": [
       "<Figure size 1080x360 with 1 Axes>"
      ]
     },
     "metadata": {
      "needs_background": "light"
     },
     "output_type": "display_data"
    }
   ],
   "source": [
    "rmse = ml_result(CatBoostRegressor(loss_function=\"RMSE\", learning_rate = 0.5, depth=4, iterations=21))\n",
    "results.loc[1, 'rmse_test'] = rmse\n",
    "results"
   ]
  },
  {
   "cell_type": "markdown",
   "metadata": {},
   "source": [
    "### LGBMRegressor"
   ]
  },
  {
   "cell_type": "code",
   "execution_count": 30,
   "metadata": {},
   "outputs": [
    {
     "data": {
      "text/html": [
       "<div>\n",
       "<style scoped>\n",
       "    .dataframe tbody tr th:only-of-type {\n",
       "        vertical-align: middle;\n",
       "    }\n",
       "\n",
       "    .dataframe tbody tr th {\n",
       "        vertical-align: top;\n",
       "    }\n",
       "\n",
       "    .dataframe thead th {\n",
       "        text-align: right;\n",
       "    }\n",
       "</style>\n",
       "<table border=\"1\" class=\"dataframe\">\n",
       "  <thead>\n",
       "    <tr style=\"text-align: right;\">\n",
       "      <th></th>\n",
       "      <th>model</th>\n",
       "      <th>best_parameters_train</th>\n",
       "      <th>RMSE_train</th>\n",
       "      <th>rmse_test</th>\n",
       "    </tr>\n",
       "  </thead>\n",
       "  <tbody>\n",
       "    <tr>\n",
       "      <th>0</th>\n",
       "      <td>LinearRegression</td>\n",
       "      <td>{'fit_intercept': False, 'normalize': True}</td>\n",
       "      <td>-2.317099e+10</td>\n",
       "      <td>45.291905</td>\n",
       "    </tr>\n",
       "    <tr>\n",
       "      <th>1</th>\n",
       "      <td>CatBoostRegressor</td>\n",
       "      <td>{'depth': 4, 'iterations': 21}</td>\n",
       "      <td>-2.618524e+01</td>\n",
       "      <td>45.049955</td>\n",
       "    </tr>\n",
       "    <tr>\n",
       "      <th>2</th>\n",
       "      <td>LGBMRegressor</td>\n",
       "      <td>{'n_estimators': 41}</td>\n",
       "      <td>-2.575392e+01</td>\n",
       "      <td>43.988476</td>\n",
       "    </tr>\n",
       "    <tr>\n",
       "      <th>3</th>\n",
       "      <td>NaN</td>\n",
       "      <td>NaN</td>\n",
       "      <td>NaN</td>\n",
       "      <td>45.049955</td>\n",
       "    </tr>\n",
       "    <tr>\n",
       "      <th>4</th>\n",
       "      <td>NaN</td>\n",
       "      <td>NaN</td>\n",
       "      <td>NaN</td>\n",
       "      <td>43.988476</td>\n",
       "    </tr>\n",
       "  </tbody>\n",
       "</table>\n",
       "</div>"
      ],
      "text/plain": [
       "               model                        best_parameters_train  \\\n",
       "0   LinearRegression  {'fit_intercept': False, 'normalize': True}   \n",
       "1  CatBoostRegressor               {'depth': 4, 'iterations': 21}   \n",
       "2      LGBMRegressor                         {'n_estimators': 41}   \n",
       "3                NaN                                          NaN   \n",
       "4                NaN                                          NaN   \n",
       "\n",
       "     RMSE_train  rmse_test  \n",
       "0 -2.317099e+10  45.291905  \n",
       "1 -2.618524e+01  45.049955  \n",
       "2 -2.575392e+01  43.988476  \n",
       "3           NaN  45.049955  \n",
       "4           NaN  43.988476  "
      ]
     },
     "execution_count": 30,
     "metadata": {},
     "output_type": "execute_result"
    },
    {
     "data": {
      "image/png": "[encoded data removed]",
      "text/plain": [
       "<Figure size 1080x360 with 1 Axes>"
      ]
     },
     "metadata": {
      "needs_background": "light"
     },
     "output_type": "display_data"
    }
   ],
   "source": [
    "rmse = ml_result(LGBMRegressor(random_state=12345, n_estimators=41))\n",
    "results.loc[2, 'rmse_test'] = rmse\n",
    "results"
   ]
  },
  {
   "cell_type": "markdown",
   "metadata": {},
   "source": [
    "**Вывод:**\n",
    "\n",
    "Для получения результата в принятии решений в условиях задачи мной выполнено:\n",
    "\n",
    "Рассемплирование временного ряда по часу, выявлены тренды и сезонность.\n",
    "\n",
    "Обучила моделями линейной регрессии, CatBoostRegressor и LGBMRegressor\n",
    "\n",
    "Нашела лучшие гиперпараметры данных моделей при обучении на обучающей выборке\n",
    "\n",
    "Проверила модели с лучшими гиперпараметрами на тестовой выборке\n",
    "\n",
    "В процессе проверки наших моделей на тестовой выборке все модели уложились в значение метрики RMSE не более 48. Наилучшие значения оказались у модели LGBMRegressor. Данную модель можно рекомендовать к исполнению."
   ]
  }
 ],
 "metadata": {
  "ExecuteTimeLog": [
   {
    "duration": 1604,
    "start_time": "2022-08-03T16:01:06.652Z"
   },
   {
    "duration": 134,
    "start_time": "2022-08-03T16:01:51.418Z"
   },
   {
    "duration": 10,
    "start_time": "2022-08-03T16:02:31.414Z"
   },
   {
    "duration": 16,
    "start_time": "2022-08-03T16:02:50.019Z"
   },
   {
    "duration": 3,
    "start_time": "2022-08-03T16:03:34.441Z"
   },
   {
    "duration": 215,
    "start_time": "2022-08-03T16:04:23.548Z"
   },
   {
    "duration": 199,
    "start_time": "2022-08-03T16:05:03.035Z"
   },
   {
    "duration": 864,
    "start_time": "2022-08-03T16:05:57.054Z"
   },
   {
    "duration": 180,
    "start_time": "2022-08-03T16:06:30.910Z"
   },
   {
    "duration": 291,
    "start_time": "2022-08-03T16:07:20.612Z"
   },
   {
    "duration": 4,
    "start_time": "2022-08-03T16:08:13.959Z"
   },
   {
    "duration": 39,
    "start_time": "2022-08-03T16:08:28.445Z"
   },
   {
    "duration": 14,
    "start_time": "2022-08-03T16:09:10.017Z"
   },
   {
    "duration": 4,
    "start_time": "2022-08-03T16:09:52.909Z"
   },
   {
    "duration": 3,
    "start_time": "2022-08-03T16:10:22.307Z"
   },
   {
    "duration": 89,
    "start_time": "2022-08-03T16:11:16.522Z"
   },
   {
    "duration": 12642,
    "start_time": "2022-08-03T16:11:46.202Z"
   },
   {
    "duration": 28016,
    "start_time": "2022-08-03T16:12:22.398Z"
   },
   {
    "duration": 1558,
    "start_time": "2022-08-03T16:13:46.899Z"
   },
   {
    "duration": 3,
    "start_time": "2022-08-03T16:14:20.240Z"
   },
   {
    "duration": 1111,
    "start_time": "2022-08-03T16:14:33.105Z"
   },
   {
    "duration": 1703,
    "start_time": "2022-08-03T16:16:53.611Z"
   },
   {
    "duration": 5,
    "start_time": "2022-08-03T16:17:38.353Z"
   },
   {
    "duration": 5,
    "start_time": "2022-08-03T16:18:06.441Z"
   },
   {
    "duration": 5,
    "start_time": "2022-08-03T16:18:42.687Z"
   },
   {
    "duration": 1762,
    "start_time": "2022-08-04T17:05:01.643Z"
   },
   {
    "duration": 158,
    "start_time": "2022-08-04T17:05:06.463Z"
   },
   {
    "duration": 9,
    "start_time": "2022-08-04T17:05:08.201Z"
   },
   {
    "duration": 24,
    "start_time": "2022-08-04T17:05:08.724Z"
   },
   {
    "duration": 5,
    "start_time": "2022-08-04T17:05:11.752Z"
   },
   {
    "duration": 228,
    "start_time": "2022-08-04T17:05:18.857Z"
   },
   {
    "duration": 187,
    "start_time": "2022-08-04T17:05:23.031Z"
   },
   {
    "duration": 757,
    "start_time": "2022-08-04T17:05:26.232Z"
   },
   {
    "duration": 46,
    "start_time": "2022-08-04T17:06:56.562Z"
   },
   {
    "duration": 239,
    "start_time": "2022-08-04T17:07:10.432Z"
   },
   {
    "duration": 1539,
    "start_time": "2022-08-04T17:10:30.460Z"
   },
   {
    "duration": 177,
    "start_time": "2022-08-04T17:12:08.251Z"
   },
   {
    "duration": 189,
    "start_time": "2022-08-04T17:12:36.668Z"
   },
   {
    "duration": 155,
    "start_time": "2022-08-04T17:13:47.929Z"
   },
   {
    "duration": 202,
    "start_time": "2022-08-04T17:15:30.662Z"
   },
   {
    "duration": 255,
    "start_time": "2022-08-04T17:18:13.848Z"
   },
   {
    "duration": 312,
    "start_time": "2022-08-04T17:19:18.726Z"
   },
   {
    "duration": 179,
    "start_time": "2022-08-04T17:20:54.408Z"
   },
   {
    "duration": 308,
    "start_time": "2022-08-04T17:21:12.724Z"
   },
   {
    "duration": 176,
    "start_time": "2022-08-04T17:33:41.828Z"
   },
   {
    "duration": 200,
    "start_time": "2022-08-04T17:33:55.081Z"
   },
   {
    "duration": 145,
    "start_time": "2022-08-04T17:36:08.924Z"
   },
   {
    "duration": 207,
    "start_time": "2022-08-04T17:36:33.044Z"
   },
   {
    "duration": 145,
    "start_time": "2022-08-04T17:36:38.835Z"
   },
   {
    "duration": 262,
    "start_time": "2022-08-04T17:37:59.032Z"
   },
   {
    "duration": 208,
    "start_time": "2022-08-04T17:38:04.831Z"
   },
   {
    "duration": 299,
    "start_time": "2022-08-04T17:40:22.321Z"
   },
   {
    "duration": 5,
    "start_time": "2022-08-04T17:50:43.924Z"
   },
   {
    "duration": 19,
    "start_time": "2022-08-04T17:53:06.357Z"
   },
   {
    "duration": 34,
    "start_time": "2022-08-04T17:53:33.390Z"
   },
   {
    "duration": 4,
    "start_time": "2022-08-04T17:54:08.149Z"
   },
   {
    "duration": 37,
    "start_time": "2022-08-04T17:54:23.942Z"
   },
   {
    "duration": 12,
    "start_time": "2022-08-04T17:55:08.182Z"
   },
   {
    "duration": 4,
    "start_time": "2022-08-04T17:55:15.342Z"
   },
   {
    "duration": 3,
    "start_time": "2022-08-04T17:55:22.374Z"
   },
   {
    "duration": 93,
    "start_time": "2022-08-04T17:55:30.623Z"
   },
   {
    "duration": 12,
    "start_time": "2022-08-04T18:10:09.967Z"
   },
   {
    "duration": 4,
    "start_time": "2022-08-04T18:11:27.628Z"
   },
   {
    "duration": 2,
    "start_time": "2022-08-04T18:11:37.524Z"
   },
   {
    "duration": 63,
    "start_time": "2022-08-04T18:12:34.428Z"
   },
   {
    "duration": 5,
    "start_time": "2022-08-04T18:13:36.882Z"
   },
   {
    "duration": 814,
    "start_time": "2022-08-04T18:13:43.499Z"
   },
   {
    "duration": 56,
    "start_time": "2022-08-04T18:14:13.632Z"
   },
   {
    "duration": 15,
    "start_time": "2022-08-04T18:15:56.051Z"
   },
   {
    "duration": 10,
    "start_time": "2022-08-04T18:16:23.045Z"
   },
   {
    "duration": 317503,
    "start_time": "2022-08-04T18:16:30.395Z"
   },
   {
    "duration": 68,
    "start_time": "2022-08-04T18:21:47.900Z"
   },
   {
    "duration": 13,
    "start_time": "2022-08-04T18:32:23.937Z"
   },
   {
    "duration": 1428,
    "start_time": "2022-08-04T18:45:02.938Z"
   },
   {
    "duration": 79,
    "start_time": "2022-08-04T18:45:07.983Z"
   },
   {
    "duration": 13,
    "start_time": "2022-08-04T18:45:10.738Z"
   },
   {
    "duration": 17,
    "start_time": "2022-08-04T18:45:11.832Z"
   },
   {
    "duration": 4,
    "start_time": "2022-08-04T18:45:14.937Z"
   },
   {
    "duration": 264,
    "start_time": "2022-08-04T18:45:16.832Z"
   },
   {
    "duration": 205,
    "start_time": "2022-08-04T18:45:18.999Z"
   },
   {
    "duration": 761,
    "start_time": "2022-08-04T18:45:21.639Z"
   },
   {
    "duration": 147,
    "start_time": "2022-08-04T18:45:28.728Z"
   },
   {
    "duration": 171,
    "start_time": "2022-08-04T18:45:31.735Z"
   },
   {
    "duration": 293,
    "start_time": "2022-08-04T18:45:37.359Z"
   },
   {
    "duration": 4,
    "start_time": "2022-08-04T18:46:06.200Z"
   },
   {
    "duration": 37,
    "start_time": "2022-08-04T18:46:08.524Z"
   },
   {
    "duration": 14,
    "start_time": "2022-08-04T18:46:12.488Z"
   },
   {
    "duration": 4,
    "start_time": "2022-08-04T18:46:16.088Z"
   },
   {
    "duration": 3,
    "start_time": "2022-08-04T18:46:32.873Z"
   },
   {
    "duration": 5,
    "start_time": "2022-08-04T18:47:25.530Z"
   },
   {
    "duration": 4490,
    "start_time": "2022-08-04T18:48:23.641Z"
   },
   {
    "duration": 13,
    "start_time": "2022-08-04T18:49:01.525Z"
   },
   {
    "duration": 128,
    "start_time": "2022-08-04T18:49:46.932Z"
   },
   {
    "duration": 4,
    "start_time": "2022-08-04T18:50:42.235Z"
   },
   {
    "duration": 30505,
    "start_time": "2022-08-04T18:50:48.435Z"
   },
   {
    "duration": 16,
    "start_time": "2022-08-04T18:52:07.913Z"
   },
   {
    "duration": 65,
    "start_time": "2022-08-04T19:09:34.213Z"
   },
   {
    "duration": 1558,
    "start_time": "2022-08-04T19:10:01.594Z"
   },
   {
    "duration": 63,
    "start_time": "2022-08-04T19:10:09.226Z"
   },
   {
    "duration": 9,
    "start_time": "2022-08-04T19:10:11.230Z"
   },
   {
    "duration": 16,
    "start_time": "2022-08-04T19:10:12.078Z"
   },
   {
    "duration": 3,
    "start_time": "2022-08-04T19:10:19.558Z"
   },
   {
    "duration": 246,
    "start_time": "2022-08-04T19:10:21.183Z"
   },
   {
    "duration": 221,
    "start_time": "2022-08-04T19:10:22.566Z"
   },
   {
    "duration": 765,
    "start_time": "2022-08-04T19:10:24.537Z"
   },
   {
    "duration": 170,
    "start_time": "2022-08-04T19:10:27.160Z"
   },
   {
    "duration": 214,
    "start_time": "2022-08-04T19:10:29.343Z"
   },
   {
    "duration": 317,
    "start_time": "2022-08-04T19:10:34.536Z"
   },
   {
    "duration": 4,
    "start_time": "2022-08-04T19:10:36.967Z"
   },
   {
    "duration": 39,
    "start_time": "2022-08-04T19:10:43.337Z"
   },
   {
    "duration": 16,
    "start_time": "2022-08-04T19:10:44.829Z"
   },
   {
    "duration": 4,
    "start_time": "2022-08-04T19:10:46.158Z"
   },
   {
    "duration": 3,
    "start_time": "2022-08-04T19:10:48.575Z"
   },
   {
    "duration": 5,
    "start_time": "2022-08-04T19:10:50.033Z"
   },
   {
    "duration": 4135,
    "start_time": "2022-08-04T19:10:51.679Z"
   },
   {
    "duration": 12,
    "start_time": "2022-08-04T19:11:00.138Z"
   },
   {
    "duration": 37127,
    "start_time": "2022-08-04T19:11:01.734Z"
   },
   {
    "duration": 13,
    "start_time": "2022-08-04T19:11:43.037Z"
   },
   {
    "duration": 3330564,
    "start_time": "2022-08-04T19:11:48.095Z"
   },
   {
    "duration": 14,
    "start_time": "2022-08-04T20:07:59.824Z"
   },
   {
    "duration": 16,
    "start_time": "2022-08-04T20:08:13.422Z"
   },
   {
    "duration": 1482,
    "start_time": "2022-08-04T20:08:31.626Z"
   },
   {
    "duration": 63,
    "start_time": "2022-08-04T20:08:33.726Z"
   },
   {
    "duration": 8,
    "start_time": "2022-08-04T20:08:35.477Z"
   },
   {
    "duration": 18,
    "start_time": "2022-08-04T20:08:36.420Z"
   },
   {
    "duration": 7,
    "start_time": "2022-08-04T20:08:51.406Z"
   },
   {
    "duration": 223,
    "start_time": "2022-08-04T20:08:53.574Z"
   },
   {
    "duration": 180,
    "start_time": "2022-08-04T20:08:54.724Z"
   },
   {
    "duration": 707,
    "start_time": "2022-08-04T20:08:56.174Z"
   },
   {
    "duration": 160,
    "start_time": "2022-08-04T20:08:58.565Z"
   },
   {
    "duration": 159,
    "start_time": "2022-08-04T20:09:00.124Z"
   },
   {
    "duration": 291,
    "start_time": "2022-08-04T20:09:02.933Z"
   },
   {
    "duration": 4,
    "start_time": "2022-08-04T20:09:06.024Z"
   },
   {
    "duration": 39,
    "start_time": "2022-08-04T20:09:07.733Z"
   },
   {
    "duration": 12,
    "start_time": "2022-08-04T20:09:09.224Z"
   },
   {
    "duration": 7,
    "start_time": "2022-08-04T20:09:10.610Z"
   },
   {
    "duration": 3,
    "start_time": "2022-08-04T20:09:13.685Z"
   },
   {
    "duration": 4,
    "start_time": "2022-08-04T20:09:15.126Z"
   },
   {
    "duration": 4017,
    "start_time": "2022-08-04T20:09:16.514Z"
   },
   {
    "duration": 8,
    "start_time": "2022-08-04T20:09:33.246Z"
   },
   {
    "duration": 31491,
    "start_time": "2022-08-04T20:09:36.438Z"
   },
   {
    "duration": 10,
    "start_time": "2022-08-04T20:10:07.931Z"
   },
   {
    "duration": 768615,
    "start_time": "2022-08-04T20:10:27.226Z"
   },
   {
    "duration": 834456,
    "start_time": "2022-08-04T20:23:23.174Z"
   },
   {
    "duration": 11,
    "start_time": "2022-08-04T20:37:29.783Z"
   },
   {
    "duration": 4,
    "start_time": "2022-08-04T20:38:29.828Z"
   },
   {
    "duration": 535,
    "start_time": "2022-08-04T20:38:35.256Z"
   },
   {
    "duration": 704,
    "start_time": "2022-08-04T20:38:49.824Z"
   },
   {
    "duration": 63246,
    "start_time": "2022-08-04T20:39:00.496Z"
   },
   {
    "duration": 803,
    "start_time": "2022-08-04T20:43:26.170Z"
   },
   {
    "duration": 2025,
    "start_time": "2022-08-04T20:44:00.955Z"
   },
   {
    "duration": 434,
    "start_time": "2022-08-04T20:44:42.580Z"
   }
  ],
  "kernelspec": {
   "display_name": "Python 3 (ipykernel)",
   "language": "python",
   "name": "python3"
  },
  "language_info": {
   "codemirror_mode": {
    "name": "ipython",
    "version": 3
   },
   "file_extension": ".py",
   "mimetype": "text/x-python",
   "name": "python",
   "nbconvert_exporter": "python",
   "pygments_lexer": "ipython3",
   "version": "3.9.12"
  },
  "toc": {
   "base_numbering": 1,
   "nav_menu": {},
   "number_sections": true,
   "sideBar": true,
   "skip_h1_title": true,
   "title_cell": "Содержание",
   "title_sidebar": "Contents",
   "toc_cell": true,
   "toc_position": {},
   "toc_section_display": true,
   "toc_window_display": false
  }
 },
 "nbformat": 4,
 "nbformat_minor": 2
}
